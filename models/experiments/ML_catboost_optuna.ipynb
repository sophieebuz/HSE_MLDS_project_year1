{
 "cells": [
  {
   "cell_type": "markdown",
   "metadata": {},
   "source": [
    "В данном ноутбуке попробуем подобрать гипер параметры для модели Catboost с помощью библиотеки optuna."
   ]
  },
  {
   "cell_type": "code",
   "execution_count": 1,
   "metadata": {
    "colab": {
     "base_uri": "https://localhost:8080/"
    },
    "id": "JHhOqzJx1C_O",
    "outputId": "885ca4fc-2042-46dd-c887-fd5ff389a17c"
   },
   "outputs": [],
   "source": [
    "# !pip install catboost\n",
    "# !pip install optuna"
   ]
  },
  {
   "cell_type": "code",
   "execution_count": 2,
   "metadata": {
    "id": "2UcCmK6q1C_Q"
   },
   "outputs": [],
   "source": [
    "import pandas as pd\n",
    "from tqdm import tqdm\n",
    "import matplotlib.pyplot as plt\n",
    "from sklearn.preprocessing import LabelEncoder\n",
    "import numpy as np\n",
    "import seaborn as sns\n",
    "import matplotlib.pyplot as plt\n",
    "from catboost import CatBoostClassifier\n",
    "from catboost import Pool\n",
    "from sklearn.metrics import classification_report, confusion_matrix\n",
    "from sklearn.model_selection import train_test_split\n",
    "from sklearn.metrics import f1_score\n",
    "import time\n",
    "import optuna"
   ]
  },
  {
   "cell_type": "code",
   "execution_count": 3,
   "metadata": {
    "colab": {
     "base_uri": "https://localhost:8080/"
    },
    "id": "pFBOCRVs1C_R",
    "outputId": "567b15e7-b412-41a2-99c7-ab1e848f3441"
   },
   "outputs": [],
   "source": [
    "# from google.colab import drive\n",
    "# drive.mount('/content/drive/')"
   ]
  },
  {
   "cell_type": "code",
   "execution_count": 4,
   "metadata": {
    "id": "rqrb7Zs21C_R"
   },
   "outputs": [],
   "source": [
    "#df = pd.read_csv('/content/drive/MyDrive/data/lenta_mystem_lemmas_str_largecol_v02.csv')\n",
    "df = pd.read_csv('lenta_mystem_lemmas_str_largecol_v02.csv')"
   ]
  },
  {
   "cell_type": "code",
   "execution_count": 5,
   "metadata": {
    "colab": {
     "base_uri": "https://localhost:8080/",
     "height": 954
    },
    "id": "adjelj8l1C_S",
    "outputId": "876edfcc-45ed-442f-846a-f4b0de70d18a"
   },
   "outputs": [
    {
     "data": {
      "text/html": [
       "<div>\n",
       "<style scoped>\n",
       "    .dataframe tbody tr th:only-of-type {\n",
       "        vertical-align: middle;\n",
       "    }\n",
       "\n",
       "    .dataframe tbody tr th {\n",
       "        vertical-align: top;\n",
       "    }\n",
       "\n",
       "    .dataframe thead th {\n",
       "        text-align: right;\n",
       "    }\n",
       "</style>\n",
       "<table border=\"1\" class=\"dataframe\">\n",
       "  <thead>\n",
       "    <tr style=\"text-align: right;\">\n",
       "      <th></th>\n",
       "      <th>date</th>\n",
       "      <th>url</th>\n",
       "      <th>topic</th>\n",
       "      <th>tags</th>\n",
       "      <th>text_str</th>\n",
       "      <th>topic_le</th>\n",
       "      <th>title_lemmas</th>\n",
       "      <th>year</th>\n",
       "      <th>month</th>\n",
       "      <th>day</th>\n",
       "      <th>date_enc</th>\n",
       "      <th>season</th>\n",
       "      <th>day_of_week</th>\n",
       "      <th>dummy_weekday</th>\n",
       "    </tr>\n",
       "  </thead>\n",
       "  <tbody>\n",
       "    <tr>\n",
       "      <th>0</th>\n",
       "      <td>1999-08-31</td>\n",
       "      <td>https://lenta.ru/news/1999/08/31/stancia_mir/</td>\n",
       "      <td>Россия</td>\n",
       "      <td>Все</td>\n",
       "      <td>становиться известно агентство ассошиэйтед пре...</td>\n",
       "      <td>20</td>\n",
       "      <td>космонавт сомневаться надежность мир</td>\n",
       "      <td>1999</td>\n",
       "      <td>8</td>\n",
       "      <td>31</td>\n",
       "      <td>0</td>\n",
       "      <td>3</td>\n",
       "      <td>1</td>\n",
       "      <td>1</td>\n",
       "    </tr>\n",
       "    <tr>\n",
       "      <th>1</th>\n",
       "      <td>1999-08-31</td>\n",
       "      <td>https://lenta.ru/news/1999/08/31/vzriv/</td>\n",
       "      <td>Россия</td>\n",
       "      <td>Все</td>\n",
       "      <td>зал игровой автомат третий ярус подземный комп...</td>\n",
       "      <td>20</td>\n",
       "      <td>взрыв центр москва пострадать человек</td>\n",
       "      <td>1999</td>\n",
       "      <td>8</td>\n",
       "      <td>31</td>\n",
       "      <td>0</td>\n",
       "      <td>3</td>\n",
       "      <td>1</td>\n",
       "      <td>1</td>\n",
       "    </tr>\n",
       "    <tr>\n",
       "      <th>2</th>\n",
       "      <td>1999-08-31</td>\n",
       "      <td>https://lenta.ru/news/1999/08/31/credit_japs/</td>\n",
       "      <td>Россия</td>\n",
       "      <td>Все</td>\n",
       "      <td>япония принимать решение размораживать кредит ...</td>\n",
       "      <td>20</td>\n",
       "      <td>япония кредитовать россия полтора миллиард доллар</td>\n",
       "      <td>1999</td>\n",
       "      <td>8</td>\n",
       "      <td>31</td>\n",
       "      <td>0</td>\n",
       "      <td>3</td>\n",
       "      <td>1</td>\n",
       "      <td>1</td>\n",
       "    </tr>\n",
       "    <tr>\n",
       "      <th>3</th>\n",
       "      <td>1999-08-31</td>\n",
       "      <td>https://lenta.ru/news/1999/08/31/diana/</td>\n",
       "      <td>Мир</td>\n",
       "      <td>Все</td>\n",
       "      <td>британец отмечать сегодня скорбный дата вторую...</td>\n",
       "      <td>13</td>\n",
       "      <td>британец отмечать двухлетие смерть диана</td>\n",
       "      <td>1999</td>\n",
       "      <td>8</td>\n",
       "      <td>31</td>\n",
       "      <td>0</td>\n",
       "      <td>3</td>\n",
       "      <td>1</td>\n",
       "      <td>1</td>\n",
       "    </tr>\n",
       "    <tr>\n",
       "      <th>4</th>\n",
       "      <td>1999-08-31</td>\n",
       "      <td>https://lenta.ru/news/1999/08/31/mvf/</td>\n",
       "      <td>Россия</td>\n",
       "      <td>Все</td>\n",
       "      <td>понедельник директор департамент внешний связь...</td>\n",
       "      <td>20</td>\n",
       "      <td>отмывать bank деньги иметь отношение мвф</td>\n",
       "      <td>1999</td>\n",
       "      <td>8</td>\n",
       "      <td>31</td>\n",
       "      <td>0</td>\n",
       "      <td>3</td>\n",
       "      <td>1</td>\n",
       "      <td>1</td>\n",
       "    </tr>\n",
       "    <tr>\n",
       "      <th>...</th>\n",
       "      <td>...</td>\n",
       "      <td>...</td>\n",
       "      <td>...</td>\n",
       "      <td>...</td>\n",
       "      <td>...</td>\n",
       "      <td>...</td>\n",
       "      <td>...</td>\n",
       "      <td>...</td>\n",
       "      <td>...</td>\n",
       "      <td>...</td>\n",
       "      <td>...</td>\n",
       "      <td>...</td>\n",
       "      <td>...</td>\n",
       "      <td>...</td>\n",
       "    </tr>\n",
       "    <tr>\n",
       "      <th>1153089</th>\n",
       "      <td>2022-11-18</td>\n",
       "      <td>https://lenta.ru/news/2022/11/18/bezhh/</td>\n",
       "      <td>Мир</td>\n",
       "      <td>Общество</td>\n",
       "      <td>беженец украина избивать город кейзер американ...</td>\n",
       "      <td>13</td>\n",
       "      <td>беженец украина избивать спор нацист</td>\n",
       "      <td>2022</td>\n",
       "      <td>11</td>\n",
       "      <td>18</td>\n",
       "      <td>8472</td>\n",
       "      <td>4</td>\n",
       "      <td>4</td>\n",
       "      <td>1</td>\n",
       "    </tr>\n",
       "    <tr>\n",
       "      <th>1153090</th>\n",
       "      <td>2022-11-18</td>\n",
       "      <td>https://lenta.ru/news/2022/11/18/nurmagomedov/</td>\n",
       "      <td>Спорт</td>\n",
       "      <td>Бокс и ММА</td>\n",
       "      <td>российский боец смешанный стиль мма двоюродный...</td>\n",
       "      <td>23</td>\n",
       "      <td>брат нурмагомедов называть цель выступление be...</td>\n",
       "      <td>2022</td>\n",
       "      <td>11</td>\n",
       "      <td>18</td>\n",
       "      <td>8472</td>\n",
       "      <td>4</td>\n",
       "      <td>4</td>\n",
       "      <td>1</td>\n",
       "    </tr>\n",
       "    <tr>\n",
       "      <th>1153091</th>\n",
       "      <td>2022-11-18</td>\n",
       "      <td>https://lenta.ru/news/2022/11/18/bioprint/</td>\n",
       "      <td>Наука и техника</td>\n",
       "      <td>Будущее</td>\n",
       "      <td>ученый израильский технологический институт ра...</td>\n",
       "      <td>16</td>\n",
       "      <td>разрабатывать технология печать ткань транспла...</td>\n",
       "      <td>2022</td>\n",
       "      <td>11</td>\n",
       "      <td>18</td>\n",
       "      <td>8472</td>\n",
       "      <td>4</td>\n",
       "      <td>4</td>\n",
       "      <td>1</td>\n",
       "    </tr>\n",
       "    <tr>\n",
       "      <th>1153092</th>\n",
       "      <td>2022-11-18</td>\n",
       "      <td>https://lenta.ru/news/2022/11/18/penni/</td>\n",
       "      <td>Мир</td>\n",
       "      <td>Политика</td>\n",
       "      <td>республиканец палата представитель конгресс сш...</td>\n",
       "      <td>13</td>\n",
       "      <td>республиканец конгресс потребовать проверять к...</td>\n",
       "      <td>2022</td>\n",
       "      <td>11</td>\n",
       "      <td>18</td>\n",
       "      <td>8472</td>\n",
       "      <td>4</td>\n",
       "      <td>4</td>\n",
       "      <td>1</td>\n",
       "    </tr>\n",
       "    <tr>\n",
       "      <th>1153093</th>\n",
       "      <td>2022-11-18</td>\n",
       "      <td>https://lenta.ru/news/2022/11/18/magomedov/</td>\n",
       "      <td>Наука и техника</td>\n",
       "      <td>Гаджеты</td>\n",
       "      <td>время подзарядка пользоваться смартфон безопас...</td>\n",
       "      <td>16</td>\n",
       "      <td>россиянин предупреждать опасность использовани...</td>\n",
       "      <td>2022</td>\n",
       "      <td>11</td>\n",
       "      <td>18</td>\n",
       "      <td>8472</td>\n",
       "      <td>4</td>\n",
       "      <td>4</td>\n",
       "      <td>1</td>\n",
       "    </tr>\n",
       "  </tbody>\n",
       "</table>\n",
       "<p>1153094 rows × 14 columns</p>\n",
       "</div>"
      ],
      "text/plain": [
       "               date                                             url  \\\n",
       "0        1999-08-31   https://lenta.ru/news/1999/08/31/stancia_mir/   \n",
       "1        1999-08-31         https://lenta.ru/news/1999/08/31/vzriv/   \n",
       "2        1999-08-31   https://lenta.ru/news/1999/08/31/credit_japs/   \n",
       "3        1999-08-31         https://lenta.ru/news/1999/08/31/diana/   \n",
       "4        1999-08-31           https://lenta.ru/news/1999/08/31/mvf/   \n",
       "...             ...                                             ...   \n",
       "1153089  2022-11-18         https://lenta.ru/news/2022/11/18/bezhh/   \n",
       "1153090  2022-11-18  https://lenta.ru/news/2022/11/18/nurmagomedov/   \n",
       "1153091  2022-11-18      https://lenta.ru/news/2022/11/18/bioprint/   \n",
       "1153092  2022-11-18         https://lenta.ru/news/2022/11/18/penni/   \n",
       "1153093  2022-11-18     https://lenta.ru/news/2022/11/18/magomedov/   \n",
       "\n",
       "                   topic        tags  \\\n",
       "0                 Россия         Все   \n",
       "1                 Россия         Все   \n",
       "2                 Россия         Все   \n",
       "3                    Мир         Все   \n",
       "4                 Россия         Все   \n",
       "...                  ...         ...   \n",
       "1153089              Мир    Общество   \n",
       "1153090            Спорт  Бокс и ММА   \n",
       "1153091  Наука и техника     Будущее   \n",
       "1153092              Мир    Политика   \n",
       "1153093  Наука и техника     Гаджеты   \n",
       "\n",
       "                                                  text_str  topic_le  \\\n",
       "0        становиться известно агентство ассошиэйтед пре...        20   \n",
       "1        зал игровой автомат третий ярус подземный комп...        20   \n",
       "2        япония принимать решение размораживать кредит ...        20   \n",
       "3        британец отмечать сегодня скорбный дата вторую...        13   \n",
       "4        понедельник директор департамент внешний связь...        20   \n",
       "...                                                    ...       ...   \n",
       "1153089  беженец украина избивать город кейзер американ...        13   \n",
       "1153090  российский боец смешанный стиль мма двоюродный...        23   \n",
       "1153091  ученый израильский технологический институт ра...        16   \n",
       "1153092  республиканец палата представитель конгресс сш...        13   \n",
       "1153093  время подзарядка пользоваться смартфон безопас...        16   \n",
       "\n",
       "                                              title_lemmas  year  month  day  \\\n",
       "0                     космонавт сомневаться надежность мир  1999      8   31   \n",
       "1                    взрыв центр москва пострадать человек  1999      8   31   \n",
       "2        япония кредитовать россия полтора миллиард доллар  1999      8   31   \n",
       "3                 британец отмечать двухлетие смерть диана  1999      8   31   \n",
       "4                 отмывать bank деньги иметь отношение мвф  1999      8   31   \n",
       "...                                                    ...   ...    ...  ...   \n",
       "1153089               беженец украина избивать спор нацист  2022     11   18   \n",
       "1153090  брат нурмагомедов называть цель выступление be...  2022     11   18   \n",
       "1153091  разрабатывать технология печать ткань транспла...  2022     11   18   \n",
       "1153092  республиканец конгресс потребовать проверять к...  2022     11   18   \n",
       "1153093  россиянин предупреждать опасность использовани...  2022     11   18   \n",
       "\n",
       "         date_enc  season  day_of_week  dummy_weekday  \n",
       "0               0       3            1              1  \n",
       "1               0       3            1              1  \n",
       "2               0       3            1              1  \n",
       "3               0       3            1              1  \n",
       "4               0       3            1              1  \n",
       "...           ...     ...          ...            ...  \n",
       "1153089      8472       4            4              1  \n",
       "1153090      8472       4            4              1  \n",
       "1153091      8472       4            4              1  \n",
       "1153092      8472       4            4              1  \n",
       "1153093      8472       4            4              1  \n",
       "\n",
       "[1153094 rows x 14 columns]"
      ]
     },
     "execution_count": 5,
     "metadata": {},
     "output_type": "execute_result"
    }
   ],
   "source": [
    "df.drop('Unnamed: 0', axis=1, inplace=True)\n",
    "df"
   ]
  },
  {
   "cell_type": "code",
   "execution_count": 6,
   "metadata": {
    "colab": {
     "base_uri": "https://localhost:8080/"
    },
    "id": "m6ND1rZ81C_S",
    "outputId": "28817bed-d6e5-46df-8bb9-3b2f0d23586f"
   },
   "outputs": [
    {
     "data": {
      "text/plain": [
       "Index(['date', 'url', 'topic', 'tags', 'text_str', 'topic_le', 'title_lemmas',\n",
       "       'year', 'month', 'day', 'date_enc', 'season', 'day_of_week',\n",
       "       'dummy_weekday'],\n",
       "      dtype='object')"
      ]
     },
     "execution_count": 6,
     "metadata": {},
     "output_type": "execute_result"
    }
   ],
   "source": [
    "df.columns"
   ]
  },
  {
   "cell_type": "code",
   "execution_count": 7,
   "metadata": {
    "colab": {
     "base_uri": "https://localhost:8080/"
    },
    "id": "ZzhiPWiO1C_S",
    "outputId": "a4d13683-c707-4468-acb5-c6add9ddd259"
   },
   "outputs": [
    {
     "data": {
      "text/plain": [
       "Index(['Библиотека', 'Оружие', 'ЧМ-2014', 'Мотор', 'МедНовости', 'Сочи'], dtype='object')"
      ]
     },
     "execution_count": 7,
     "metadata": {},
     "output_type": "execute_result"
    }
   ],
   "source": [
    "df['topic'].value_counts().index[-6:]"
   ]
  },
  {
   "cell_type": "code",
   "execution_count": 8,
   "metadata": {
    "colab": {
     "base_uri": "https://localhost:8080/"
    },
    "id": "_zN32s1p1C_S",
    "outputId": "6c786797-580b-41e9-f4d3-47e361640048"
   },
   "outputs": [
    {
     "data": {
      "text/plain": [
       "Россия               241055\n",
       "Мир                  195778\n",
       "Экономика            122120\n",
       "Бывший СССР           93769\n",
       "Спорт                 91267\n",
       "Наука и техника       75609\n",
       "Культура              71765\n",
       "Интернет и СМИ        64800\n",
       "Из жизни              44812\n",
       "Силовые структуры     43287\n",
       "Путешествия           22756\n",
       "Ценности              22323\n",
       "Дом                   22132\n",
       "Среда обитания        15607\n",
       "Бизнес                 7430\n",
       "Моя страна             6128\n",
       "Нацпроекты             4728\n",
       "69-я параллель         3356\n",
       "Забота о себе          3174\n",
       "Крым                    666\n",
       "Культпросвет            340\n",
       "Легпром                 114\n",
       "Name: topic, dtype: int64"
      ]
     },
     "execution_count": 8,
     "metadata": {},
     "output_type": "execute_result"
    }
   ],
   "source": [
    "names = list(df['topic'].value_counts().index[-6:])\n",
    "df = df[~df['topic'].isin(names)]\n",
    "df['topic'].value_counts()"
   ]
  },
  {
   "cell_type": "code",
   "execution_count": 9,
   "metadata": {
    "id": "uBRNTJsH1C_T"
   },
   "outputs": [],
   "source": [
    "dftrain, dftest, ytrain, ytest = train_test_split(df, df['topic_le'],\n",
    "                                                  test_size=0.1,\n",
    "                                                  stratify=df['topic'], \n",
    "                                                  random_state=123)\n",
    "\n",
    "Xtrain, Xtest, ytrain, ytest = train_test_split(dftrain, dftrain['topic_le'],\n",
    "                                                  test_size=0.2,\n",
    "                                                  stratify=dftrain['topic'],\n",
    "                                                  random_state=123)\n",
    "\n",
    "X1, X, y1, y = train_test_split(Xtrain, Xtrain['topic_le'],\n",
    "                                                  test_size=0.05,\n",
    "                                                  stratify=Xtrain['topic'],\n",
    "                                                  random_state=123)"
   ]
  },
  {
   "cell_type": "code",
   "execution_count": 10,
   "metadata": {
    "id": "_eEZJ2ne1C_T"
   },
   "outputs": [],
   "source": [
    "del df\n",
    "del dftest\n",
    "del X1"
   ]
  },
  {
   "cell_type": "code",
   "execution_count": 11,
   "metadata": {
    "colab": {
     "base_uri": "https://localhost:8080/"
    },
    "id": "lAhvG5wC1C_U",
    "outputId": "ff98685c-dc61-4c04-dd0e-8b44c00f6df1"
   },
   "outputs": [
    {
     "data": {
      "text/plain": [
       "(207543, 14)"
      ]
     },
     "execution_count": 11,
     "metadata": {},
     "output_type": "execute_result"
    }
   ],
   "source": [
    "Xtest.shape"
   ]
  },
  {
   "cell_type": "code",
   "execution_count": 12,
   "metadata": {
    "id": "sELWXnyg1C_U"
   },
   "outputs": [],
   "source": [
    "# Соотнесения закодированного таргета и названий категорий\n",
    "dict_topic = dict(zip(Xtest.topic, Xtest.topic_le))\n",
    "dict_topic = dict(sorted(dict_topic.items(), key=lambda item: item[1]))"
   ]
  },
  {
   "cell_type": "code",
   "execution_count": 13,
   "metadata": {
    "id": "T3dkNfZa1C_U"
   },
   "outputs": [],
   "source": [
    "X_test = Xtest[['text_str', 'title_lemmas', 'date_enc', 'year', 'season', 'day_of_week']]\n",
    "\n",
    "text_cols = ['text_str', 'title_lemmas']\n",
    "cat_cols = ['year', 'day_of_week', 'season']"
   ]
  },
  {
   "cell_type": "markdown",
   "metadata": {},
   "source": [
    "Будем подбирать следующие гиперпараметры:\n",
    " - `n_estimators` - кол-во деревьев в катбусте\n",
    " - `depth` - максимальная глубина деревьев\n",
    " - `learning_rate` подбираться не будет, тк catboost сам неплохо его определяет при заданных других гиперпараметрах"
   ]
  },
  {
   "cell_type": "code",
   "execution_count": 14,
   "metadata": {
    "id": "MBSPqnav1C_V"
   },
   "outputs": [],
   "source": [
    "def objective(trial):\n",
    "    params = {\n",
    "        #\"learning_rate\": trial.suggest_float(\"learning_rate\", 0.001, 0.9),\n",
    "        \"n_estimators\": trial.suggest_int(\"n_estimators\", 800, 3000),\n",
    "        \"depth\": trial.suggest_int(\"depth\", 3, 10), \n",
    "        \"loss_function\": 'MultiClass',\n",
    "        \"eval_metric\": 'TotalF1',\n",
    "        \"verbose\": 300,\n",
    "        \"task_type\": 'GPU'\n",
    "    }\n",
    "    \n",
    "    clf = CatBoostClassifier(random_state=123, \n",
    "                             **params)\n",
    "    \n",
    "    clf.fit(X_test, ytest, text_features=text_cols, cat_features=cat_cols)\n",
    "    preds = clf.predict(X[['text_str', 'title_lemmas', 'date_enc', 'year', 'season', 'day_of_week']])\n",
    "    \n",
    "    # оцениваем качество\n",
    "    f1 = f1_score(y, preds, average='micro')\n",
    "    print(f'f1-score: {f1}')\n",
    "    #print(classification_report(y, preds, target_names=dict_topic))\n",
    "    \n",
    "    return f1"
   ]
  },
  {
   "cell_type": "code",
   "execution_count": 15,
   "metadata": {},
   "outputs": [
    {
     "name": "stderr",
     "output_type": "stream",
     "text": [
      "\u001b[32m[I 2023-02-27 13:43:21,594]\u001b[0m A new study created in memory with name: catboost\u001b[0m\n"
     ]
    },
    {
     "name": "stdout",
     "output_type": "stream",
     "text": [
      "Learning rate set to 0.106558\n",
      "0:\tlearn: 0.5788394\ttotal: 618ms\tremaining: 20m 57s\n",
      "300:\tlearn: 0.8352138\ttotal: 1m 53s\tremaining: 10m 53s\n",
      "600:\tlearn: 0.8547123\ttotal: 3m 37s\tremaining: 8m 39s\n",
      "900:\tlearn: 0.8665759\ttotal: 5m 17s\tremaining: 6m 40s\n",
      "1200:\tlearn: 0.8747240\ttotal: 6m 53s\tremaining: 4m 48s\n",
      "1500:\tlearn: 0.8811469\ttotal: 8m 28s\tremaining: 3m 1s\n",
      "1800:\tlearn: 0.8862100\ttotal: 10m 2s\tremaining: 1m 18s\n",
      "2036:\tlearn: 0.8896539\ttotal: 11m 14s\tremaining: 0us\n"
     ]
    },
    {
     "name": "stderr",
     "output_type": "stream",
     "text": [
      "\u001b[32m[I 2023-02-27 13:55:31,496]\u001b[0m Trial 0 finished with value: 0.8622949239923872 and parameters: {'n_estimators': 2037, 'depth': 6}. Best is trial 0 with value: 0.8622949239923872.\u001b[0m\n"
     ]
    },
    {
     "name": "stdout",
     "output_type": "stream",
     "text": [
      "f1-score: 0.8622949239923872\n",
      "Learning rate set to 0.09517\n",
      "0:\tlearn: 0.4639071\ttotal: 494ms\tremaining: 19m 10s\n",
      "300:\tlearn: 0.8164674\ttotal: 1m 25s\tremaining: 9m 40s\n",
      "600:\tlearn: 0.8337197\ttotal: 2m 47s\tremaining: 8m 3s\n",
      "900:\tlearn: 0.8443616\ttotal: 4m 8s\tremaining: 6m 35s\n",
      "1200:\tlearn: 0.8517352\ttotal: 5m 27s\tremaining: 5m 8s\n",
      "1500:\tlearn: 0.8572024\ttotal: 6m 45s\tremaining: 3m 44s\n",
      "1800:\tlearn: 0.8613923\ttotal: 8m 4s\tremaining: 2m 23s\n",
      "2100:\tlearn: 0.8651104\ttotal: 9m 21s\tremaining: 1m 1s\n",
      "2332:\tlearn: 0.8678839\ttotal: 10m 20s\tremaining: 0us\n"
     ]
    },
    {
     "name": "stderr",
     "output_type": "stream",
     "text": [
      "\u001b[32m[I 2023-02-27 14:06:47,270]\u001b[0m Trial 1 finished with value: 0.8558384928569708 and parameters: {'n_estimators': 2333, 'depth': 4}. Best is trial 0 with value: 0.8622949239923872.\u001b[0m\n"
     ]
    },
    {
     "name": "stdout",
     "output_type": "stream",
     "text": [
      "f1-score: 0.8558384928569708\n",
      "Learning rate set to 0.131602\n",
      "0:\tlearn: 0.6252440\ttotal: 761ms\tremaining: 20m 1s\n",
      "300:\tlearn: 0.8481832\ttotal: 2m 15s\tremaining: 9m 36s\n",
      "600:\tlearn: 0.8701272\ttotal: 4m 16s\tremaining: 6m 58s\n",
      "900:\tlearn: 0.8833671\ttotal: 6m 13s\tremaining: 4m 41s\n",
      "1200:\tlearn: 0.8928670\ttotal: 8m 3s\tremaining: 2m 32s\n",
      "1500:\tlearn: 0.8999869\ttotal: 9m 50s\tremaining: 31.5s\n",
      "1580:\tlearn: 0.9018742\ttotal: 10m 19s\tremaining: 0us\n"
     ]
    },
    {
     "name": "stderr",
     "output_type": "stream",
     "text": [
      "\u001b[32m[I 2023-02-27 14:18:02,249]\u001b[0m Trial 2 finished with value: 0.8640776699029126 and parameters: {'n_estimators': 1581, 'depth': 7}. Best is trial 2 with value: 0.8640776699029126.\u001b[0m\n"
     ]
    },
    {
     "name": "stdout",
     "output_type": "stream",
     "text": [
      "f1-score: 0.8640776699029126\n",
      "Learning rate set to 0.172938\n",
      "0:\tlearn: 0.5788394\ttotal: 530ms\tremaining: 10m 3s\n",
      "300:\tlearn: 0.8484799\ttotal: 1m 50s\tremaining: 5m 7s\n",
      "600:\tlearn: 0.8682338\ttotal: 3m 30s\tremaining: 3m 8s\n",
      "900:\tlearn: 0.8798909\ttotal: 5m 6s\tremaining: 1m 20s\n",
      "1138:\tlearn: 0.8866015\ttotal: 6m 20s\tremaining: 0us\n"
     ]
    },
    {
     "name": "stderr",
     "output_type": "stream",
     "text": [
      "\u001b[32m[I 2023-02-27 14:25:17,502]\u001b[0m Trial 3 finished with value: 0.8603676311161434 and parameters: {'n_estimators': 1139, 'depth': 6}. Best is trial 2 with value: 0.8640776699029126.\u001b[0m\n"
     ]
    },
    {
     "name": "stdout",
     "output_type": "stream",
     "text": [
      "f1-score: 0.8603676311161434\n",
      "Learning rate set to 0.130503\n",
      "0:\tlearn: 0.6803222\ttotal: 1.14s\tremaining: 30m 26s\n",
      "300:\tlearn: 0.8662886\ttotal: 3m 54s\tremaining: 16m 50s\n",
      "600:\tlearn: 0.8930570\ttotal: 7m 15s\tremaining: 12m 1s\n",
      "900:\tlearn: 0.9097606\ttotal: 10m 19s\tremaining: 7m 58s\n",
      "1200:\tlearn: 0.9221581\ttotal: 13m 13s\tremaining: 4m 21s\n",
      "1500:\tlearn: 0.9314228\ttotal: 16m\tremaining: 1m 1s\n",
      "1596:\tlearn: 0.9338630\ttotal: 16m 52s\tremaining: 0us\n"
     ]
    },
    {
     "name": "stderr",
     "output_type": "stream",
     "text": [
      "\u001b[32m[I 2023-02-27 14:43:06,245]\u001b[0m Trial 4 finished with value: 0.8643185815124432 and parameters: {'n_estimators': 1597, 'depth': 9}. Best is trial 4 with value: 0.8643185815124432.\u001b[0m\n"
     ]
    },
    {
     "name": "stdout",
     "output_type": "stream",
     "text": [
      "f1-score: 0.8643185815124432\n",
      "Learning rate set to 0.081508\n",
      "0:\tlearn: 0.3901630\ttotal: 522ms\tremaining: 24m 27s\n",
      "300:\tlearn: 0.8022465\ttotal: 1m 17s\tremaining: 10m 48s\n",
      "600:\tlearn: 0.8194783\ttotal: 2m 33s\tremaining: 9m 23s\n",
      "900:\tlearn: 0.8295441\ttotal: 3m 47s\tremaining: 8m 1s\n",
      "1200:\tlearn: 0.8367884\ttotal: 5m 1s\tremaining: 6m 43s\n",
      "1500:\tlearn: 0.8425673\ttotal: 6m 14s\tremaining: 5m 26s\n",
      "1800:\tlearn: 0.8466985\ttotal: 7m 27s\tremaining: 4m 10s\n",
      "2100:\tlearn: 0.8505428\ttotal: 8m 39s\tremaining: 2m 55s\n",
      "2400:\tlearn: 0.8535662\ttotal: 9m 51s\tremaining: 1m 40s\n",
      "2700:\tlearn: 0.8557527\ttotal: 11m 3s\tremaining: 26.8s\n",
      "2809:\tlearn: 0.8566270\ttotal: 11m 29s\tremaining: 0us\n"
     ]
    },
    {
     "name": "stderr",
     "output_type": "stream",
     "text": [
      "\u001b[32m[I 2023-02-27 14:55:30,279]\u001b[0m Trial 5 finished with value: 0.8509479871835024 and parameters: {'n_estimators': 2810, 'depth': 3}. Best is trial 4 with value: 0.8643185815124432.\u001b[0m\n"
     ]
    },
    {
     "name": "stdout",
     "output_type": "stream",
     "text": [
      "f1-score: 0.8509479871835024\n",
      "Learning rate set to 0.086348\n",
      "0:\tlearn: 0.6252440\ttotal: 767ms\tremaining: 33m 29s\n",
      "300:\tlearn: 0.8378289\ttotal: 2m 20s\tremaining: 18m 1s\n",
      "600:\tlearn: 0.8584351\ttotal: 4m 26s\tremaining: 14m 55s\n",
      "900:\tlearn: 0.8714805\ttotal: 6m 27s\tremaining: 12m 21s\n",
      "1200:\tlearn: 0.8803011\ttotal: 8m 23s\tremaining: 9m 55s\n",
      "1500:\tlearn: 0.8872389\ttotal: 10m 16s\tremaining: 7m 40s\n",
      "1800:\tlearn: 0.8928939\ttotal: 12m 5s\tremaining: 5m 30s\n",
      "2100:\tlearn: 0.8977166\ttotal: 13m 53s\tremaining: 3m 26s\n",
      "2400:\tlearn: 0.9024844\ttotal: 15m 42s\tremaining: 1m 26s\n",
      "2621:\tlearn: 0.9056221\ttotal: 17m\tremaining: 0us\n"
     ]
    },
    {
     "name": "stderr",
     "output_type": "stream",
     "text": [
      "\u001b[32m[I 2023-02-27 15:13:26,028]\u001b[0m Trial 6 finished with value: 0.8658122334915319 and parameters: {'n_estimators': 2622, 'depth': 7}. Best is trial 6 with value: 0.8658122334915319.\u001b[0m\n"
     ]
    },
    {
     "name": "stdout",
     "output_type": "stream",
     "text": [
      "f1-score: 0.8658122334915319\n",
      "Learning rate set to 0.088839\n",
      "0:\tlearn: 0.6803222\ttotal: 1.08s\tremaining: 45m 38s\n",
      "300:\tlearn: 0.8535110\ttotal: 4m 3s\tremaining: 30m 3s\n",
      "600:\tlearn: 0.8790190\ttotal: 7m 36s\tremaining: 24m 28s\n",
      "900:\tlearn: 0.8951162\ttotal: 10m 52s\tremaining: 19m 43s\n",
      "1200:\tlearn: 0.9078498\ttotal: 13m 59s\tremaining: 15m 31s\n",
      "1500:\tlearn: 0.9171948\ttotal: 16m 58s\tremaining: 11m 40s\n",
      "1800:\tlearn: 0.9244594\ttotal: 19m 48s\tremaining: 8m 3s\n",
      "2100:\tlearn: 0.9306177\ttotal: 22m 36s\tremaining: 4m 39s\n",
      "2400:\tlearn: 0.9356584\ttotal: 25m 20s\tremaining: 1m 24s\n",
      "2533:\tlearn: 0.9376210\ttotal: 26m 32s\tremaining: 0us\n"
     ]
    },
    {
     "name": "stderr",
     "output_type": "stream",
     "text": [
      "\u001b[32m[I 2023-02-27 15:40:54,001]\u001b[0m Trial 7 finished with value: 0.8678358910115879 and parameters: {'n_estimators': 2534, 'depth': 9}. Best is trial 7 with value: 0.8678358910115879.\u001b[0m\n"
     ]
    },
    {
     "name": "stdout",
     "output_type": "stream",
     "text": [
      "f1-score: 0.8678358910115879\n",
      "Learning rate set to 0.085776\n",
      "0:\tlearn: 0.6252440\ttotal: 672ms\tremaining: 29m 36s\n",
      "300:\tlearn: 0.8376090\ttotal: 2m 20s\tremaining: 18m 12s\n",
      "600:\tlearn: 0.8580548\ttotal: 4m 28s\tremaining: 15m 12s\n",
      "900:\tlearn: 0.8711955\ttotal: 6m 30s\tremaining: 12m 35s\n",
      "1200:\tlearn: 0.8800594\ttotal: 8m 26s\tremaining: 10m 8s\n",
      "1500:\tlearn: 0.8870625\ttotal: 10m 18s\tremaining: 7m 50s\n",
      "1800:\tlearn: 0.8931227\ttotal: 12m 9s\tremaining: 5m 40s\n",
      "2100:\tlearn: 0.8977832\ttotal: 13m 58s\tremaining: 3m 36s\n",
      "2400:\tlearn: 0.9024515\ttotal: 15m 46s\tremaining: 1m 35s\n",
      "2642:\tlearn: 0.9057238\ttotal: 17m 12s\tremaining: 0us\n"
     ]
    },
    {
     "name": "stderr",
     "output_type": "stream",
     "text": [
      "\u001b[32m[I 2023-02-27 15:59:01,422]\u001b[0m Trial 8 finished with value: 0.8650654075019875 and parameters: {'n_estimators': 2643, 'depth': 7}. Best is trial 7 with value: 0.8678358910115879.\u001b[0m\n"
     ]
    },
    {
     "name": "stdout",
     "output_type": "stream",
     "text": [
      "f1-score: 0.8650654075019875\n",
      "Learning rate set to 0.089605\n",
      "0:\tlearn: 0.3901630\ttotal: 377ms\tremaining: 15m 46s\n",
      "300:\tlearn: 0.8052044\ttotal: 1m 18s\tremaining: 9m 32s\n",
      "600:\tlearn: 0.8213970\ttotal: 2m 33s\tremaining: 8m 7s\n",
      "900:\tlearn: 0.8321459\ttotal: 3m 48s\tremaining: 6m 46s\n",
      "1200:\tlearn: 0.8392521\ttotal: 5m 1s\tremaining: 5m 28s\n",
      "1500:\tlearn: 0.8450473\ttotal: 6m 15s\tremaining: 4m 11s\n",
      "1800:\tlearn: 0.8492409\ttotal: 7m 28s\tremaining: 2m 55s\n",
      "2100:\tlearn: 0.8530303\ttotal: 8m 40s\tremaining: 1m 40s\n",
      "2400:\tlearn: 0.8557390\ttotal: 9m 53s\tremaining: 26.5s\n",
      "2507:\tlearn: 0.8566953\ttotal: 10m 19s\tremaining: 0us\n"
     ]
    },
    {
     "name": "stderr",
     "output_type": "stream",
     "text": [
      "\u001b[32m[I 2023-02-27 16:10:14,719]\u001b[0m Trial 9 finished with value: 0.8502493435158639 and parameters: {'n_estimators': 2508, 'depth': 3}. Best is trial 7 with value: 0.8678358910115879.\u001b[0m\n"
     ]
    },
    {
     "name": "stdout",
     "output_type": "stream",
     "text": [
      "f1-score: 0.8502493435158639\n",
      "Learning rate set to 0.220682\n",
      "0:\tlearn: 0.6986891\ttotal: 1.51s\tremaining: 21m 19s\n",
      "300:\tlearn: 0.8973914\ttotal: 5m 23s\tremaining: 9m 49s\n",
      "600:\tlearn: 0.9289534\ttotal: 9m 40s\tremaining: 4m\n",
      "849:\tlearn: 0.9437330\ttotal: 12m 51s\tremaining: 0us\n"
     ]
    },
    {
     "name": "stderr",
     "output_type": "stream",
     "text": [
      "\u001b[32m[I 2023-02-27 16:24:01,337]\u001b[0m Trial 10 finished with value: 0.859596713965646 and parameters: {'n_estimators': 850, 'depth': 10}. Best is trial 7 with value: 0.8678358910115879.\u001b[0m\n"
     ]
    },
    {
     "name": "stdout",
     "output_type": "stream",
     "text": [
      "f1-score: 0.859596713965646\n",
      "Learning rate set to 0.077228\n",
      "0:\tlearn: 0.6803222\ttotal: 1.18s\tremaining: 59m 11s\n",
      "300:\tlearn: 0.8495711\ttotal: 4m 9s\tremaining: 37m 18s\n",
      "600:\tlearn: 0.8742437\ttotal: 7m 48s\tremaining: 31m 7s\n",
      "900:\tlearn: 0.8899520\ttotal: 11m 12s\tremaining: 26m 4s\n",
      "1200:\tlearn: 0.9020126\ttotal: 14m 24s\tremaining: 21m 33s\n",
      "1500:\tlearn: 0.9115935\ttotal: 17m 25s\tremaining: 17m 22s\n",
      "1800:\tlearn: 0.9188225\ttotal: 20m 19s\tremaining: 13m 30s\n",
      "2100:\tlearn: 0.9249510\ttotal: 23m 10s\tremaining: 9m 53s\n",
      "2400:\tlearn: 0.9303743\ttotal: 25m 58s\tremaining: 6m 27s\n",
      "2700:\tlearn: 0.9348018\ttotal: 28m 45s\tremaining: 3m 9s\n",
      "2997:\tlearn: 0.9387016\ttotal: 31m 25s\tremaining: 0us\n"
     ]
    },
    {
     "name": "stderr",
     "output_type": "stream",
     "text": [
      "\u001b[32m[I 2023-02-27 16:56:24,530]\u001b[0m Trial 11 finished with value: 0.8686308993230384 and parameters: {'n_estimators': 2998, 'depth': 9}. Best is trial 11 with value: 0.8686308993230384.\u001b[0m\n"
     ]
    },
    {
     "name": "stdout",
     "output_type": "stream",
     "text": [
      "f1-score: 0.8686308993230384\n",
      "Learning rate set to 0.078009\n",
      "0:\tlearn: 0.6803222\ttotal: 1.22s\tremaining: 1h 3s\n",
      "300:\tlearn: 0.8496600\ttotal: 4m 6s\tremaining: 36m 19s\n",
      "600:\tlearn: 0.8735284\ttotal: 7m 44s\tremaining: 30m 24s\n",
      "900:\tlearn: 0.8894745\ttotal: 11m 8s\tremaining: 25m 29s\n",
      "1200:\tlearn: 0.9018011\ttotal: 14m 19s\tremaining: 21m\n",
      "1500:\tlearn: 0.9110224\ttotal: 17m 21s\tremaining: 16m 54s\n",
      "1800:\tlearn: 0.9185437\ttotal: 20m 16s\tremaining: 13m 4s\n",
      "2100:\tlearn: 0.9254756\ttotal: 23m 9s\tremaining: 9m 29s\n",
      "2400:\tlearn: 0.9306411\ttotal: 25m 58s\tremaining: 6m 4s\n",
      "2700:\tlearn: 0.9349291\ttotal: 28m 42s\tremaining: 2m 46s\n",
      "2961:\tlearn: 0.9385449\ttotal: 31m 4s\tremaining: 0us\n"
     ]
    },
    {
     "name": "stderr",
     "output_type": "stream",
     "text": [
      "\u001b[32m[I 2023-02-27 17:28:25,188]\u001b[0m Trial 12 finished with value: 0.8684863523573201 and parameters: {'n_estimators': 2962, 'depth': 9}. Best is trial 11 with value: 0.8686308993230384.\u001b[0m\n"
     ]
    },
    {
     "name": "stdout",
     "output_type": "stream",
     "text": [
      "f1-score: 0.8684863523573201\n",
      "Learning rate set to 0.077594\n",
      "0:\tlearn: 0.6803222\ttotal: 1.12s\tremaining: 55m 42s\n",
      "300:\tlearn: 0.8492545\ttotal: 4m 7s\tremaining: 36m 45s\n",
      "600:\tlearn: 0.8736448\ttotal: 7m 45s\tremaining: 30m 43s\n",
      "900:\tlearn: 0.8901313\ttotal: 11m 9s\tremaining: 25m 44s\n",
      "1200:\tlearn: 0.9021453\ttotal: 14m 20s\tremaining: 21m 15s\n",
      "1500:\tlearn: 0.9114057\ttotal: 17m 21s\tremaining: 17m 6s\n",
      "1800:\tlearn: 0.9185272\ttotal: 20m 16s\tremaining: 13m 16s\n",
      "2100:\tlearn: 0.9250707\ttotal: 23m 10s\tremaining: 9m 42s\n",
      "2400:\tlearn: 0.9305147\ttotal: 26m\tremaining: 6m 17s\n",
      "2700:\tlearn: 0.9349565\ttotal: 28m 46s\tremaining: 2m 58s\n",
      "2980:\tlearn: 0.9388093\ttotal: 31m 18s\tremaining: 0us\n"
     ]
    },
    {
     "name": "stderr",
     "output_type": "stream",
     "text": [
      "\u001b[32m[I 2023-02-27 18:00:40,100]\u001b[0m Trial 13 finished with value: 0.8684863523573201 and parameters: {'n_estimators': 2981, 'depth': 9}. Best is trial 11 with value: 0.8686308993230384.\u001b[0m\n"
     ]
    },
    {
     "name": "stdout",
     "output_type": "stream",
     "text": [
      "f1-score: 0.8684863523573201\n",
      "Learning rate set to 0.077768\n",
      "0:\tlearn: 0.6986891\ttotal: 1.62s\tremaining: 1h 20m 20s\n",
      "300:\tlearn: 0.8572450\ttotal: 5m 57s\tremaining: 52m 52s\n",
      "600:\tlearn: 0.8854953\ttotal: 11m 9s\tremaining: 44m 3s\n",
      "900:\tlearn: 0.9040248\ttotal: 15m 51s\tremaining: 36m 27s\n",
      "1200:\tlearn: 0.9175854\ttotal: 20m 15s\tremaining: 29m 53s\n",
      "1500:\tlearn: 0.9276035\ttotal: 24m 23s\tremaining: 23m 55s\n",
      "1800:\tlearn: 0.9353711\ttotal: 28m 20s\tremaining: 18m 26s\n",
      "2100:\tlearn: 0.9417250\ttotal: 32m 14s\tremaining: 13m 22s\n",
      "2400:\tlearn: 0.9473402\ttotal: 36m\tremaining: 8m 34s\n",
      "2700:\tlearn: 0.9514817\ttotal: 39m 41s\tremaining: 3m 59s\n",
      "2972:\tlearn: 0.9550641\ttotal: 43m 1s\tremaining: 0us\n"
     ]
    },
    {
     "name": "stderr",
     "output_type": "stream",
     "text": [
      "\u001b[32m[I 2023-02-27 18:44:39,573]\u001b[0m Trial 14 finished with value: 0.8683418053916018 and parameters: {'n_estimators': 2973, 'depth': 10}. Best is trial 11 with value: 0.8686308993230384.\u001b[0m\n"
     ]
    },
    {
     "name": "stdout",
     "output_type": "stream",
     "text": [
      "f1-score: 0.8683418053916018\n",
      "время, затраченное на подбор гиперов = 18077.979670763016\n"
     ]
    }
   ],
   "source": [
    "start = time.time()\n",
    "\n",
    "study = optuna.create_study(study_name=\"catboost\", direction='maximize')\n",
    "study.optimize(objective, n_trials=15)\n",
    "\n",
    "print(f'время, затраченное на подбор гиперов = {time.time() - start}')"
   ]
  },
  {
   "cell_type": "code",
   "execution_count": 16,
   "metadata": {
    "id": "XC_dGfNK1C_V"
   },
   "outputs": [
    {
     "name": "stdout",
     "output_type": "stream",
     "text": [
      "Number of finished trials: 15\n",
      "Best trial:\n",
      "  Value: 0.8686308993230384\n",
      "  Params: \n",
      "    n_estimators: 2998\n",
      "    depth: 9\n"
     ]
    }
   ],
   "source": [
    "print(f\"Number of finished trials: {len(study.trials)}\")\n",
    "print(\"Best trial:\")\n",
    "trial = study.best_trial\n",
    "print(f\"  Value: {trial.value}\") # выводим налучшие параметры\n",
    "print(\"  Params: \")\n",
    "for key, value in trial.params.items():\n",
    "    print(\"    {}: {}\".format(key, value))"
   ]
  },
  {
   "cell_type": "markdown",
   "metadata": {
    "id": "U0gQb7161C_X"
   },
   "source": [
    "**Вывод**\n",
    "Как можно заметить, оптимальные гиперпараметры совпали с теми, котрый были подобраны вручную с помощью поиска по сетке и использовали в финальной версии бустинга.  \n",
    "\n",
    "Единственное различие в том, что использовалось 1600 деревьев, а не 2998 как сказала optuna. Однако еще в поиске по сетке была видна зависимость увеличения качества алгоритма от кол-ва деревьев в нем. Однако слишком большое кол-во деверьев приводит к чересчур долгому обучениб бустинга даже на gpu. Поэтому было найдено оптимальное кол-во деревьев, после которого прирост в качестве незначителен по сравнению с ростом времени обучения.\n",
    "\n",
    "Поэтому мы не будет обучать модель с таким набором гиперпараметров на всех данных."
   ]
  }
 ],
 "metadata": {
  "accelerator": "GPU",
  "colab": {
   "provenance": []
  },
  "gpuClass": "standard",
  "kernelspec": {
   "display_name": "Python 3",
   "language": "python",
   "name": "python3"
  },
  "language_info": {
   "codemirror_mode": {
    "name": "ipython",
    "version": 3
   },
   "file_extension": ".py",
   "mimetype": "text/x-python",
   "name": "python",
   "nbconvert_exporter": "python",
   "pygments_lexer": "ipython3",
   "version": "3.7.6"
  },
  "toc": {
   "base_numbering": 1,
   "nav_menu": {},
   "number_sections": true,
   "sideBar": true,
   "skip_h1_title": false,
   "title_cell": "Table of Contents",
   "title_sidebar": "Contents",
   "toc_cell": false,
   "toc_position": {},
   "toc_section_display": true,
   "toc_window_display": false
  }
 },
 "nbformat": 4,
 "nbformat_minor": 1
}
