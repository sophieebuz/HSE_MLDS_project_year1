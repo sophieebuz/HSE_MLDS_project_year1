{
 "cells": [
  {
   "cell_type": "code",
   "execution_count": 6,
   "id": "efa87b8e",
   "metadata": {
    "scrolled": false
   },
   "outputs": [],
   "source": [
    "# pip install pandarallel pymystem3"
   ]
  },
  {
   "cell_type": "code",
   "execution_count": 1,
   "id": "2aab4485",
   "metadata": {},
   "outputs": [
    {
     "name": "stdout",
     "output_type": "stream",
     "text": [
      "INFO: Pandarallel will run on 2 workers.\n",
      "INFO: Pandarallel will use standard multiprocessing data transfer (pipe) to transfer data between the main process and workers.\n"
     ]
    }
   ],
   "source": [
    "from tqdm.notebook import tqdm_notebook\n",
    "from tqdm import tqdm\n",
    "\n",
    "import pandas as pd\n",
    "tqdm_notebook.pandas()\n",
    "from pandarallel import pandarallel\n",
    "pandarallel.initialize(progress_bar=True)\n",
    "import string\n",
    "\n",
    "from pymystem3 import Mystem\n",
    "import time\n",
    "\n",
    "from collections import Counter\n",
    "import itertools \n",
    "\n",
    "import nltk\n",
    "# nltk.download('stopwords')\n",
    "from nltk.corpus import stopwords"
   ]
  },
  {
   "cell_type": "markdown",
   "id": "2bd17d63",
   "metadata": {},
   "source": [
    "## Очистка данных и обработка текстов"
   ]
  },
  {
   "cell_type": "markdown",
   "id": "3a96dd69",
   "metadata": {},
   "source": [
    "Удаляем наны в переменной text и новости, датируемые 1914 годом"
   ]
  },
  {
   "cell_type": "markdown",
   "id": "565bc6d5",
   "metadata": {},
   "source": [
    "Поскольку наши данные представлены в виде связного текста, нам необходимо преобразовать их в понятный для машины язык - набор векторов. Перед этим необходимо провести обработку всех текстов и преобразовать их в массивы слов в начальной форме.\n",
    "\n",
    "Мы протестировали несколько библиотек, которые используются для обработки текстов, одна из которых - Mystem. Эта библиотека разработана Яндексом, и ее особенность заключается в том, что она учитывает контекст слова. Также она самостоятельно разбивает текст на токены\n",
    "\n",
    "Также нам необходимо убрать \"стоп-слова\""
   ]
  },
  {
   "cell_type": "code",
   "execution_count": 114,
   "id": "c2a0c071",
   "metadata": {},
   "outputs": [
    {
     "data": {
      "text/plain": [
       "['и',\n",
       " 'в',\n",
       " 'во',\n",
       " 'не',\n",
       " 'что',\n",
       " 'он',\n",
       " 'на',\n",
       " 'я',\n",
       " 'с',\n",
       " 'со',\n",
       " 'как',\n",
       " 'а',\n",
       " 'то',\n",
       " 'все',\n",
       " 'она',\n",
       " 'так',\n",
       " 'его',\n",
       " 'но',\n",
       " 'да',\n",
       " 'ты',\n",
       " 'к',\n",
       " 'у',\n",
       " 'же',\n",
       " 'вы',\n",
       " 'за',\n",
       " 'бы',\n",
       " 'по',\n",
       " 'только',\n",
       " 'ее',\n",
       " 'мне',\n",
       " 'было',\n",
       " 'вот',\n",
       " 'от',\n",
       " 'меня',\n",
       " 'еще',\n",
       " 'нет',\n",
       " 'о',\n",
       " 'из',\n",
       " 'ему',\n",
       " 'теперь',\n",
       " 'когда',\n",
       " 'даже',\n",
       " 'ну',\n",
       " 'вдруг',\n",
       " 'ли',\n",
       " 'если',\n",
       " 'уже',\n",
       " 'или',\n",
       " 'ни',\n",
       " 'быть',\n",
       " 'был',\n",
       " 'него',\n",
       " 'до',\n",
       " 'вас',\n",
       " 'нибудь',\n",
       " 'опять',\n",
       " 'уж',\n",
       " 'вам',\n",
       " 'ведь',\n",
       " 'там',\n",
       " 'потом',\n",
       " 'себя',\n",
       " 'ничего',\n",
       " 'ей',\n",
       " 'может',\n",
       " 'они',\n",
       " 'тут',\n",
       " 'где',\n",
       " 'есть',\n",
       " 'надо',\n",
       " 'ней',\n",
       " 'для',\n",
       " 'мы',\n",
       " 'тебя',\n",
       " 'их',\n",
       " 'чем',\n",
       " 'была',\n",
       " 'сам',\n",
       " 'чтоб',\n",
       " 'без',\n",
       " 'будто',\n",
       " 'чего',\n",
       " 'раз',\n",
       " 'тоже',\n",
       " 'себе',\n",
       " 'под',\n",
       " 'будет',\n",
       " 'ж',\n",
       " 'тогда',\n",
       " 'кто',\n",
       " 'этот',\n",
       " 'того',\n",
       " 'потому',\n",
       " 'этого',\n",
       " 'какой',\n",
       " 'совсем',\n",
       " 'ним',\n",
       " 'здесь',\n",
       " 'этом',\n",
       " 'один',\n",
       " 'почти',\n",
       " 'мой',\n",
       " 'тем',\n",
       " 'чтобы',\n",
       " 'нее',\n",
       " 'сейчас',\n",
       " 'были',\n",
       " 'куда',\n",
       " 'зачем',\n",
       " 'всех',\n",
       " 'никогда',\n",
       " 'можно',\n",
       " 'при',\n",
       " 'наконец',\n",
       " 'два',\n",
       " 'об',\n",
       " 'другой',\n",
       " 'хоть',\n",
       " 'после',\n",
       " 'над',\n",
       " 'больше',\n",
       " 'тот',\n",
       " 'через',\n",
       " 'эти',\n",
       " 'нас',\n",
       " 'про',\n",
       " 'всего',\n",
       " 'них',\n",
       " 'какая',\n",
       " 'много',\n",
       " 'разве',\n",
       " 'три',\n",
       " 'эту',\n",
       " 'моя',\n",
       " 'впрочем',\n",
       " 'хорошо',\n",
       " 'свою',\n",
       " 'этой',\n",
       " 'перед',\n",
       " 'иногда',\n",
       " 'лучше',\n",
       " 'чуть',\n",
       " 'том',\n",
       " 'нельзя',\n",
       " 'такой',\n",
       " 'им',\n",
       " 'более',\n",
       " 'всегда',\n",
       " 'конечно',\n",
       " 'всю',\n",
       " 'между']"
      ]
     },
     "execution_count": 114,
     "metadata": {},
     "output_type": "execute_result"
    }
   ],
   "source": [
    "stopwords_rus = stopwords.words('russian')\n",
    "stopwords_rus"
   ]
  },
  {
   "cell_type": "code",
   "execution_count": 115,
   "id": "6c828f03",
   "metadata": {},
   "outputs": [],
   "source": [
    "m = Mystem()"
   ]
  },
  {
   "cell_type": "code",
   "execution_count": 9,
   "id": "052e0caf",
   "metadata": {},
   "outputs": [],
   "source": [
    "def make_lemmas(x):\n",
    "    \"\"\"\n",
    "    Лемматизируем строку, проверяя следующие моменты:\n",
    "        - не стоп-слово\n",
    "        - длина больше 2х символов\n",
    "        - состоит только из букв либо слова, которые пишутся через тире\n",
    "    \"\"\"\n",
    "    x = str(x)\n",
    "    lemmas = m.lemmatize(x)\n",
    "    text = [i.lower() for i in lemmas if i not in stopwords_rus and len(i) > 2\n",
    "            and (i.isalpha() or ((i.split('-')[0]).isalpha()))]\n",
    "    return text"
   ]
  },
  {
   "cell_type": "markdown",
   "id": "4cdba37f",
   "metadata": {},
   "source": [
    "Запустим один раз, чтобы проверить время работы 2х раз"
   ]
  },
  {
   "cell_type": "code",
   "execution_count": 12,
   "id": "658c63db",
   "metadata": {
    "scrolled": false
   },
   "outputs": [
    {
     "name": "stdout",
     "output_type": "stream",
     "text": [
      "           date                                            url  \\\n",
      "5    1999-08-31  https://lenta.ru/news/1999/08/31/stancia_mir/   \n",
      "6    1999-08-31        https://lenta.ru/news/1999/08/31/vzriv/   \n",
      "7    1999-08-31  https://lenta.ru/news/1999/08/31/credit_japs/   \n",
      "8    1999-08-31        https://lenta.ru/news/1999/08/31/diana/   \n",
      "9    1999-08-31          https://lenta.ru/news/1999/08/31/mvf/   \n",
      "...         ...                                            ...   \n",
      "9995 2000-07-10        https://lenta.ru/news/2000/07/10/zenit/   \n",
      "9996 2000-07-10        https://lenta.ru/news/2000/07/10/metro/   \n",
      "9997 2000-07-10     https://lenta.ru/news/2000/07/10/naemniki/   \n",
      "9998 2000-07-10      https://lenta.ru/news/2000/07/10/tallinn/   \n",
      "9999 2000-07-10   https://lenta.ru/news/2000/07/10/alexandrov/   \n",
      "\n",
      "               topic tags                                              title  \\\n",
      "5             Россия  Все         Космонавты сомневаются в надежности \"Мира\"   \n",
      "6             Россия  Все       Взрыв в центре Москвы: пострадало 30 человек   \n",
      "7             Россия  Все  Япония кредитует Россию на полтора миллиарда д...   \n",
      "8                Мир  Все           Британцы отмечают двухлетие смерти Дианы   \n",
      "9             Россия  Все  Отмытые через Bank of NY деньги не имели отнош...   \n",
      "...              ...  ...                                                ...   \n",
      "9995           Спорт  Все     \"Зенит\" выходит в третий раунд Кубка Интертото   \n",
      "9996          Россия  Все  Вагоны московского метро будут складываться га...   \n",
      "9997          Россия  Все  В Чечню пытались проникнуть наемники из Пакистана   \n",
      "9998             Мир  Все   Таллинские заключенные предпочитают голод духоте   \n",
      "9999  Интернет и СМИ  Все  Адвокатам \"Моста\" не удалось дать отвод следов...   \n",
      "\n",
      "                                                   text  \n",
      "5     Как стало известно агентству Ассошиэйтед Пресс...  \n",
      "6     В зале игровых автоматов в третьем ярусе подзе...  \n",
      "7     Япония приняла решение разморозить кредиты Рос...  \n",
      "8     Британцы отмечают сегодня скорбную дату - втор...  \n",
      "9     В понедельник директор департамента внешних св...  \n",
      "...                                                 ...  \n",
      "9995  Первым российским клубом, стартовавшим в сезон...  \n",
      "9996  В московском метро уже в будущем году появится...  \n",
      "9997  Минувшей ночью на российско-киргизской границе...  \n",
      "9998  124 заключенных корпуса предварительного заклю...  \n",
      "9999  Адвокату помощника главы \"Медиа-Моста\" Михаила...  \n",
      "\n",
      "[9995 rows x 6 columns]\n",
      "(9995, 6)\n"
     ]
    },
    {
     "data": {
      "application/vnd.jupyter.widget-view+json": {
       "model_id": "0736dcaa613b4852a96049d92135691b",
       "version_major": 2,
       "version_minor": 0
      },
      "text/plain": [
       "VBox(children=(HBox(children=(IntProgress(value=0, description='0.00%', max=4998), Label(value='0 / 4998'))), …"
      ]
     },
     "metadata": {},
     "output_type": "display_data"
    },
    {
     "name": "stdout",
     "output_type": "stream",
     "text": [
      "            date                                            url      topic  \\\n",
      "10000 2000-07-10    https://lenta.ru/news/2000/07/10/explosive/     Россия   \n",
      "10001 2000-07-10  https://lenta.ru/news/2000/07/10/vladikavkaz/     Россия   \n",
      "10002 2000-07-10        https://lenta.ru/news/2000/07/10/tacis/  Экономика   \n",
      "10003 2000-07-10          https://lenta.ru/news/2000/07/10/imf/  Экономика   \n",
      "10004 2000-07-10       https://lenta.ru/news/2000/07/10/manila/        Мир   \n",
      "...          ...                                            ...        ...   \n",
      "19995 2001-01-17         https://lenta.ru/news/2001/01/17/case/     Россия   \n",
      "19996 2001-01-17      https://lenta.ru/news/2001/01/17/clinton/        Мир   \n",
      "19997 2001-01-17        https://lenta.ru/news/2001/01/17/truck/        Мир   \n",
      "19998 2001-01-17         https://lenta.ru/news/2001/01/17/duma/     Россия   \n",
      "19999 2001-01-17          https://lenta.ru/news/2001/01/17/vip/  Экономика   \n",
      "\n",
      "      tags                                              title  \\\n",
      "10000  Все            В поезде Донецк-Москва нашли взрывчатку   \n",
      "10001  Все  Штаб ОГВ: Операции боевиков разрабатывают в ге...   \n",
      "10002  Все           ЕС возобновляет финансовую помощь России   \n",
      "10003  Все                     Россия погашает свои долги МВФ   \n",
      "10004  Все  В Маниле под тоннами мусора 37 человек погибли...   \n",
      "...    ...                                                ...   \n",
      "19995  Все  Прокуратура Владивостока ищет виновных в отклю...   \n",
      "19996  Все           У Билла Клинтона диагностирован рак кожи   \n",
      "19997  Все  Грузовик протаранил и поджег дом правительства...   \n",
      "19998  Все  На открытии сессии Думы сидели только Сергей К...   \n",
      "19999  Все  Банки США начинают слежку за счетами VIP-клиентов   \n",
      "\n",
      "                                                    text  \n",
      "10000  В минувшее воскресенье в поезде номер 10 сообщ...  \n",
      "10001  Взрыв во Владикавказе и озвученные Масхадовым ...  \n",
      "10002  Совет министров иностранных дел стран Европейс...  \n",
      "10003  Министерство финансов РФ выплатило в понедельн...  \n",
      "10004  В окрестностях Манилы из-за оползней обвалилас...  \n",
      "...                                                  ...  \n",
      "19995  Прокуратура Владивостока возбудила уголовное д...  \n",
      "19996  У американского президента Билла Клинтона диаг...  \n",
      "19997  В Сакраменто, столице штата Калифорния, горит ...  \n",
      "19998  В среду под звуки нового гимна России открылас...  \n",
      "19999  Власти США дали рекомендацию американским банк...  \n",
      "\n",
      "[10000 rows x 6 columns]\n",
      "(10000, 6)\n"
     ]
    },
    {
     "data": {
      "application/vnd.jupyter.widget-view+json": {
       "model_id": "a2b5dab725004538a0ef43970818429e",
       "version_major": 2,
       "version_minor": 0
      },
      "text/plain": [
       "VBox(children=(HBox(children=(IntProgress(value=0, description='0.00%', max=5000), Label(value='0 / 5000'))), …"
      ]
     },
     "metadata": {},
     "output_type": "display_data"
    },
    {
     "name": "stdout",
     "output_type": "stream",
     "text": [
      "CPU times: user 6 s, sys: 1.09 s, total: 7.09 s\n",
      "Wall time: 2min 14s\n"
     ]
    }
   ],
   "source": [
    "%%time\n",
    "\n",
    "df_iterator = pd.read_csv(\"/Users/kucumovamilana/Downloads/lenta-ru-news-with-2022.csv\", chunksize=10000)\n",
    "chunk = 1\n",
    "for df in df_iterator:\n",
    "    df['date'] = pd.to_datetime(df['date'])\n",
    "    df = df[~df['text'].isna()]\n",
    "    df = df[df['date'].dt.year != 1914]\n",
    "    print(df)\n",
    "    print(df.shape)\n",
    "    df['text'] = df['text'].parallel_apply(make_lemmas)\n",
    "    if chunk == 1:\n",
    "        df.to_csv('lenta_news_with_lemmas.csv')\n",
    "    else:\n",
    "        df.to_csv('lenta_news_with_lemmas.csv', mode='a', header=False)\n",
    "        break\n",
    "    chunk += 1"
   ]
  },
  {
   "cell_type": "markdown",
   "id": "f81517e9",
   "metadata": {},
   "source": [
    "Проверим получившуюся csv"
   ]
  },
  {
   "cell_type": "code",
   "execution_count": 13,
   "id": "2fe95a67",
   "metadata": {},
   "outputs": [
    {
     "data": {
      "text/html": [
       "<div>\n",
       "<style scoped>\n",
       "    .dataframe tbody tr th:only-of-type {\n",
       "        vertical-align: middle;\n",
       "    }\n",
       "\n",
       "    .dataframe tbody tr th {\n",
       "        vertical-align: top;\n",
       "    }\n",
       "\n",
       "    .dataframe thead th {\n",
       "        text-align: right;\n",
       "    }\n",
       "</style>\n",
       "<table border=\"1\" class=\"dataframe\">\n",
       "  <thead>\n",
       "    <tr style=\"text-align: right;\">\n",
       "      <th></th>\n",
       "      <th>Unnamed: 0</th>\n",
       "      <th>date</th>\n",
       "      <th>url</th>\n",
       "      <th>topic</th>\n",
       "      <th>tags</th>\n",
       "      <th>title</th>\n",
       "      <th>text</th>\n",
       "    </tr>\n",
       "  </thead>\n",
       "  <tbody>\n",
       "    <tr>\n",
       "      <th>0</th>\n",
       "      <td>5</td>\n",
       "      <td>1999-08-31</td>\n",
       "      <td>https://lenta.ru/news/1999/08/31/stancia_mir/</td>\n",
       "      <td>Россия</td>\n",
       "      <td>Все</td>\n",
       "      <td>Космонавты сомневаются в надежности \"Мира\"</td>\n",
       "      <td>['становиться', 'известно', 'агентство', 'ассо...</td>\n",
       "    </tr>\n",
       "    <tr>\n",
       "      <th>1</th>\n",
       "      <td>6</td>\n",
       "      <td>1999-08-31</td>\n",
       "      <td>https://lenta.ru/news/1999/08/31/vzriv/</td>\n",
       "      <td>Россия</td>\n",
       "      <td>Все</td>\n",
       "      <td>Взрыв в центре Москвы: пострадало 30 человек</td>\n",
       "      <td>['зал', 'игровой', 'автомат', 'третий', 'ярус'...</td>\n",
       "    </tr>\n",
       "    <tr>\n",
       "      <th>2</th>\n",
       "      <td>7</td>\n",
       "      <td>1999-08-31</td>\n",
       "      <td>https://lenta.ru/news/1999/08/31/credit_japs/</td>\n",
       "      <td>Россия</td>\n",
       "      <td>Все</td>\n",
       "      <td>Япония кредитует Россию на полтора миллиарда д...</td>\n",
       "      <td>['япония', 'принимать', 'решение', 'разморажив...</td>\n",
       "    </tr>\n",
       "    <tr>\n",
       "      <th>3</th>\n",
       "      <td>8</td>\n",
       "      <td>1999-08-31</td>\n",
       "      <td>https://lenta.ru/news/1999/08/31/diana/</td>\n",
       "      <td>Мир</td>\n",
       "      <td>Все</td>\n",
       "      <td>Британцы отмечают двухлетие смерти Дианы</td>\n",
       "      <td>['британец', 'отмечать', 'сегодня', 'скорбный'...</td>\n",
       "    </tr>\n",
       "    <tr>\n",
       "      <th>4</th>\n",
       "      <td>9</td>\n",
       "      <td>1999-08-31</td>\n",
       "      <td>https://lenta.ru/news/1999/08/31/mvf/</td>\n",
       "      <td>Россия</td>\n",
       "      <td>Все</td>\n",
       "      <td>Отмытые через Bank of NY деньги не имели отнош...</td>\n",
       "      <td>['понедельник', 'директор', 'департамент', 'вн...</td>\n",
       "    </tr>\n",
       "    <tr>\n",
       "      <th>...</th>\n",
       "      <td>...</td>\n",
       "      <td>...</td>\n",
       "      <td>...</td>\n",
       "      <td>...</td>\n",
       "      <td>...</td>\n",
       "      <td>...</td>\n",
       "      <td>...</td>\n",
       "    </tr>\n",
       "    <tr>\n",
       "      <th>19990</th>\n",
       "      <td>19995</td>\n",
       "      <td>2001-01-17</td>\n",
       "      <td>https://lenta.ru/news/2001/01/17/case/</td>\n",
       "      <td>Россия</td>\n",
       "      <td>Все</td>\n",
       "      <td>Прокуратура Владивостока ищет виновных в отклю...</td>\n",
       "      <td>['прокуратура', 'владивосток', 'возбуждать', '...</td>\n",
       "    </tr>\n",
       "    <tr>\n",
       "      <th>19991</th>\n",
       "      <td>19996</td>\n",
       "      <td>2001-01-17</td>\n",
       "      <td>https://lenta.ru/news/2001/01/17/clinton/</td>\n",
       "      <td>Мир</td>\n",
       "      <td>Все</td>\n",
       "      <td>У Билла Клинтона диагностирован рак кожи</td>\n",
       "      <td>['американский', 'президент', 'билл', 'клинтон...</td>\n",
       "    </tr>\n",
       "    <tr>\n",
       "      <th>19992</th>\n",
       "      <td>19997</td>\n",
       "      <td>2001-01-17</td>\n",
       "      <td>https://lenta.ru/news/2001/01/17/truck/</td>\n",
       "      <td>Мир</td>\n",
       "      <td>Все</td>\n",
       "      <td>Грузовик протаранил и поджег дом правительства...</td>\n",
       "      <td>['сакраменто', 'столица', 'штат', 'калифорния'...</td>\n",
       "    </tr>\n",
       "    <tr>\n",
       "      <th>19993</th>\n",
       "      <td>19998</td>\n",
       "      <td>2001-01-17</td>\n",
       "      <td>https://lenta.ru/news/2001/01/17/duma/</td>\n",
       "      <td>Россия</td>\n",
       "      <td>Все</td>\n",
       "      <td>На открытии сессии Думы сидели только Сергей К...</td>\n",
       "      <td>['среда', 'звук', 'новый', 'гимн', 'россия', '...</td>\n",
       "    </tr>\n",
       "    <tr>\n",
       "      <th>19994</th>\n",
       "      <td>19999</td>\n",
       "      <td>2001-01-17</td>\n",
       "      <td>https://lenta.ru/news/2001/01/17/vip/</td>\n",
       "      <td>Экономика</td>\n",
       "      <td>Все</td>\n",
       "      <td>Банки США начинают слежку за счетами VIP-клиентов</td>\n",
       "      <td>['власть', 'сша', 'давать', 'рекомендация', 'а...</td>\n",
       "    </tr>\n",
       "  </tbody>\n",
       "</table>\n",
       "<p>19995 rows × 7 columns</p>\n",
       "</div>"
      ],
      "text/plain": [
       "       Unnamed: 0        date                                            url  \\\n",
       "0               5  1999-08-31  https://lenta.ru/news/1999/08/31/stancia_mir/   \n",
       "1               6  1999-08-31        https://lenta.ru/news/1999/08/31/vzriv/   \n",
       "2               7  1999-08-31  https://lenta.ru/news/1999/08/31/credit_japs/   \n",
       "3               8  1999-08-31        https://lenta.ru/news/1999/08/31/diana/   \n",
       "4               9  1999-08-31          https://lenta.ru/news/1999/08/31/mvf/   \n",
       "...           ...         ...                                            ...   \n",
       "19990       19995  2001-01-17         https://lenta.ru/news/2001/01/17/case/   \n",
       "19991       19996  2001-01-17      https://lenta.ru/news/2001/01/17/clinton/   \n",
       "19992       19997  2001-01-17        https://lenta.ru/news/2001/01/17/truck/   \n",
       "19993       19998  2001-01-17         https://lenta.ru/news/2001/01/17/duma/   \n",
       "19994       19999  2001-01-17          https://lenta.ru/news/2001/01/17/vip/   \n",
       "\n",
       "           topic tags                                              title  \\\n",
       "0         Россия  Все         Космонавты сомневаются в надежности \"Мира\"   \n",
       "1         Россия  Все       Взрыв в центре Москвы: пострадало 30 человек   \n",
       "2         Россия  Все  Япония кредитует Россию на полтора миллиарда д...   \n",
       "3            Мир  Все           Британцы отмечают двухлетие смерти Дианы   \n",
       "4         Россия  Все  Отмытые через Bank of NY деньги не имели отнош...   \n",
       "...          ...  ...                                                ...   \n",
       "19990     Россия  Все  Прокуратура Владивостока ищет виновных в отклю...   \n",
       "19991        Мир  Все           У Билла Клинтона диагностирован рак кожи   \n",
       "19992        Мир  Все  Грузовик протаранил и поджег дом правительства...   \n",
       "19993     Россия  Все  На открытии сессии Думы сидели только Сергей К...   \n",
       "19994  Экономика  Все  Банки США начинают слежку за счетами VIP-клиентов   \n",
       "\n",
       "                                                    text  \n",
       "0      ['становиться', 'известно', 'агентство', 'ассо...  \n",
       "1      ['зал', 'игровой', 'автомат', 'третий', 'ярус'...  \n",
       "2      ['япония', 'принимать', 'решение', 'разморажив...  \n",
       "3      ['британец', 'отмечать', 'сегодня', 'скорбный'...  \n",
       "4      ['понедельник', 'директор', 'департамент', 'вн...  \n",
       "...                                                  ...  \n",
       "19990  ['прокуратура', 'владивосток', 'возбуждать', '...  \n",
       "19991  ['американский', 'президент', 'билл', 'клинтон...  \n",
       "19992  ['сакраменто', 'столица', 'штат', 'калифорния'...  \n",
       "19993  ['среда', 'звук', 'новый', 'гимн', 'россия', '...  \n",
       "19994  ['власть', 'сша', 'давать', 'рекомендация', 'а...  \n",
       "\n",
       "[19995 rows x 7 columns]"
      ]
     },
     "execution_count": 13,
     "metadata": {},
     "output_type": "execute_result"
    }
   ],
   "source": [
    "df_new = pd.read_csv('lenta_news_with_lemmas.csv')\n",
    "df_new"
   ]
  },
  {
   "cell_type": "markdown",
   "id": "4b79a945",
   "metadata": {},
   "source": [
    "Вроде все ок, отработало суммарно за 2 минуты, значит весь датафрейм обработается за ~2 часа"
   ]
  },
  {
   "cell_type": "code",
   "execution_count": 32,
   "id": "ce901f8b",
   "metadata": {
    "scrolled": true
   },
   "outputs": [
    {
     "name": "stdout",
     "output_type": "stream",
     "text": [
      "Chunk = 1\n",
      "Chunk = 2\n",
      "Chunk = 3\n",
      "Chunk = 4\n",
      "Chunk = 5\n",
      "Chunk = 6\n",
      "Chunk = 7\n",
      "Chunk = 8\n",
      "Chunk = 9\n",
      "Chunk = 10\n",
      "Chunk = 11\n",
      "Chunk = 12\n",
      "Chunk = 13\n",
      "Chunk = 14\n",
      "Chunk = 15\n",
      "Chunk = 16\n",
      "(9996, 6)\n"
     ]
    },
    {
     "data": {
      "application/vnd.jupyter.widget-view+json": {
       "model_id": "703690994299493c9d36cbc9a4b42e8d",
       "version_major": 2,
       "version_minor": 0
      },
      "text/plain": [
       "VBox(children=(HBox(children=(IntProgress(value=0, description='0.00%', max=4998), Label(value='0 / 4998'))), …"
      ]
     },
     "metadata": {},
     "output_type": "display_data"
    },
    {
     "name": "stdout",
     "output_type": "stream",
     "text": [
      "Chunk = 17\n",
      "(10000, 6)\n"
     ]
    },
    {
     "data": {
      "application/vnd.jupyter.widget-view+json": {
       "model_id": "979df5101d27401bb1edf61d0755136a",
       "version_major": 2,
       "version_minor": 0
      },
      "text/plain": [
       "VBox(children=(HBox(children=(IntProgress(value=0, description='0.00%', max=5000), Label(value='0 / 5000'))), …"
      ]
     },
     "metadata": {},
     "output_type": "display_data"
    },
    {
     "name": "stdout",
     "output_type": "stream",
     "text": [
      "Chunk = 18\n",
      "(10000, 6)\n"
     ]
    },
    {
     "data": {
      "application/vnd.jupyter.widget-view+json": {
       "model_id": "85f385245edf481b8b4c2a8945923c93",
       "version_major": 2,
       "version_minor": 0
      },
      "text/plain": [
       "VBox(children=(HBox(children=(IntProgress(value=0, description='0.00%', max=5000), Label(value='0 / 5000'))), …"
      ]
     },
     "metadata": {},
     "output_type": "display_data"
    },
    {
     "name": "stdout",
     "output_type": "stream",
     "text": [
      "Chunk = 19\n",
      "(10000, 6)\n"
     ]
    },
    {
     "data": {
      "application/vnd.jupyter.widget-view+json": {
       "model_id": "46375aef28fc450bbc840d0d709a8606",
       "version_major": 2,
       "version_minor": 0
      },
      "text/plain": [
       "VBox(children=(HBox(children=(IntProgress(value=0, description='0.00%', max=5000), Label(value='0 / 5000'))), …"
      ]
     },
     "metadata": {},
     "output_type": "display_data"
    },
    {
     "name": "stdout",
     "output_type": "stream",
     "text": [
      "Chunk = 20\n",
      "(10000, 6)\n"
     ]
    },
    {
     "data": {
      "application/vnd.jupyter.widget-view+json": {
       "model_id": "a99e737d41794cd2b0d6c207ef09bab6",
       "version_major": 2,
       "version_minor": 0
      },
      "text/plain": [
       "VBox(children=(HBox(children=(IntProgress(value=0, description='0.00%', max=5000), Label(value='0 / 5000'))), …"
      ]
     },
     "metadata": {},
     "output_type": "display_data"
    },
    {
     "name": "stdout",
     "output_type": "stream",
     "text": [
      "Chunk = 21\n",
      "(10000, 6)\n"
     ]
    },
    {
     "data": {
      "application/vnd.jupyter.widget-view+json": {
       "model_id": "3425f2b3cc3c4c9e90bd2477f1b0eab8",
       "version_major": 2,
       "version_minor": 0
      },
      "text/plain": [
       "VBox(children=(HBox(children=(IntProgress(value=0, description='0.00%', max=5000), Label(value='0 / 5000'))), …"
      ]
     },
     "metadata": {},
     "output_type": "display_data"
    },
    {
     "name": "stdout",
     "output_type": "stream",
     "text": [
      "Chunk = 22\n",
      "(10000, 6)\n"
     ]
    },
    {
     "data": {
      "application/vnd.jupyter.widget-view+json": {
       "model_id": "1261bf1f4341430fa9edce98407a2c6a",
       "version_major": 2,
       "version_minor": 0
      },
      "text/plain": [
       "VBox(children=(HBox(children=(IntProgress(value=0, description='0.00%', max=5000), Label(value='0 / 5000'))), …"
      ]
     },
     "metadata": {},
     "output_type": "display_data"
    },
    {
     "name": "stdout",
     "output_type": "stream",
     "text": [
      "Chunk = 23\n",
      "(10000, 6)\n"
     ]
    },
    {
     "data": {
      "application/vnd.jupyter.widget-view+json": {
       "model_id": "c1b60d567c484d57948ca6800ef1aa5f",
       "version_major": 2,
       "version_minor": 0
      },
      "text/plain": [
       "VBox(children=(HBox(children=(IntProgress(value=0, description='0.00%', max=5000), Label(value='0 / 5000'))), …"
      ]
     },
     "metadata": {},
     "output_type": "display_data"
    },
    {
     "name": "stdout",
     "output_type": "stream",
     "text": [
      "Chunk = 24\n",
      "(10000, 6)\n"
     ]
    },
    {
     "data": {
      "application/vnd.jupyter.widget-view+json": {
       "model_id": "0f53c6a75f7e47788199b6748e1b890d",
       "version_major": 2,
       "version_minor": 0
      },
      "text/plain": [
       "VBox(children=(HBox(children=(IntProgress(value=0, description='0.00%', max=5000), Label(value='0 / 5000'))), …"
      ]
     },
     "metadata": {},
     "output_type": "display_data"
    },
    {
     "name": "stdout",
     "output_type": "stream",
     "text": [
      "Chunk = 25\n",
      "(10000, 6)\n"
     ]
    },
    {
     "data": {
      "application/vnd.jupyter.widget-view+json": {
       "model_id": "4257bff40c99410da62930e01e9547df",
       "version_major": 2,
       "version_minor": 0
      },
      "text/plain": [
       "VBox(children=(HBox(children=(IntProgress(value=0, description='0.00%', max=5000), Label(value='0 / 5000'))), …"
      ]
     },
     "metadata": {},
     "output_type": "display_data"
    },
    {
     "name": "stdout",
     "output_type": "stream",
     "text": [
      "Chunk = 26\n",
      "(10000, 6)\n"
     ]
    },
    {
     "data": {
      "application/vnd.jupyter.widget-view+json": {
       "model_id": "9ef7423ac94f45d0a69750d69d39c515",
       "version_major": 2,
       "version_minor": 0
      },
      "text/plain": [
       "VBox(children=(HBox(children=(IntProgress(value=0, description='0.00%', max=5000), Label(value='0 / 5000'))), …"
      ]
     },
     "metadata": {},
     "output_type": "display_data"
    },
    {
     "name": "stdout",
     "output_type": "stream",
     "text": [
      "Chunk = 27\n",
      "(10000, 6)\n"
     ]
    },
    {
     "data": {
      "application/vnd.jupyter.widget-view+json": {
       "model_id": "5218106c22064d61aa5be3479cdaeb46",
       "version_major": 2,
       "version_minor": 0
      },
      "text/plain": [
       "VBox(children=(HBox(children=(IntProgress(value=0, description='0.00%', max=5000), Label(value='0 / 5000'))), …"
      ]
     },
     "metadata": {},
     "output_type": "display_data"
    },
    {
     "name": "stdout",
     "output_type": "stream",
     "text": [
      "Chunk = 28\n",
      "(10000, 6)\n"
     ]
    },
    {
     "data": {
      "application/vnd.jupyter.widget-view+json": {
       "model_id": "cbd81976b98a439da5d29f39c8265558",
       "version_major": 2,
       "version_minor": 0
      },
      "text/plain": [
       "VBox(children=(HBox(children=(IntProgress(value=0, description='0.00%', max=5000), Label(value='0 / 5000'))), …"
      ]
     },
     "metadata": {},
     "output_type": "display_data"
    },
    {
     "name": "stdout",
     "output_type": "stream",
     "text": [
      "Chunk = 29\n",
      "(10000, 6)\n"
     ]
    },
    {
     "data": {
      "application/vnd.jupyter.widget-view+json": {
       "model_id": "82d472620c1f4f289dbc7c9606b8dcfa",
       "version_major": 2,
       "version_minor": 0
      },
      "text/plain": [
       "VBox(children=(HBox(children=(IntProgress(value=0, description='0.00%', max=5000), Label(value='0 / 5000'))), …"
      ]
     },
     "metadata": {},
     "output_type": "display_data"
    },
    {
     "name": "stdout",
     "output_type": "stream",
     "text": [
      "Chunk = 30\n",
      "(10000, 6)\n"
     ]
    },
    {
     "data": {
      "application/vnd.jupyter.widget-view+json": {
       "model_id": "35e97cce96e84f649f4f33d8ea64d5bf",
       "version_major": 2,
       "version_minor": 0
      },
      "text/plain": [
       "VBox(children=(HBox(children=(IntProgress(value=0, description='0.00%', max=5000), Label(value='0 / 5000'))), …"
      ]
     },
     "metadata": {},
     "output_type": "display_data"
    },
    {
     "name": "stdout",
     "output_type": "stream",
     "text": [
      "Chunk = 31\n",
      "(10000, 6)\n"
     ]
    },
    {
     "data": {
      "application/vnd.jupyter.widget-view+json": {
       "model_id": "1116b297c63b49a5b31a0912e8416594",
       "version_major": 2,
       "version_minor": 0
      },
      "text/plain": [
       "VBox(children=(HBox(children=(IntProgress(value=0, description='0.00%', max=5000), Label(value='0 / 5000'))), …"
      ]
     },
     "metadata": {},
     "output_type": "display_data"
    },
    {
     "name": "stdout",
     "output_type": "stream",
     "text": [
      "Chunk = 32\n",
      "(10000, 6)\n"
     ]
    },
    {
     "data": {
      "application/vnd.jupyter.widget-view+json": {
       "model_id": "e51b408f6a6e43f1b4d9806b3901a3ea",
       "version_major": 2,
       "version_minor": 0
      },
      "text/plain": [
       "VBox(children=(HBox(children=(IntProgress(value=0, description='0.00%', max=5000), Label(value='0 / 5000'))), …"
      ]
     },
     "metadata": {},
     "output_type": "display_data"
    },
    {
     "name": "stdout",
     "output_type": "stream",
     "text": [
      "Chunk = 33\n",
      "(10000, 6)\n"
     ]
    },
    {
     "data": {
      "application/vnd.jupyter.widget-view+json": {
       "model_id": "a18f3b49ab084d5fb816a79d45c6bb95",
       "version_major": 2,
       "version_minor": 0
      },
      "text/plain": [
       "VBox(children=(HBox(children=(IntProgress(value=0, description='0.00%', max=5000), Label(value='0 / 5000'))), …"
      ]
     },
     "metadata": {},
     "output_type": "display_data"
    },
    {
     "name": "stdout",
     "output_type": "stream",
     "text": [
      "Chunk = 34\n",
      "(10000, 6)\n"
     ]
    },
    {
     "data": {
      "application/vnd.jupyter.widget-view+json": {
       "model_id": "341f7c8a1d6146089037089568051c0e",
       "version_major": 2,
       "version_minor": 0
      },
      "text/plain": [
       "VBox(children=(HBox(children=(IntProgress(value=0, description='0.00%', max=5000), Label(value='0 / 5000'))), …"
      ]
     },
     "metadata": {},
     "output_type": "display_data"
    },
    {
     "name": "stdout",
     "output_type": "stream",
     "text": [
      "Chunk = 35\n",
      "(10000, 6)\n"
     ]
    },
    {
     "data": {
      "application/vnd.jupyter.widget-view+json": {
       "model_id": "fcb31d621ea64289be97a0ea8b5aa82a",
       "version_major": 2,
       "version_minor": 0
      },
      "text/plain": [
       "VBox(children=(HBox(children=(IntProgress(value=0, description='0.00%', max=5000), Label(value='0 / 5000'))), …"
      ]
     },
     "metadata": {},
     "output_type": "display_data"
    },
    {
     "name": "stdout",
     "output_type": "stream",
     "text": [
      "Chunk = 36\n",
      "(10000, 6)\n"
     ]
    },
    {
     "data": {
      "application/vnd.jupyter.widget-view+json": {
       "model_id": "b0988a70952146ca8562409377b7b4a1",
       "version_major": 2,
       "version_minor": 0
      },
      "text/plain": [
       "VBox(children=(HBox(children=(IntProgress(value=0, description='0.00%', max=5000), Label(value='0 / 5000'))), …"
      ]
     },
     "metadata": {},
     "output_type": "display_data"
    },
    {
     "name": "stdout",
     "output_type": "stream",
     "text": [
      "Chunk = 37\n",
      "(10000, 6)\n"
     ]
    },
    {
     "data": {
      "application/vnd.jupyter.widget-view+json": {
       "model_id": "858a47af866245e6a2b9474798fbc846",
       "version_major": 2,
       "version_minor": 0
      },
      "text/plain": [
       "VBox(children=(HBox(children=(IntProgress(value=0, description='0.00%', max=5000), Label(value='0 / 5000'))), …"
      ]
     },
     "metadata": {},
     "output_type": "display_data"
    },
    {
     "name": "stdout",
     "output_type": "stream",
     "text": [
      "Chunk = 38\n",
      "(10000, 6)\n"
     ]
    },
    {
     "data": {
      "application/vnd.jupyter.widget-view+json": {
       "model_id": "4a6f6a8d8e9b41d09e32a708448aa0dd",
       "version_major": 2,
       "version_minor": 0
      },
      "text/plain": [
       "VBox(children=(HBox(children=(IntProgress(value=0, description='0.00%', max=5000), Label(value='0 / 5000'))), …"
      ]
     },
     "metadata": {},
     "output_type": "display_data"
    },
    {
     "name": "stdout",
     "output_type": "stream",
     "text": [
      "Chunk = 39\n",
      "(10000, 6)\n"
     ]
    },
    {
     "data": {
      "application/vnd.jupyter.widget-view+json": {
       "model_id": "40c5ce068eeb415d8b89fd9615708cdd",
       "version_major": 2,
       "version_minor": 0
      },
      "text/plain": [
       "VBox(children=(HBox(children=(IntProgress(value=0, description='0.00%', max=5000), Label(value='0 / 5000'))), …"
      ]
     },
     "metadata": {},
     "output_type": "display_data"
    },
    {
     "name": "stdout",
     "output_type": "stream",
     "text": [
      "Chunk = 40\n",
      "(10000, 6)\n"
     ]
    },
    {
     "data": {
      "application/vnd.jupyter.widget-view+json": {
       "model_id": "8bdbfdc26ad84d85aa8ba2f47581b72c",
       "version_major": 2,
       "version_minor": 0
      },
      "text/plain": [
       "VBox(children=(HBox(children=(IntProgress(value=0, description='0.00%', max=5000), Label(value='0 / 5000'))), …"
      ]
     },
     "metadata": {},
     "output_type": "display_data"
    },
    {
     "name": "stdout",
     "output_type": "stream",
     "text": [
      "Chunk = 41\n",
      "(10000, 6)\n"
     ]
    },
    {
     "data": {
      "application/vnd.jupyter.widget-view+json": {
       "model_id": "2cf48d99e60c46c5ac9b72b0935dd248",
       "version_major": 2,
       "version_minor": 0
      },
      "text/plain": [
       "VBox(children=(HBox(children=(IntProgress(value=0, description='0.00%', max=5000), Label(value='0 / 5000'))), …"
      ]
     },
     "metadata": {},
     "output_type": "display_data"
    },
    {
     "name": "stdout",
     "output_type": "stream",
     "text": [
      "Chunk = 42\n",
      "(10000, 6)\n"
     ]
    },
    {
     "data": {
      "application/vnd.jupyter.widget-view+json": {
       "model_id": "646fe11fa3714737afda46e55bc734e2",
       "version_major": 2,
       "version_minor": 0
      },
      "text/plain": [
       "VBox(children=(HBox(children=(IntProgress(value=0, description='0.00%', max=5000), Label(value='0 / 5000'))), …"
      ]
     },
     "metadata": {},
     "output_type": "display_data"
    },
    {
     "name": "stdout",
     "output_type": "stream",
     "text": [
      "Chunk = 43\n",
      "(10000, 6)\n"
     ]
    },
    {
     "data": {
      "application/vnd.jupyter.widget-view+json": {
       "model_id": "2de482ef37124f3e8812b941d6600949",
       "version_major": 2,
       "version_minor": 0
      },
      "text/plain": [
       "VBox(children=(HBox(children=(IntProgress(value=0, description='0.00%', max=5000), Label(value='0 / 5000'))), …"
      ]
     },
     "metadata": {},
     "output_type": "display_data"
    },
    {
     "name": "stdout",
     "output_type": "stream",
     "text": [
      "Chunk = 44\n",
      "(10000, 6)\n"
     ]
    },
    {
     "data": {
      "application/vnd.jupyter.widget-view+json": {
       "model_id": "af8f61e2d9c64bda8decfde303cf41b2",
       "version_major": 2,
       "version_minor": 0
      },
      "text/plain": [
       "VBox(children=(HBox(children=(IntProgress(value=0, description='0.00%', max=5000), Label(value='0 / 5000'))), …"
      ]
     },
     "metadata": {},
     "output_type": "display_data"
    },
    {
     "name": "stdout",
     "output_type": "stream",
     "text": [
      "Chunk = 45\n",
      "(10000, 6)\n"
     ]
    },
    {
     "data": {
      "application/vnd.jupyter.widget-view+json": {
       "model_id": "cb4414e7e8434bfb9e6f899d3d7ee100",
       "version_major": 2,
       "version_minor": 0
      },
      "text/plain": [
       "VBox(children=(HBox(children=(IntProgress(value=0, description='0.00%', max=5000), Label(value='0 / 5000'))), …"
      ]
     },
     "metadata": {},
     "output_type": "display_data"
    },
    {
     "name": "stdout",
     "output_type": "stream",
     "text": [
      "Chunk = 46\n",
      "(10000, 6)\n"
     ]
    },
    {
     "data": {
      "application/vnd.jupyter.widget-view+json": {
       "model_id": "679c878b319a4430b1af1b6980891c98",
       "version_major": 2,
       "version_minor": 0
      },
      "text/plain": [
       "VBox(children=(HBox(children=(IntProgress(value=0, description='0.00%', max=5000), Label(value='0 / 5000'))), …"
      ]
     },
     "metadata": {},
     "output_type": "display_data"
    },
    {
     "name": "stdout",
     "output_type": "stream",
     "text": [
      "Chunk = 47\n",
      "(10000, 6)\n"
     ]
    },
    {
     "data": {
      "application/vnd.jupyter.widget-view+json": {
       "model_id": "597a379e699e45219081694f1b801f67",
       "version_major": 2,
       "version_minor": 0
      },
      "text/plain": [
       "VBox(children=(HBox(children=(IntProgress(value=0, description='0.00%', max=5000), Label(value='0 / 5000'))), …"
      ]
     },
     "metadata": {},
     "output_type": "display_data"
    },
    {
     "name": "stdout",
     "output_type": "stream",
     "text": [
      "Chunk = 48\n",
      "(10000, 6)\n"
     ]
    },
    {
     "data": {
      "application/vnd.jupyter.widget-view+json": {
       "model_id": "a911721a951a4d6fbf8eafe6c87a08c6",
       "version_major": 2,
       "version_minor": 0
      },
      "text/plain": [
       "VBox(children=(HBox(children=(IntProgress(value=0, description='0.00%', max=5000), Label(value='0 / 5000'))), …"
      ]
     },
     "metadata": {},
     "output_type": "display_data"
    },
    {
     "name": "stdout",
     "output_type": "stream",
     "text": [
      "Chunk = 49\n",
      "(10000, 6)\n"
     ]
    },
    {
     "data": {
      "application/vnd.jupyter.widget-view+json": {
       "model_id": "772d3c1395fd4adf8f940d3fc6e74ba5",
       "version_major": 2,
       "version_minor": 0
      },
      "text/plain": [
       "VBox(children=(HBox(children=(IntProgress(value=0, description='0.00%', max=5000), Label(value='0 / 5000'))), …"
      ]
     },
     "metadata": {},
     "output_type": "display_data"
    },
    {
     "name": "stdout",
     "output_type": "stream",
     "text": [
      "Chunk = 50\n",
      "(10000, 6)\n"
     ]
    },
    {
     "data": {
      "application/vnd.jupyter.widget-view+json": {
       "model_id": "610bf082647b4c408a2749c203e78ae5",
       "version_major": 2,
       "version_minor": 0
      },
      "text/plain": [
       "VBox(children=(HBox(children=(IntProgress(value=0, description='0.00%', max=5000), Label(value='0 / 5000'))), …"
      ]
     },
     "metadata": {},
     "output_type": "display_data"
    },
    {
     "name": "stdout",
     "output_type": "stream",
     "text": [
      "Chunk = 51\n",
      "(10000, 6)\n"
     ]
    },
    {
     "data": {
      "application/vnd.jupyter.widget-view+json": {
       "model_id": "e97c744b316a4add9b6fa6cf062b87b7",
       "version_major": 2,
       "version_minor": 0
      },
      "text/plain": [
       "VBox(children=(HBox(children=(IntProgress(value=0, description='0.00%', max=5000), Label(value='0 / 5000'))), …"
      ]
     },
     "metadata": {},
     "output_type": "display_data"
    },
    {
     "name": "stdout",
     "output_type": "stream",
     "text": [
      "Chunk = 52\n",
      "(10000, 6)\n"
     ]
    },
    {
     "data": {
      "application/vnd.jupyter.widget-view+json": {
       "model_id": "6eeab982549b44da835f2940a890bd28",
       "version_major": 2,
       "version_minor": 0
      },
      "text/plain": [
       "VBox(children=(HBox(children=(IntProgress(value=0, description='0.00%', max=5000), Label(value='0 / 5000'))), …"
      ]
     },
     "metadata": {},
     "output_type": "display_data"
    },
    {
     "name": "stdout",
     "output_type": "stream",
     "text": [
      "Chunk = 53\n",
      "(10000, 6)\n"
     ]
    },
    {
     "data": {
      "application/vnd.jupyter.widget-view+json": {
       "model_id": "a26e5c3ecdc94763bb72f3d736a1ed09",
       "version_major": 2,
       "version_minor": 0
      },
      "text/plain": [
       "VBox(children=(HBox(children=(IntProgress(value=0, description='0.00%', max=5000), Label(value='0 / 5000'))), …"
      ]
     },
     "metadata": {},
     "output_type": "display_data"
    },
    {
     "name": "stdout",
     "output_type": "stream",
     "text": [
      "Chunk = 54\n",
      "(10000, 6)\n"
     ]
    },
    {
     "data": {
      "application/vnd.jupyter.widget-view+json": {
       "model_id": "43a628739fb6401483c8922defd55050",
       "version_major": 2,
       "version_minor": 0
      },
      "text/plain": [
       "VBox(children=(HBox(children=(IntProgress(value=0, description='0.00%', max=5000), Label(value='0 / 5000'))), …"
      ]
     },
     "metadata": {},
     "output_type": "display_data"
    },
    {
     "name": "stdout",
     "output_type": "stream",
     "text": [
      "Chunk = 55\n",
      "(10000, 6)\n"
     ]
    },
    {
     "data": {
      "application/vnd.jupyter.widget-view+json": {
       "model_id": "8a47f362b0bb43fea14763fab8c7b520",
       "version_major": 2,
       "version_minor": 0
      },
      "text/plain": [
       "VBox(children=(HBox(children=(IntProgress(value=0, description='0.00%', max=5000), Label(value='0 / 5000'))), …"
      ]
     },
     "metadata": {},
     "output_type": "display_data"
    },
    {
     "name": "stdout",
     "output_type": "stream",
     "text": [
      "Chunk = 56\n",
      "(10000, 6)\n"
     ]
    },
    {
     "data": {
      "application/vnd.jupyter.widget-view+json": {
       "model_id": "2244822ffd1b46079a1fab10659db70d",
       "version_major": 2,
       "version_minor": 0
      },
      "text/plain": [
       "VBox(children=(HBox(children=(IntProgress(value=0, description='0.00%', max=5000), Label(value='0 / 5000'))), …"
      ]
     },
     "metadata": {},
     "output_type": "display_data"
    },
    {
     "name": "stdout",
     "output_type": "stream",
     "text": [
      "Chunk = 57\n",
      "(10000, 6)\n"
     ]
    },
    {
     "data": {
      "application/vnd.jupyter.widget-view+json": {
       "model_id": "3a0884d54f1d4491a21ac5be9c41c443",
       "version_major": 2,
       "version_minor": 0
      },
      "text/plain": [
       "VBox(children=(HBox(children=(IntProgress(value=0, description='0.00%', max=5000), Label(value='0 / 5000'))), …"
      ]
     },
     "metadata": {},
     "output_type": "display_data"
    },
    {
     "name": "stdout",
     "output_type": "stream",
     "text": [
      "Chunk = 58\n",
      "(10000, 6)\n"
     ]
    },
    {
     "data": {
      "application/vnd.jupyter.widget-view+json": {
       "model_id": "dc873044ec0242a68e7effdff6d61d7d",
       "version_major": 2,
       "version_minor": 0
      },
      "text/plain": [
       "VBox(children=(HBox(children=(IntProgress(value=0, description='0.00%', max=5000), Label(value='0 / 5000'))), …"
      ]
     },
     "metadata": {},
     "output_type": "display_data"
    },
    {
     "name": "stdout",
     "output_type": "stream",
     "text": [
      "Chunk = 59\n",
      "(9999, 6)\n"
     ]
    },
    {
     "data": {
      "application/vnd.jupyter.widget-view+json": {
       "model_id": "8a3a953926264ef198d41df20b1e4539",
       "version_major": 2,
       "version_minor": 0
      },
      "text/plain": [
       "VBox(children=(HBox(children=(IntProgress(value=0, description='0.00%', max=5000), Label(value='0 / 5000'))), …"
      ]
     },
     "metadata": {},
     "output_type": "display_data"
    },
    {
     "name": "stdout",
     "output_type": "stream",
     "text": [
      "Chunk = 60\n",
      "(10000, 6)\n"
     ]
    },
    {
     "data": {
      "application/vnd.jupyter.widget-view+json": {
       "model_id": "620c31dcf5514e7c8042910fc55f780e",
       "version_major": 2,
       "version_minor": 0
      },
      "text/plain": [
       "VBox(children=(HBox(children=(IntProgress(value=0, description='0.00%', max=5000), Label(value='0 / 5000'))), …"
      ]
     },
     "metadata": {},
     "output_type": "display_data"
    },
    {
     "name": "stdout",
     "output_type": "stream",
     "text": [
      "Chunk = 61\n",
      "(10000, 6)\n"
     ]
    },
    {
     "data": {
      "application/vnd.jupyter.widget-view+json": {
       "model_id": "dfa7884dd8c749a9a1db864e880b29fa",
       "version_major": 2,
       "version_minor": 0
      },
      "text/plain": [
       "VBox(children=(HBox(children=(IntProgress(value=0, description='0.00%', max=5000), Label(value='0 / 5000'))), …"
      ]
     },
     "metadata": {},
     "output_type": "display_data"
    },
    {
     "name": "stdout",
     "output_type": "stream",
     "text": [
      "Chunk = 62\n",
      "(10000, 6)\n"
     ]
    },
    {
     "data": {
      "application/vnd.jupyter.widget-view+json": {
       "model_id": "0d74f5788a194ac7813010b46e4315b5",
       "version_major": 2,
       "version_minor": 0
      },
      "text/plain": [
       "VBox(children=(HBox(children=(IntProgress(value=0, description='0.00%', max=5000), Label(value='0 / 5000'))), …"
      ]
     },
     "metadata": {},
     "output_type": "display_data"
    },
    {
     "name": "stdout",
     "output_type": "stream",
     "text": [
      "Chunk = 63\n",
      "(10000, 6)\n"
     ]
    },
    {
     "data": {
      "application/vnd.jupyter.widget-view+json": {
       "model_id": "a1780dffa1c84d39980c11a41481816e",
       "version_major": 2,
       "version_minor": 0
      },
      "text/plain": [
       "VBox(children=(HBox(children=(IntProgress(value=0, description='0.00%', max=5000), Label(value='0 / 5000'))), …"
      ]
     },
     "metadata": {},
     "output_type": "display_data"
    },
    {
     "name": "stdout",
     "output_type": "stream",
     "text": [
      "Chunk = 64\n",
      "(10000, 6)\n"
     ]
    },
    {
     "data": {
      "application/vnd.jupyter.widget-view+json": {
       "model_id": "f3981e4cb8a7471c9c853820623d05ff",
       "version_major": 2,
       "version_minor": 0
      },
      "text/plain": [
       "VBox(children=(HBox(children=(IntProgress(value=0, description='0.00%', max=5000), Label(value='0 / 5000'))), …"
      ]
     },
     "metadata": {},
     "output_type": "display_data"
    },
    {
     "name": "stdout",
     "output_type": "stream",
     "text": [
      "Chunk = 65\n",
      "(10000, 6)\n"
     ]
    },
    {
     "data": {
      "application/vnd.jupyter.widget-view+json": {
       "model_id": "a43f3b6324a3449bb74c16a3bbb88fbe",
       "version_major": 2,
       "version_minor": 0
      },
      "text/plain": [
       "VBox(children=(HBox(children=(IntProgress(value=0, description='0.00%', max=5000), Label(value='0 / 5000'))), …"
      ]
     },
     "metadata": {},
     "output_type": "display_data"
    },
    {
     "name": "stdout",
     "output_type": "stream",
     "text": [
      "Chunk = 66\n",
      "(10000, 6)\n"
     ]
    },
    {
     "data": {
      "application/vnd.jupyter.widget-view+json": {
       "model_id": "e85da3c57046411abc09b45f9524e519",
       "version_major": 2,
       "version_minor": 0
      },
      "text/plain": [
       "VBox(children=(HBox(children=(IntProgress(value=0, description='0.00%', max=5000), Label(value='0 / 5000'))), …"
      ]
     },
     "metadata": {},
     "output_type": "display_data"
    },
    {
     "name": "stdout",
     "output_type": "stream",
     "text": [
      "Chunk = 67\n",
      "(10000, 6)\n"
     ]
    },
    {
     "data": {
      "application/vnd.jupyter.widget-view+json": {
       "model_id": "ab2262e30b844f7e9243fe14e36ac499",
       "version_major": 2,
       "version_minor": 0
      },
      "text/plain": [
       "VBox(children=(HBox(children=(IntProgress(value=0, description='0.00%', max=5000), Label(value='0 / 5000'))), …"
      ]
     },
     "metadata": {},
     "output_type": "display_data"
    },
    {
     "name": "stdout",
     "output_type": "stream",
     "text": [
      "Chunk = 68\n",
      "(10000, 6)\n"
     ]
    },
    {
     "data": {
      "application/vnd.jupyter.widget-view+json": {
       "model_id": "8da2479002ca457fa110ccfe6f46c4a6",
       "version_major": 2,
       "version_minor": 0
      },
      "text/plain": [
       "VBox(children=(HBox(children=(IntProgress(value=0, description='0.00%', max=5000), Label(value='0 / 5000'))), …"
      ]
     },
     "metadata": {},
     "output_type": "display_data"
    },
    {
     "name": "stdout",
     "output_type": "stream",
     "text": [
      "Chunk = 69\n",
      "(10000, 6)\n"
     ]
    },
    {
     "data": {
      "application/vnd.jupyter.widget-view+json": {
       "model_id": "3955cf9c9af946d1ab86f10b4bb91565",
       "version_major": 2,
       "version_minor": 0
      },
      "text/plain": [
       "VBox(children=(HBox(children=(IntProgress(value=0, description='0.00%', max=5000), Label(value='0 / 5000'))), …"
      ]
     },
     "metadata": {},
     "output_type": "display_data"
    },
    {
     "name": "stdout",
     "output_type": "stream",
     "text": [
      "Chunk = 70\n",
      "(10000, 6)\n"
     ]
    },
    {
     "data": {
      "application/vnd.jupyter.widget-view+json": {
       "model_id": "e9165efcc79d4af1b96a1d07dd00cdac",
       "version_major": 2,
       "version_minor": 0
      },
      "text/plain": [
       "VBox(children=(HBox(children=(IntProgress(value=0, description='0.00%', max=5000), Label(value='0 / 5000'))), …"
      ]
     },
     "metadata": {},
     "output_type": "display_data"
    },
    {
     "name": "stdout",
     "output_type": "stream",
     "text": [
      "Chunk = 71\n",
      "(10000, 6)\n"
     ]
    },
    {
     "data": {
      "application/vnd.jupyter.widget-view+json": {
       "model_id": "10ef1d1ba248448bbcb502afaab09dbe",
       "version_major": 2,
       "version_minor": 0
      },
      "text/plain": [
       "VBox(children=(HBox(children=(IntProgress(value=0, description='0.00%', max=5000), Label(value='0 / 5000'))), …"
      ]
     },
     "metadata": {},
     "output_type": "display_data"
    },
    {
     "name": "stdout",
     "output_type": "stream",
     "text": [
      "Chunk = 72\n",
      "(10000, 6)\n"
     ]
    },
    {
     "data": {
      "application/vnd.jupyter.widget-view+json": {
       "model_id": "826d443e6da642f197a6796c2861823b",
       "version_major": 2,
       "version_minor": 0
      },
      "text/plain": [
       "VBox(children=(HBox(children=(IntProgress(value=0, description='0.00%', max=5000), Label(value='0 / 5000'))), …"
      ]
     },
     "metadata": {},
     "output_type": "display_data"
    },
    {
     "name": "stdout",
     "output_type": "stream",
     "text": [
      "Chunk = 73\n",
      "(10000, 6)\n"
     ]
    },
    {
     "data": {
      "application/vnd.jupyter.widget-view+json": {
       "model_id": "0325a324b0cf4ae59575bec36ea8b6d2",
       "version_major": 2,
       "version_minor": 0
      },
      "text/plain": [
       "VBox(children=(HBox(children=(IntProgress(value=0, description='0.00%', max=5000), Label(value='0 / 5000'))), …"
      ]
     },
     "metadata": {},
     "output_type": "display_data"
    },
    {
     "name": "stdout",
     "output_type": "stream",
     "text": [
      "Chunk = 74\n",
      "(9991, 6)\n"
     ]
    },
    {
     "data": {
      "application/vnd.jupyter.widget-view+json": {
       "model_id": "bcc206a1a4334e9989c583d1e060b416",
       "version_major": 2,
       "version_minor": 0
      },
      "text/plain": [
       "VBox(children=(HBox(children=(IntProgress(value=0, description='0.00%', max=4996), Label(value='0 / 4996'))), …"
      ]
     },
     "metadata": {},
     "output_type": "display_data"
    },
    {
     "name": "stdout",
     "output_type": "stream",
     "text": [
      "Chunk = 75\n",
      "(9975, 6)\n"
     ]
    },
    {
     "data": {
      "application/vnd.jupyter.widget-view+json": {
       "model_id": "40d5f26200e0443a9fb72c12237e3937",
       "version_major": 2,
       "version_minor": 0
      },
      "text/plain": [
       "VBox(children=(HBox(children=(IntProgress(value=0, description='0.00%', max=4988), Label(value='0 / 4988'))), …"
      ]
     },
     "metadata": {},
     "output_type": "display_data"
    },
    {
     "name": "stdout",
     "output_type": "stream",
     "text": [
      "Chunk = 76\n",
      "(9948, 6)\n"
     ]
    },
    {
     "data": {
      "application/vnd.jupyter.widget-view+json": {
       "model_id": "047d0195af444c0ba5b4dcb641e05eb2",
       "version_major": 2,
       "version_minor": 0
      },
      "text/plain": [
       "VBox(children=(HBox(children=(IntProgress(value=0, description='0.00%', max=4974), Label(value='0 / 4974'))), …"
      ]
     },
     "metadata": {},
     "output_type": "display_data"
    },
    {
     "name": "stdout",
     "output_type": "stream",
     "text": [
      "Chunk = 77\n",
      "(9945, 6)\n"
     ]
    },
    {
     "data": {
      "application/vnd.jupyter.widget-view+json": {
       "model_id": "01f08519065947c7bab97a619d4bd86b",
       "version_major": 2,
       "version_minor": 0
      },
      "text/plain": [
       "VBox(children=(HBox(children=(IntProgress(value=0, description='0.00%', max=4973), Label(value='0 / 4973'))), …"
      ]
     },
     "metadata": {},
     "output_type": "display_data"
    },
    {
     "name": "stdout",
     "output_type": "stream",
     "text": [
      "Chunk = 78\n",
      "(9961, 6)\n"
     ]
    },
    {
     "data": {
      "application/vnd.jupyter.widget-view+json": {
       "model_id": "d7395aa8c9104b59a7c97433ef8273e7",
       "version_major": 2,
       "version_minor": 0
      },
      "text/plain": [
       "VBox(children=(HBox(children=(IntProgress(value=0, description='0.00%', max=4981), Label(value='0 / 4981'))), …"
      ]
     },
     "metadata": {},
     "output_type": "display_data"
    },
    {
     "name": "stdout",
     "output_type": "stream",
     "text": [
      "Chunk = 79\n",
      "(9964, 6)\n"
     ]
    },
    {
     "data": {
      "application/vnd.jupyter.widget-view+json": {
       "model_id": "85b093dc3396457ebe636fd012348c48",
       "version_major": 2,
       "version_minor": 0
      },
      "text/plain": [
       "VBox(children=(HBox(children=(IntProgress(value=0, description='0.00%', max=4982), Label(value='0 / 4982'))), …"
      ]
     },
     "metadata": {},
     "output_type": "display_data"
    },
    {
     "name": "stdout",
     "output_type": "stream",
     "text": [
      "Chunk = 80\n",
      "(9958, 6)\n"
     ]
    },
    {
     "data": {
      "application/vnd.jupyter.widget-view+json": {
       "model_id": "05e9581858f442cf97ddbc8273f0c663",
       "version_major": 2,
       "version_minor": 0
      },
      "text/plain": [
       "VBox(children=(HBox(children=(IntProgress(value=0, description='0.00%', max=4979), Label(value='0 / 4979'))), …"
      ]
     },
     "metadata": {},
     "output_type": "display_data"
    },
    {
     "name": "stdout",
     "output_type": "stream",
     "text": [
      "Chunk = 81\n",
      "(9970, 6)\n"
     ]
    },
    {
     "data": {
      "application/vnd.jupyter.widget-view+json": {
       "model_id": "5ef6c2fcce8b47589d030b48a2d1bf31",
       "version_major": 2,
       "version_minor": 0
      },
      "text/plain": [
       "VBox(children=(HBox(children=(IntProgress(value=0, description='0.00%', max=4985), Label(value='0 / 4985'))), …"
      ]
     },
     "metadata": {},
     "output_type": "display_data"
    },
    {
     "name": "stdout",
     "output_type": "stream",
     "text": [
      "Chunk = 82\n",
      "(9960, 6)\n"
     ]
    },
    {
     "data": {
      "application/vnd.jupyter.widget-view+json": {
       "model_id": "113e959c27c74dd19b694dd888c7c4d8",
       "version_major": 2,
       "version_minor": 0
      },
      "text/plain": [
       "VBox(children=(HBox(children=(IntProgress(value=0, description='0.00%', max=4980), Label(value='0 / 4980'))), …"
      ]
     },
     "metadata": {},
     "output_type": "display_data"
    },
    {
     "name": "stdout",
     "output_type": "stream",
     "text": [
      "Chunk = 83\n",
      "(9941, 6)\n"
     ]
    },
    {
     "data": {
      "application/vnd.jupyter.widget-view+json": {
       "model_id": "6b1e722a12f04798964f1d3b1400f73f",
       "version_major": 2,
       "version_minor": 0
      },
      "text/plain": [
       "VBox(children=(HBox(children=(IntProgress(value=0, description='0.00%', max=4971), Label(value='0 / 4971'))), …"
      ]
     },
     "metadata": {},
     "output_type": "display_data"
    },
    {
     "name": "stdout",
     "output_type": "stream",
     "text": [
      "Chunk = 84\n",
      "(9972, 6)\n"
     ]
    },
    {
     "data": {
      "application/vnd.jupyter.widget-view+json": {
       "model_id": "c3c3fefbaeaf478e9b18c91ada5e2df3",
       "version_major": 2,
       "version_minor": 0
      },
      "text/plain": [
       "VBox(children=(HBox(children=(IntProgress(value=0, description='0.00%', max=4986), Label(value='0 / 4986'))), …"
      ]
     },
     "metadata": {},
     "output_type": "display_data"
    },
    {
     "name": "stdout",
     "output_type": "stream",
     "text": [
      "Chunk = 85\n",
      "(9961, 6)\n"
     ]
    },
    {
     "data": {
      "application/vnd.jupyter.widget-view+json": {
       "model_id": "c707eb1f14a04ea48bcfd34ef09e236a",
       "version_major": 2,
       "version_minor": 0
      },
      "text/plain": [
       "VBox(children=(HBox(children=(IntProgress(value=0, description='0.00%', max=4981), Label(value='0 / 4981'))), …"
      ]
     },
     "metadata": {},
     "output_type": "display_data"
    },
    {
     "name": "stdout",
     "output_type": "stream",
     "text": [
      "Chunk = 86\n",
      "(9970, 6)\n"
     ]
    },
    {
     "data": {
      "application/vnd.jupyter.widget-view+json": {
       "model_id": "be7e61cf63ed4a1692dde032db3dce90",
       "version_major": 2,
       "version_minor": 0
      },
      "text/plain": [
       "VBox(children=(HBox(children=(IntProgress(value=0, description='0.00%', max=4985), Label(value='0 / 4985'))), …"
      ]
     },
     "metadata": {},
     "output_type": "display_data"
    },
    {
     "name": "stdout",
     "output_type": "stream",
     "text": [
      "Chunk = 87\n",
      "(9979, 6)\n"
     ]
    },
    {
     "data": {
      "application/vnd.jupyter.widget-view+json": {
       "model_id": "6cced13578d84c03a990d22b1ce22d77",
       "version_major": 2,
       "version_minor": 0
      },
      "text/plain": [
       "VBox(children=(HBox(children=(IntProgress(value=0, description='0.00%', max=4990), Label(value='0 / 4990'))), …"
      ]
     },
     "metadata": {},
     "output_type": "display_data"
    },
    {
     "name": "stdout",
     "output_type": "stream",
     "text": [
      "Chunk = 88\n",
      "(9984, 6)\n"
     ]
    },
    {
     "data": {
      "application/vnd.jupyter.widget-view+json": {
       "model_id": "44faf5979381478b92697b041fe872fe",
       "version_major": 2,
       "version_minor": 0
      },
      "text/plain": [
       "VBox(children=(HBox(children=(IntProgress(value=0, description='0.00%', max=4992), Label(value='0 / 4992'))), …"
      ]
     },
     "metadata": {},
     "output_type": "display_data"
    },
    {
     "name": "stdout",
     "output_type": "stream",
     "text": [
      "Chunk = 89\n",
      "(9977, 6)\n"
     ]
    },
    {
     "data": {
      "application/vnd.jupyter.widget-view+json": {
       "model_id": "413089aa12684ad0ab552fcd78668d65",
       "version_major": 2,
       "version_minor": 0
      },
      "text/plain": [
       "VBox(children=(HBox(children=(IntProgress(value=0, description='0.00%', max=4989), Label(value='0 / 4989'))), …"
      ]
     },
     "metadata": {},
     "output_type": "display_data"
    },
    {
     "name": "stdout",
     "output_type": "stream",
     "text": [
      "Chunk = 90\n",
      "(9971, 6)\n"
     ]
    },
    {
     "data": {
      "application/vnd.jupyter.widget-view+json": {
       "model_id": "1e734fbe2730454c97bc1c2fad4a32dd",
       "version_major": 2,
       "version_minor": 0
      },
      "text/plain": [
       "VBox(children=(HBox(children=(IntProgress(value=0, description='0.00%', max=4986), Label(value='0 / 4986'))), …"
      ]
     },
     "metadata": {},
     "output_type": "display_data"
    },
    {
     "name": "stdout",
     "output_type": "stream",
     "text": [
      "Chunk = 91\n",
      "(9986, 6)\n"
     ]
    },
    {
     "data": {
      "application/vnd.jupyter.widget-view+json": {
       "model_id": "af56a440c4e34d8dba83be98e8974ad3",
       "version_major": 2,
       "version_minor": 0
      },
      "text/plain": [
       "VBox(children=(HBox(children=(IntProgress(value=0, description='0.00%', max=4993), Label(value='0 / 4993'))), …"
      ]
     },
     "metadata": {},
     "output_type": "display_data"
    },
    {
     "name": "stdout",
     "output_type": "stream",
     "text": [
      "Chunk = 92\n",
      "(9978, 6)\n"
     ]
    },
    {
     "data": {
      "application/vnd.jupyter.widget-view+json": {
       "model_id": "a4230147aa234f7b95bc34777e31de99",
       "version_major": 2,
       "version_minor": 0
      },
      "text/plain": [
       "VBox(children=(HBox(children=(IntProgress(value=0, description='0.00%', max=4989), Label(value='0 / 4989'))), …"
      ]
     },
     "metadata": {},
     "output_type": "display_data"
    },
    {
     "name": "stdout",
     "output_type": "stream",
     "text": [
      "Chunk = 93\n",
      "(9983, 6)\n"
     ]
    },
    {
     "data": {
      "application/vnd.jupyter.widget-view+json": {
       "model_id": "d2b74eaba04f437db4e7fb2a3f1fcd19",
       "version_major": 2,
       "version_minor": 0
      },
      "text/plain": [
       "VBox(children=(HBox(children=(IntProgress(value=0, description='0.00%', max=4992), Label(value='0 / 4992'))), …"
      ]
     },
     "metadata": {},
     "output_type": "display_data"
    },
    {
     "name": "stdout",
     "output_type": "stream",
     "text": [
      "Chunk = 94\n",
      "(9982, 6)\n"
     ]
    },
    {
     "data": {
      "application/vnd.jupyter.widget-view+json": {
       "model_id": "f78915f4ea654a6881cedc0f7bfe745d",
       "version_major": 2,
       "version_minor": 0
      },
      "text/plain": [
       "VBox(children=(HBox(children=(IntProgress(value=0, description='0.00%', max=4991), Label(value='0 / 4991'))), …"
      ]
     },
     "metadata": {},
     "output_type": "display_data"
    },
    {
     "name": "stdout",
     "output_type": "stream",
     "text": [
      "Chunk = 95\n",
      "(9984, 6)\n"
     ]
    },
    {
     "data": {
      "application/vnd.jupyter.widget-view+json": {
       "model_id": "ca21a761d1ea43dbb0b377ef4a9cd724",
       "version_major": 2,
       "version_minor": 0
      },
      "text/plain": [
       "VBox(children=(HBox(children=(IntProgress(value=0, description='0.00%', max=4992), Label(value='0 / 4992'))), …"
      ]
     },
     "metadata": {},
     "output_type": "display_data"
    },
    {
     "name": "stdout",
     "output_type": "stream",
     "text": [
      "Chunk = 96\n",
      "(9982, 6)\n"
     ]
    },
    {
     "data": {
      "application/vnd.jupyter.widget-view+json": {
       "model_id": "c85dbce48e8e482292446a8c8c61b7db",
       "version_major": 2,
       "version_minor": 0
      },
      "text/plain": [
       "VBox(children=(HBox(children=(IntProgress(value=0, description='0.00%', max=4991), Label(value='0 / 4991'))), …"
      ]
     },
     "metadata": {},
     "output_type": "display_data"
    },
    {
     "name": "stdout",
     "output_type": "stream",
     "text": [
      "Chunk = 97\n",
      "(9983, 6)\n"
     ]
    },
    {
     "data": {
      "application/vnd.jupyter.widget-view+json": {
       "model_id": "a6fc64b145a449459d335c69f856917b",
       "version_major": 2,
       "version_minor": 0
      },
      "text/plain": [
       "VBox(children=(HBox(children=(IntProgress(value=0, description='0.00%', max=4992), Label(value='0 / 4992'))), …"
      ]
     },
     "metadata": {},
     "output_type": "display_data"
    },
    {
     "name": "stdout",
     "output_type": "stream",
     "text": [
      "Chunk = 98\n",
      "(9981, 6)\n"
     ]
    },
    {
     "data": {
      "application/vnd.jupyter.widget-view+json": {
       "model_id": "4063759e84254b18800e8a63fe249368",
       "version_major": 2,
       "version_minor": 0
      },
      "text/plain": [
       "VBox(children=(HBox(children=(IntProgress(value=0, description='0.00%', max=4991), Label(value='0 / 4991'))), …"
      ]
     },
     "metadata": {},
     "output_type": "display_data"
    },
    {
     "name": "stdout",
     "output_type": "stream",
     "text": [
      "Chunk = 99\n",
      "(9971, 6)\n"
     ]
    },
    {
     "data": {
      "application/vnd.jupyter.widget-view+json": {
       "model_id": "992000dbc7e94214b7b09546f6805386",
       "version_major": 2,
       "version_minor": 0
      },
      "text/plain": [
       "VBox(children=(HBox(children=(IntProgress(value=0, description='0.00%', max=4986), Label(value='0 / 4986'))), …"
      ]
     },
     "metadata": {},
     "output_type": "display_data"
    },
    {
     "name": "stdout",
     "output_type": "stream",
     "text": [
      "Chunk = 100\n",
      "(9979, 6)\n"
     ]
    },
    {
     "data": {
      "application/vnd.jupyter.widget-view+json": {
       "model_id": "b4acb0ea103a4dba9e7fc0be1e6db88e",
       "version_major": 2,
       "version_minor": 0
      },
      "text/plain": [
       "VBox(children=(HBox(children=(IntProgress(value=0, description='0.00%', max=4990), Label(value='0 / 4990'))), …"
      ]
     },
     "metadata": {},
     "output_type": "display_data"
    },
    {
     "name": "stdout",
     "output_type": "stream",
     "text": [
      "Chunk = 101\n",
      "(9984, 6)\n"
     ]
    },
    {
     "data": {
      "application/vnd.jupyter.widget-view+json": {
       "model_id": "9fec62233bcb435db946921674d569f7",
       "version_major": 2,
       "version_minor": 0
      },
      "text/plain": [
       "VBox(children=(HBox(children=(IntProgress(value=0, description='0.00%', max=4992), Label(value='0 / 4992'))), …"
      ]
     },
     "metadata": {},
     "output_type": "display_data"
    },
    {
     "name": "stdout",
     "output_type": "stream",
     "text": [
      "Chunk = 102\n",
      "(9985, 6)\n"
     ]
    },
    {
     "data": {
      "application/vnd.jupyter.widget-view+json": {
       "model_id": "8517d524a3de4cebba5083f4228e530b",
       "version_major": 2,
       "version_minor": 0
      },
      "text/plain": [
       "VBox(children=(HBox(children=(IntProgress(value=0, description='0.00%', max=4993), Label(value='0 / 4993'))), …"
      ]
     },
     "metadata": {},
     "output_type": "display_data"
    },
    {
     "name": "stdout",
     "output_type": "stream",
     "text": [
      "Chunk = 103\n",
      "(9992, 6)\n"
     ]
    },
    {
     "data": {
      "application/vnd.jupyter.widget-view+json": {
       "model_id": "66545fa4d9a34c7ba59c530babaf3843",
       "version_major": 2,
       "version_minor": 0
      },
      "text/plain": [
       "VBox(children=(HBox(children=(IntProgress(value=0, description='0.00%', max=4996), Label(value='0 / 4996'))), …"
      ]
     },
     "metadata": {},
     "output_type": "display_data"
    },
    {
     "name": "stdout",
     "output_type": "stream",
     "text": [
      "Chunk = 104\n",
      "(9985, 6)\n"
     ]
    },
    {
     "data": {
      "application/vnd.jupyter.widget-view+json": {
       "model_id": "2b2cc70b51c04730bddb4759ed2a6b2f",
       "version_major": 2,
       "version_minor": 0
      },
      "text/plain": [
       "VBox(children=(HBox(children=(IntProgress(value=0, description='0.00%', max=4993), Label(value='0 / 4993'))), …"
      ]
     },
     "metadata": {},
     "output_type": "display_data"
    },
    {
     "name": "stdout",
     "output_type": "stream",
     "text": [
      "Chunk = 105\n",
      "(9988, 6)\n"
     ]
    },
    {
     "data": {
      "application/vnd.jupyter.widget-view+json": {
       "model_id": "ea589f21758a47b1822a6e5617d38965",
       "version_major": 2,
       "version_minor": 0
      },
      "text/plain": [
       "VBox(children=(HBox(children=(IntProgress(value=0, description='0.00%', max=4994), Label(value='0 / 4994'))), …"
      ]
     },
     "metadata": {},
     "output_type": "display_data"
    },
    {
     "name": "stdout",
     "output_type": "stream",
     "text": [
      "Chunk = 106\n",
      "(9994, 6)\n"
     ]
    },
    {
     "data": {
      "application/vnd.jupyter.widget-view+json": {
       "model_id": "c5e0a2cb56b4442689570478c06ed0f8",
       "version_major": 2,
       "version_minor": 0
      },
      "text/plain": [
       "VBox(children=(HBox(children=(IntProgress(value=0, description='0.00%', max=4997), Label(value='0 / 4997'))), …"
      ]
     },
     "metadata": {},
     "output_type": "display_data"
    },
    {
     "name": "stdout",
     "output_type": "stream",
     "text": [
      "Chunk = 107\n",
      "(9995, 6)\n"
     ]
    },
    {
     "data": {
      "application/vnd.jupyter.widget-view+json": {
       "model_id": "c78afb88e0ed4aa692ad4dafada581d9",
       "version_major": 2,
       "version_minor": 0
      },
      "text/plain": [
       "VBox(children=(HBox(children=(IntProgress(value=0, description='0.00%', max=4998), Label(value='0 / 4998'))), …"
      ]
     },
     "metadata": {},
     "output_type": "display_data"
    },
    {
     "name": "stdout",
     "output_type": "stream",
     "text": [
      "Chunk = 108\n",
      "(9996, 6)\n"
     ]
    },
    {
     "data": {
      "application/vnd.jupyter.widget-view+json": {
       "model_id": "e9064af09c3544e2b7f387a9aaaff081",
       "version_major": 2,
       "version_minor": 0
      },
      "text/plain": [
       "VBox(children=(HBox(children=(IntProgress(value=0, description='0.00%', max=4998), Label(value='0 / 4998'))), …"
      ]
     },
     "metadata": {},
     "output_type": "display_data"
    },
    {
     "name": "stdout",
     "output_type": "stream",
     "text": [
      "Chunk = 109\n",
      "(9996, 6)\n"
     ]
    },
    {
     "data": {
      "application/vnd.jupyter.widget-view+json": {
       "model_id": "48e4d0c912d545dda765b0735a009ad1",
       "version_major": 2,
       "version_minor": 0
      },
      "text/plain": [
       "VBox(children=(HBox(children=(IntProgress(value=0, description='0.00%', max=4998), Label(value='0 / 4998'))), …"
      ]
     },
     "metadata": {},
     "output_type": "display_data"
    },
    {
     "name": "stdout",
     "output_type": "stream",
     "text": [
      "Chunk = 110\n",
      "(9994, 6)\n"
     ]
    },
    {
     "data": {
      "application/vnd.jupyter.widget-view+json": {
       "model_id": "9923133005bb4ebdb7c14a1ec9cec4d2",
       "version_major": 2,
       "version_minor": 0
      },
      "text/plain": [
       "VBox(children=(HBox(children=(IntProgress(value=0, description='0.00%', max=4997), Label(value='0 / 4997'))), …"
      ]
     },
     "metadata": {},
     "output_type": "display_data"
    },
    {
     "name": "stdout",
     "output_type": "stream",
     "text": [
      "Chunk = 111\n",
      "(9994, 6)\n"
     ]
    },
    {
     "data": {
      "application/vnd.jupyter.widget-view+json": {
       "model_id": "07172bf046df4fe39fe28d059c64dc2c",
       "version_major": 2,
       "version_minor": 0
      },
      "text/plain": [
       "VBox(children=(HBox(children=(IntProgress(value=0, description='0.00%', max=4997), Label(value='0 / 4997'))), …"
      ]
     },
     "metadata": {},
     "output_type": "display_data"
    },
    {
     "name": "stdout",
     "output_type": "stream",
     "text": [
      "Chunk = 112\n",
      "(9996, 6)\n"
     ]
    },
    {
     "data": {
      "application/vnd.jupyter.widget-view+json": {
       "model_id": "a082a3ecd0c342d083a32f9312c755cd",
       "version_major": 2,
       "version_minor": 0
      },
      "text/plain": [
       "VBox(children=(HBox(children=(IntProgress(value=0, description='0.00%', max=4998), Label(value='0 / 4998'))), …"
      ]
     },
     "metadata": {},
     "output_type": "display_data"
    },
    {
     "name": "stdout",
     "output_type": "stream",
     "text": [
      "Chunk = 113\n",
      "(9993, 6)\n"
     ]
    },
    {
     "data": {
      "application/vnd.jupyter.widget-view+json": {
       "model_id": "3d6939a78d2d469992ec39ad9c013fe7",
       "version_major": 2,
       "version_minor": 0
      },
      "text/plain": [
       "VBox(children=(HBox(children=(IntProgress(value=0, description='0.00%', max=4997), Label(value='0 / 4997'))), …"
      ]
     },
     "metadata": {},
     "output_type": "display_data"
    },
    {
     "name": "stdout",
     "output_type": "stream",
     "text": [
      "Chunk = 114\n",
      "(9987, 6)\n"
     ]
    },
    {
     "data": {
      "application/vnd.jupyter.widget-view+json": {
       "model_id": "7ef6a44931bb4c72b01cc60ee601e2a3",
       "version_major": 2,
       "version_minor": 0
      },
      "text/plain": [
       "VBox(children=(HBox(children=(IntProgress(value=0, description='0.00%', max=4994), Label(value='0 / 4994'))), …"
      ]
     },
     "metadata": {},
     "output_type": "display_data"
    },
    {
     "name": "stdout",
     "output_type": "stream",
     "text": [
      "Chunk = 115\n",
      "(9993, 6)\n"
     ]
    },
    {
     "data": {
      "application/vnd.jupyter.widget-view+json": {
       "model_id": "7e0338fdcdbd4f27a6ebb680e554536f",
       "version_major": 2,
       "version_minor": 0
      },
      "text/plain": [
       "VBox(children=(HBox(children=(IntProgress(value=0, description='0.00%', max=4997), Label(value='0 / 4997'))), …"
      ]
     },
     "metadata": {},
     "output_type": "display_data"
    },
    {
     "name": "stdout",
     "output_type": "stream",
     "text": [
      "Chunk = 116\n",
      "(6511, 6)\n"
     ]
    },
    {
     "data": {
      "application/vnd.jupyter.widget-view+json": {
       "model_id": "0dab6726543041308f10506611d9c409",
       "version_major": 2,
       "version_minor": 0
      },
      "text/plain": [
       "VBox(children=(HBox(children=(IntProgress(value=0, description='0.00%', max=3256), Label(value='0 / 3256'))), …"
      ]
     },
     "metadata": {},
     "output_type": "display_data"
    },
    {
     "name": "stdout",
     "output_type": "stream",
     "text": [
      "CPU times: user 6min 19s, sys: 1min 14s, total: 7min 33s\n",
      "Wall time: 2h 16min 19s\n"
     ]
    }
   ],
   "source": [
    "%%time\n",
    "\n",
    "df_iterator = pd.read_csv(\"/Users/kucumovamilana/Downloads/lenta-ru-news-with-2022.csv\", chunksize=10000)\n",
    "new_chunk = 0\n",
    "for df in df_iterator:\n",
    "    new_chunk += 1\n",
    "    print('Chunk =', new_chunk)\n",
    "    # первые 2 выше уже прошлись\n",
    "    if new_chunk <= 2:\n",
    "        continue\n",
    "    df['date'] = pd.to_datetime(df['date'])\n",
    "    df = df[~df['text'].isna()]\n",
    "    df = df[df['date'].dt.year != 1914]\n",
    "    print(df.shape)\n",
    "    df['text'] = df['text'].parallel_apply(make_lemmas)\n",
    "    df.to_csv('lenta_news_with_lemmas.csv', mode='a', header=False)"
   ]
  },
  {
   "cell_type": "markdown",
   "id": "3754d8d7",
   "metadata": {},
   "source": [
    "Проверим что получилось"
   ]
  },
  {
   "cell_type": "code",
   "execution_count": 2,
   "id": "3c08ca81",
   "metadata": {},
   "outputs": [],
   "source": [
    "df = pd.read_csv('lenta_news_with_lemmas.csv')"
   ]
  },
  {
   "cell_type": "code",
   "execution_count": 3,
   "id": "fe1da9f3",
   "metadata": {},
   "outputs": [
    {
     "data": {
      "text/html": [
       "<div>\n",
       "<style scoped>\n",
       "    .dataframe tbody tr th:only-of-type {\n",
       "        vertical-align: middle;\n",
       "    }\n",
       "\n",
       "    .dataframe tbody tr th {\n",
       "        vertical-align: top;\n",
       "    }\n",
       "\n",
       "    .dataframe thead th {\n",
       "        text-align: right;\n",
       "    }\n",
       "</style>\n",
       "<table border=\"1\" class=\"dataframe\">\n",
       "  <thead>\n",
       "    <tr style=\"text-align: right;\">\n",
       "      <th></th>\n",
       "      <th>Unnamed: 0</th>\n",
       "      <th>date</th>\n",
       "      <th>url</th>\n",
       "      <th>topic</th>\n",
       "      <th>tags</th>\n",
       "      <th>title</th>\n",
       "      <th>text</th>\n",
       "    </tr>\n",
       "  </thead>\n",
       "  <tbody>\n",
       "    <tr>\n",
       "      <th>0</th>\n",
       "      <td>5</td>\n",
       "      <td>1999-08-31</td>\n",
       "      <td>https://lenta.ru/news/1999/08/31/stancia_mir/</td>\n",
       "      <td>Россия</td>\n",
       "      <td>Все</td>\n",
       "      <td>Космонавты сомневаются в надежности \"Мира\"</td>\n",
       "      <td>['становиться', 'известно', 'агентство', 'ассо...</td>\n",
       "    </tr>\n",
       "    <tr>\n",
       "      <th>1</th>\n",
       "      <td>6</td>\n",
       "      <td>1999-08-31</td>\n",
       "      <td>https://lenta.ru/news/1999/08/31/vzriv/</td>\n",
       "      <td>Россия</td>\n",
       "      <td>Все</td>\n",
       "      <td>Взрыв в центре Москвы: пострадало 30 человек</td>\n",
       "      <td>['зал', 'игровой', 'автомат', 'третий', 'ярус'...</td>\n",
       "    </tr>\n",
       "    <tr>\n",
       "      <th>2</th>\n",
       "      <td>7</td>\n",
       "      <td>1999-08-31</td>\n",
       "      <td>https://lenta.ru/news/1999/08/31/credit_japs/</td>\n",
       "      <td>Россия</td>\n",
       "      <td>Все</td>\n",
       "      <td>Япония кредитует Россию на полтора миллиарда д...</td>\n",
       "      <td>['япония', 'принимать', 'решение', 'разморажив...</td>\n",
       "    </tr>\n",
       "    <tr>\n",
       "      <th>3</th>\n",
       "      <td>8</td>\n",
       "      <td>1999-08-31</td>\n",
       "      <td>https://lenta.ru/news/1999/08/31/diana/</td>\n",
       "      <td>Мир</td>\n",
       "      <td>Все</td>\n",
       "      <td>Британцы отмечают двухлетие смерти Дианы</td>\n",
       "      <td>['британец', 'отмечать', 'сегодня', 'скорбный'...</td>\n",
       "    </tr>\n",
       "    <tr>\n",
       "      <th>4</th>\n",
       "      <td>9</td>\n",
       "      <td>1999-08-31</td>\n",
       "      <td>https://lenta.ru/news/1999/08/31/mvf/</td>\n",
       "      <td>Россия</td>\n",
       "      <td>Все</td>\n",
       "      <td>Отмытые через Bank of NY деньги не имели отнош...</td>\n",
       "      <td>['понедельник', 'директор', 'департамент', 'вн...</td>\n",
       "    </tr>\n",
       "    <tr>\n",
       "      <th>...</th>\n",
       "      <td>...</td>\n",
       "      <td>...</td>\n",
       "      <td>...</td>\n",
       "      <td>...</td>\n",
       "      <td>...</td>\n",
       "      <td>...</td>\n",
       "      <td>...</td>\n",
       "    </tr>\n",
       "    <tr>\n",
       "      <th>1155604</th>\n",
       "      <td>1156513</td>\n",
       "      <td>2022-11-18</td>\n",
       "      <td>https://lenta.ru/news/2022/11/18/bezhh/</td>\n",
       "      <td>Мир</td>\n",
       "      <td>Общество</td>\n",
       "      <td>Беженца из Украины избили после спора о нацистах</td>\n",
       "      <td>['беженец', 'украина', 'избивать', 'город', 'к...</td>\n",
       "    </tr>\n",
       "    <tr>\n",
       "      <th>1155605</th>\n",
       "      <td>1156514</td>\n",
       "      <td>2022-11-18</td>\n",
       "      <td>https://lenta.ru/news/2022/11/18/nurmagomedov/</td>\n",
       "      <td>Спорт</td>\n",
       "      <td>Бокс и ММА</td>\n",
       "      <td>Брат Нурмагомедова назвал цель выступления в B...</td>\n",
       "      <td>['российский', 'боец', 'смешанный', 'стиль', '...</td>\n",
       "    </tr>\n",
       "    <tr>\n",
       "      <th>1155606</th>\n",
       "      <td>1156515</td>\n",
       "      <td>2022-11-18</td>\n",
       "      <td>https://lenta.ru/news/2022/11/18/bioprint/</td>\n",
       "      <td>Наука и техника</td>\n",
       "      <td>Будущее</td>\n",
       "      <td>Разработана технология печати ткани для трансп...</td>\n",
       "      <td>['ученый', 'израильский', 'технологический', '...</td>\n",
       "    </tr>\n",
       "    <tr>\n",
       "      <th>1155607</th>\n",
       "      <td>1156516</td>\n",
       "      <td>2022-11-18</td>\n",
       "      <td>https://lenta.ru/news/2022/11/18/penni/</td>\n",
       "      <td>Мир</td>\n",
       "      <td>Политика</td>\n",
       "      <td>Республиканцы в Конгрессе потребовали проверит...</td>\n",
       "      <td>['республиканец', 'палата', 'представитель', '...</td>\n",
       "    </tr>\n",
       "    <tr>\n",
       "      <th>1155608</th>\n",
       "      <td>1156517</td>\n",
       "      <td>2022-11-18</td>\n",
       "      <td>https://lenta.ru/news/2022/11/18/magomedov/</td>\n",
       "      <td>Наука и техника</td>\n",
       "      <td>Гаджеты</td>\n",
       "      <td>Россиян предупредили об опасности использовани...</td>\n",
       "      <td>['время', 'подзарядка', 'пользоваться', 'смарт...</td>\n",
       "    </tr>\n",
       "  </tbody>\n",
       "</table>\n",
       "<p>1155609 rows × 7 columns</p>\n",
       "</div>"
      ],
      "text/plain": [
       "         Unnamed: 0        date  \\\n",
       "0                 5  1999-08-31   \n",
       "1                 6  1999-08-31   \n",
       "2                 7  1999-08-31   \n",
       "3                 8  1999-08-31   \n",
       "4                 9  1999-08-31   \n",
       "...             ...         ...   \n",
       "1155604     1156513  2022-11-18   \n",
       "1155605     1156514  2022-11-18   \n",
       "1155606     1156515  2022-11-18   \n",
       "1155607     1156516  2022-11-18   \n",
       "1155608     1156517  2022-11-18   \n",
       "\n",
       "                                                    url            topic  \\\n",
       "0         https://lenta.ru/news/1999/08/31/stancia_mir/           Россия   \n",
       "1               https://lenta.ru/news/1999/08/31/vzriv/           Россия   \n",
       "2         https://lenta.ru/news/1999/08/31/credit_japs/           Россия   \n",
       "3               https://lenta.ru/news/1999/08/31/diana/              Мир   \n",
       "4                 https://lenta.ru/news/1999/08/31/mvf/           Россия   \n",
       "...                                                 ...              ...   \n",
       "1155604         https://lenta.ru/news/2022/11/18/bezhh/              Мир   \n",
       "1155605  https://lenta.ru/news/2022/11/18/nurmagomedov/            Спорт   \n",
       "1155606      https://lenta.ru/news/2022/11/18/bioprint/  Наука и техника   \n",
       "1155607         https://lenta.ru/news/2022/11/18/penni/              Мир   \n",
       "1155608     https://lenta.ru/news/2022/11/18/magomedov/  Наука и техника   \n",
       "\n",
       "               tags                                              title  \\\n",
       "0               Все         Космонавты сомневаются в надежности \"Мира\"   \n",
       "1               Все       Взрыв в центре Москвы: пострадало 30 человек   \n",
       "2               Все  Япония кредитует Россию на полтора миллиарда д...   \n",
       "3               Все           Британцы отмечают двухлетие смерти Дианы   \n",
       "4               Все  Отмытые через Bank of NY деньги не имели отнош...   \n",
       "...             ...                                                ...   \n",
       "1155604    Общество   Беженца из Украины избили после спора о нацистах   \n",
       "1155605  Бокс и ММА  Брат Нурмагомедова назвал цель выступления в B...   \n",
       "1155606     Будущее  Разработана технология печати ткани для трансп...   \n",
       "1155607    Политика  Республиканцы в Конгрессе потребовали проверит...   \n",
       "1155608     Гаджеты  Россиян предупредили об опасности использовани...   \n",
       "\n",
       "                                                      text  \n",
       "0        ['становиться', 'известно', 'агентство', 'ассо...  \n",
       "1        ['зал', 'игровой', 'автомат', 'третий', 'ярус'...  \n",
       "2        ['япония', 'принимать', 'решение', 'разморажив...  \n",
       "3        ['британец', 'отмечать', 'сегодня', 'скорбный'...  \n",
       "4        ['понедельник', 'директор', 'департамент', 'вн...  \n",
       "...                                                    ...  \n",
       "1155604  ['беженец', 'украина', 'избивать', 'город', 'к...  \n",
       "1155605  ['российский', 'боец', 'смешанный', 'стиль', '...  \n",
       "1155606  ['ученый', 'израильский', 'технологический', '...  \n",
       "1155607  ['республиканец', 'палата', 'представитель', '...  \n",
       "1155608  ['время', 'подзарядка', 'пользоваться', 'смарт...  \n",
       "\n",
       "[1155609 rows x 7 columns]"
      ]
     },
     "execution_count": 3,
     "metadata": {},
     "output_type": "execute_result"
    }
   ],
   "source": [
    "df"
   ]
  },
  {
   "cell_type": "markdown",
   "id": "974f56b6",
   "metadata": {},
   "source": [
    "При желании можем по старым индексам присоеднить оригинальные тексты"
   ]
  },
  {
   "cell_type": "markdown",
   "id": "07335d7f",
   "metadata": {},
   "source": [
    "## Мешок слов"
   ]
  },
  {
   "cell_type": "markdown",
   "id": "98fece30",
   "metadata": {},
   "source": [
    "### Общий"
   ]
  },
  {
   "cell_type": "markdown",
   "id": "b6bdf027",
   "metadata": {},
   "source": [
    "Посмотрим на общий мешок слов и изучим самые часто встречающиеся слова"
   ]
  },
  {
   "cell_type": "code",
   "execution_count": 10,
   "id": "3b3f151f",
   "metadata": {},
   "outputs": [],
   "source": [
    "bag_of_words = Counter()"
   ]
  },
  {
   "cell_type": "code",
   "execution_count": 11,
   "id": "baba152c",
   "metadata": {
    "scrolled": true
   },
   "outputs": [
    {
     "name": "stdout",
     "output_type": "stream",
     "text": [
      "Chunk = 1\n",
      "(50000, 7)\n"
     ]
    },
    {
     "data": {
      "application/vnd.jupyter.widget-view+json": {
       "model_id": "89ecd0069f0241aaa97b2a7224866974",
       "version_major": 2,
       "version_minor": 0
      },
      "text/plain": [
       "VBox(children=(HBox(children=(IntProgress(value=0, description='0.00%', max=25000), Label(value='0 / 25000')))…"
      ]
     },
     "metadata": {},
     "output_type": "display_data"
    },
    {
     "name": "stdout",
     "output_type": "stream",
     "text": [
      "Chunk = 2\n",
      "(50000, 7)\n"
     ]
    },
    {
     "data": {
      "application/vnd.jupyter.widget-view+json": {
       "model_id": "0ae3e61abc2841c8ad1ebca8b11fa0b0",
       "version_major": 2,
       "version_minor": 0
      },
      "text/plain": [
       "VBox(children=(HBox(children=(IntProgress(value=0, description='0.00%', max=25000), Label(value='0 / 25000')))…"
      ]
     },
     "metadata": {},
     "output_type": "display_data"
    },
    {
     "name": "stdout",
     "output_type": "stream",
     "text": [
      "Chunk = 3\n",
      "(50000, 7)\n"
     ]
    },
    {
     "data": {
      "application/vnd.jupyter.widget-view+json": {
       "model_id": "c577b7b7b89b42e19143aa5d352690bf",
       "version_major": 2,
       "version_minor": 0
      },
      "text/plain": [
       "VBox(children=(HBox(children=(IntProgress(value=0, description='0.00%', max=25000), Label(value='0 / 25000')))…"
      ]
     },
     "metadata": {},
     "output_type": "display_data"
    },
    {
     "name": "stdout",
     "output_type": "stream",
     "text": [
      "Chunk = 4\n",
      "(50000, 7)\n"
     ]
    },
    {
     "data": {
      "application/vnd.jupyter.widget-view+json": {
       "model_id": "02134f8d9c9745fbb9c1cf34d59a6817",
       "version_major": 2,
       "version_minor": 0
      },
      "text/plain": [
       "VBox(children=(HBox(children=(IntProgress(value=0, description='0.00%', max=25000), Label(value='0 / 25000')))…"
      ]
     },
     "metadata": {},
     "output_type": "display_data"
    },
    {
     "name": "stdout",
     "output_type": "stream",
     "text": [
      "Chunk = 5\n",
      "(50000, 7)\n"
     ]
    },
    {
     "data": {
      "application/vnd.jupyter.widget-view+json": {
       "model_id": "84611904f67d4b5aa5ed1113480011fb",
       "version_major": 2,
       "version_minor": 0
      },
      "text/plain": [
       "VBox(children=(HBox(children=(IntProgress(value=0, description='0.00%', max=25000), Label(value='0 / 25000')))…"
      ]
     },
     "metadata": {},
     "output_type": "display_data"
    },
    {
     "name": "stdout",
     "output_type": "stream",
     "text": [
      "Chunk = 6\n",
      "(50000, 7)\n"
     ]
    },
    {
     "data": {
      "application/vnd.jupyter.widget-view+json": {
       "model_id": "e088b0309878464882d28337976614f4",
       "version_major": 2,
       "version_minor": 0
      },
      "text/plain": [
       "VBox(children=(HBox(children=(IntProgress(value=0, description='0.00%', max=25000), Label(value='0 / 25000')))…"
      ]
     },
     "metadata": {},
     "output_type": "display_data"
    },
    {
     "name": "stdout",
     "output_type": "stream",
     "text": [
      "Chunk = 7\n",
      "(50000, 7)\n"
     ]
    },
    {
     "data": {
      "application/vnd.jupyter.widget-view+json": {
       "model_id": "573fda8253ed446585db907ae7ab00ec",
       "version_major": 2,
       "version_minor": 0
      },
      "text/plain": [
       "VBox(children=(HBox(children=(IntProgress(value=0, description='0.00%', max=25000), Label(value='0 / 25000')))…"
      ]
     },
     "metadata": {},
     "output_type": "display_data"
    },
    {
     "name": "stdout",
     "output_type": "stream",
     "text": [
      "Chunk = 8\n",
      "(50000, 7)\n"
     ]
    },
    {
     "data": {
      "application/vnd.jupyter.widget-view+json": {
       "model_id": "faf73b0aebdc4cd89982e5d06811f076",
       "version_major": 2,
       "version_minor": 0
      },
      "text/plain": [
       "VBox(children=(HBox(children=(IntProgress(value=0, description='0.00%', max=25000), Label(value='0 / 25000')))…"
      ]
     },
     "metadata": {},
     "output_type": "display_data"
    },
    {
     "name": "stdout",
     "output_type": "stream",
     "text": [
      "Chunk = 9\n",
      "(50000, 7)\n"
     ]
    },
    {
     "data": {
      "application/vnd.jupyter.widget-view+json": {
       "model_id": "d98e497bdeda4d68b2c53e1060b0b1a5",
       "version_major": 2,
       "version_minor": 0
      },
      "text/plain": [
       "VBox(children=(HBox(children=(IntProgress(value=0, description='0.00%', max=25000), Label(value='0 / 25000')))…"
      ]
     },
     "metadata": {},
     "output_type": "display_data"
    },
    {
     "name": "stdout",
     "output_type": "stream",
     "text": [
      "Chunk = 10\n",
      "(50000, 7)\n"
     ]
    },
    {
     "data": {
      "application/vnd.jupyter.widget-view+json": {
       "model_id": "7d20bdc82f68403fad41a174de69a7a8",
       "version_major": 2,
       "version_minor": 0
      },
      "text/plain": [
       "VBox(children=(HBox(children=(IntProgress(value=0, description='0.00%', max=25000), Label(value='0 / 25000')))…"
      ]
     },
     "metadata": {},
     "output_type": "display_data"
    },
    {
     "name": "stdout",
     "output_type": "stream",
     "text": [
      "Chunk = 11\n",
      "(50000, 7)\n"
     ]
    },
    {
     "data": {
      "application/vnd.jupyter.widget-view+json": {
       "model_id": "f410c3e97a0e48f785f57edd4d0e6a00",
       "version_major": 2,
       "version_minor": 0
      },
      "text/plain": [
       "VBox(children=(HBox(children=(IntProgress(value=0, description='0.00%', max=25000), Label(value='0 / 25000')))…"
      ]
     },
     "metadata": {},
     "output_type": "display_data"
    },
    {
     "name": "stdout",
     "output_type": "stream",
     "text": [
      "Chunk = 12\n",
      "(50000, 7)\n"
     ]
    },
    {
     "data": {
      "application/vnd.jupyter.widget-view+json": {
       "model_id": "3cc0be6569454ff2bf2a1bafacb27636",
       "version_major": 2,
       "version_minor": 0
      },
      "text/plain": [
       "VBox(children=(HBox(children=(IntProgress(value=0, description='0.00%', max=25000), Label(value='0 / 25000')))…"
      ]
     },
     "metadata": {},
     "output_type": "display_data"
    },
    {
     "name": "stdout",
     "output_type": "stream",
     "text": [
      "Chunk = 13\n",
      "(50000, 7)\n"
     ]
    },
    {
     "data": {
      "application/vnd.jupyter.widget-view+json": {
       "model_id": "b3f547307cf54b17b62c72976e5a2df9",
       "version_major": 2,
       "version_minor": 0
      },
      "text/plain": [
       "VBox(children=(HBox(children=(IntProgress(value=0, description='0.00%', max=25000), Label(value='0 / 25000')))…"
      ]
     },
     "metadata": {},
     "output_type": "display_data"
    },
    {
     "name": "stdout",
     "output_type": "stream",
     "text": [
      "Chunk = 14\n",
      "(50000, 7)\n"
     ]
    },
    {
     "data": {
      "application/vnd.jupyter.widget-view+json": {
       "model_id": "9faf9017330f423ab301fa654795131b",
       "version_major": 2,
       "version_minor": 0
      },
      "text/plain": [
       "VBox(children=(HBox(children=(IntProgress(value=0, description='0.00%', max=25000), Label(value='0 / 25000')))…"
      ]
     },
     "metadata": {},
     "output_type": "display_data"
    },
    {
     "name": "stdout",
     "output_type": "stream",
     "text": [
      "Chunk = 15\n",
      "(50000, 7)\n"
     ]
    },
    {
     "data": {
      "application/vnd.jupyter.widget-view+json": {
       "model_id": "c9796ba3d226443cad2b1f2dd3201499",
       "version_major": 2,
       "version_minor": 0
      },
      "text/plain": [
       "VBox(children=(HBox(children=(IntProgress(value=0, description='0.00%', max=25000), Label(value='0 / 25000')))…"
      ]
     },
     "metadata": {},
     "output_type": "display_data"
    },
    {
     "name": "stdout",
     "output_type": "stream",
     "text": [
      "Chunk = 16\n",
      "(50000, 7)\n"
     ]
    },
    {
     "data": {
      "application/vnd.jupyter.widget-view+json": {
       "model_id": "cf9907642e8e45879788bf80b10e24db",
       "version_major": 2,
       "version_minor": 0
      },
      "text/plain": [
       "VBox(children=(HBox(children=(IntProgress(value=0, description='0.00%', max=25000), Label(value='0 / 25000')))…"
      ]
     },
     "metadata": {},
     "output_type": "display_data"
    },
    {
     "name": "stdout",
     "output_type": "stream",
     "text": [
      "Chunk = 17\n",
      "(50000, 7)\n"
     ]
    },
    {
     "data": {
      "application/vnd.jupyter.widget-view+json": {
       "model_id": "e136bad71dda4c399dd635cbadb20316",
       "version_major": 2,
       "version_minor": 0
      },
      "text/plain": [
       "VBox(children=(HBox(children=(IntProgress(value=0, description='0.00%', max=25000), Label(value='0 / 25000')))…"
      ]
     },
     "metadata": {},
     "output_type": "display_data"
    },
    {
     "name": "stdout",
     "output_type": "stream",
     "text": [
      "Chunk = 18\n",
      "(50000, 7)\n"
     ]
    },
    {
     "data": {
      "application/vnd.jupyter.widget-view+json": {
       "model_id": "1001843a01974ea3912979c7f4e555f8",
       "version_major": 2,
       "version_minor": 0
      },
      "text/plain": [
       "VBox(children=(HBox(children=(IntProgress(value=0, description='0.00%', max=25000), Label(value='0 / 25000')))…"
      ]
     },
     "metadata": {},
     "output_type": "display_data"
    },
    {
     "name": "stdout",
     "output_type": "stream",
     "text": [
      "Chunk = 19\n",
      "(50000, 7)\n"
     ]
    },
    {
     "data": {
      "application/vnd.jupyter.widget-view+json": {
       "model_id": "1bc95a45a17546c88ab2f5abbae704fd",
       "version_major": 2,
       "version_minor": 0
      },
      "text/plain": [
       "VBox(children=(HBox(children=(IntProgress(value=0, description='0.00%', max=25000), Label(value='0 / 25000')))…"
      ]
     },
     "metadata": {},
     "output_type": "display_data"
    },
    {
     "name": "stdout",
     "output_type": "stream",
     "text": [
      "Chunk = 20\n",
      "(50000, 7)\n"
     ]
    },
    {
     "data": {
      "application/vnd.jupyter.widget-view+json": {
       "model_id": "6bca83ad36554ad78fe155ab61391836",
       "version_major": 2,
       "version_minor": 0
      },
      "text/plain": [
       "VBox(children=(HBox(children=(IntProgress(value=0, description='0.00%', max=25000), Label(value='0 / 25000')))…"
      ]
     },
     "metadata": {},
     "output_type": "display_data"
    },
    {
     "name": "stdout",
     "output_type": "stream",
     "text": [
      "Chunk = 21\n",
      "(50000, 7)\n"
     ]
    },
    {
     "data": {
      "application/vnd.jupyter.widget-view+json": {
       "model_id": "2af75401d4fa454ab1aa1a7be95ae4a1",
       "version_major": 2,
       "version_minor": 0
      },
      "text/plain": [
       "VBox(children=(HBox(children=(IntProgress(value=0, description='0.00%', max=25000), Label(value='0 / 25000')))…"
      ]
     },
     "metadata": {},
     "output_type": "display_data"
    },
    {
     "name": "stdout",
     "output_type": "stream",
     "text": [
      "Chunk = 22\n",
      "(50000, 7)\n"
     ]
    },
    {
     "data": {
      "application/vnd.jupyter.widget-view+json": {
       "model_id": "1d1abaf82f6546c7858e2081126d883e",
       "version_major": 2,
       "version_minor": 0
      },
      "text/plain": [
       "VBox(children=(HBox(children=(IntProgress(value=0, description='0.00%', max=25000), Label(value='0 / 25000')))…"
      ]
     },
     "metadata": {},
     "output_type": "display_data"
    },
    {
     "name": "stdout",
     "output_type": "stream",
     "text": [
      "Chunk = 23\n",
      "(50000, 7)\n"
     ]
    },
    {
     "data": {
      "application/vnd.jupyter.widget-view+json": {
       "model_id": "ddc6931a9915477da19e2444821da2ad",
       "version_major": 2,
       "version_minor": 0
      },
      "text/plain": [
       "VBox(children=(HBox(children=(IntProgress(value=0, description='0.00%', max=25000), Label(value='0 / 25000')))…"
      ]
     },
     "metadata": {},
     "output_type": "display_data"
    },
    {
     "name": "stdout",
     "output_type": "stream",
     "text": [
      "Chunk = 24\n",
      "(5609, 7)\n"
     ]
    },
    {
     "data": {
      "application/vnd.jupyter.widget-view+json": {
       "model_id": "9583a4d41656486c8a00a2e073f8becd",
       "version_major": 2,
       "version_minor": 0
      },
      "text/plain": [
       "VBox(children=(HBox(children=(IntProgress(value=0, description='0.00%', max=2805), Label(value='0 / 2805'))), …"
      ]
     },
     "metadata": {},
     "output_type": "display_data"
    }
   ],
   "source": [
    "df_iterator = pd.read_csv(\"lenta_news_with_lemmas.csv\", chunksize=50000)\n",
    "chunk = 0\n",
    "for df in df_iterator:\n",
    "    chunk += 1\n",
    "    print('Chunk =', chunk)\n",
    "    print(df.shape)\n",
    "    df['text'] = df['text'].parallel_apply(lambda x: x[2:-2].split(\"', '\"))\n",
    "    bag_of_words += Counter(list(itertools.chain(*list(df['text']))))"
   ]
  },
  {
   "cell_type": "code",
   "execution_count": 15,
   "id": "144c468c",
   "metadata": {},
   "outputs": [
    {
     "data": {
      "text/plain": [
       "[('год', 1782742),\n",
       " ('который', 1379435),\n",
       " ('это', 1351046),\n",
       " ('россия', 886914),\n",
       " ('сообщать', 865085),\n",
       " ('свой', 677716),\n",
       " ('также', 676145),\n",
       " ('заявлять', 566810),\n",
       " ('человек', 553360),\n",
       " ('время', 535517),\n",
       " ('российский', 522626),\n",
       " ('становиться', 514772),\n",
       " ('страна', 514679),\n",
       " ('слово', 482852),\n",
       " ('процент', 473653),\n",
       " ('мочь', 464621),\n",
       " ('компания', 437754),\n",
       " ('весь', 431550),\n",
       " ('президент', 412912),\n",
       " ('ранее', 408554)]"
      ]
     },
     "execution_count": 15,
     "metadata": {},
     "output_type": "execute_result"
    }
   ],
   "source": [
    "sorted(bag_of_words.items(), key=lambda item: item[1], reverse=True)[:20]"
   ]
  },
  {
   "cell_type": "markdown",
   "id": "97b3bda0",
   "metadata": {},
   "source": [
    "### Мешок слов по топику"
   ]
  },
  {
   "cell_type": "code",
   "execution_count": 36,
   "id": "d19d98f5",
   "metadata": {},
   "outputs": [],
   "source": [
    "df_topic = pd.DataFrame(columns=['topic', 'bag_of_words'])\n",
    "\n",
    "def bag_of_words_bytopic(topic):\n",
    "    df_topic_f = df[df['topic'] == topic]\n",
    "\n",
    "    list_of_news = list(df_topic_f['text'])\n",
    "    union_list_of_news = list(itertools.chain(*list_of_news))\n",
    "    \n",
    "    bow_counter = Counter(union_list_of_news)\n",
    "    \n",
    "    return bow_counter"
   ]
  },
  {
   "cell_type": "code",
   "execution_count": 37,
   "id": "a5e6d773",
   "metadata": {
    "scrolled": true
   },
   "outputs": [
    {
     "name": "stdout",
     "output_type": "stream",
     "text": [
      "Chunk = 1\n",
      "(50000, 7)\n"
     ]
    },
    {
     "data": {
      "application/vnd.jupyter.widget-view+json": {
       "model_id": "75c1060396d3413f9248b6679c753144",
       "version_major": 2,
       "version_minor": 0
      },
      "text/plain": [
       "VBox(children=(HBox(children=(IntProgress(value=0, description='0.00%', max=25000), Label(value='0 / 25000')))…"
      ]
     },
     "metadata": {},
     "output_type": "display_data"
    },
    {
     "name": "stdout",
     "output_type": "stream",
     "text": [
      "Chunk = 2\n",
      "(50000, 7)\n"
     ]
    },
    {
     "data": {
      "application/vnd.jupyter.widget-view+json": {
       "model_id": "27c712fd287a454cbaddc5016cdd3a6b",
       "version_major": 2,
       "version_minor": 0
      },
      "text/plain": [
       "VBox(children=(HBox(children=(IntProgress(value=0, description='0.00%', max=25000), Label(value='0 / 25000')))…"
      ]
     },
     "metadata": {},
     "output_type": "display_data"
    },
    {
     "name": "stdout",
     "output_type": "stream",
     "text": [
      "Chunk = 3\n",
      "(50000, 7)\n"
     ]
    },
    {
     "data": {
      "application/vnd.jupyter.widget-view+json": {
       "model_id": "37714404259749d3b5ac1408a1faf54f",
       "version_major": 2,
       "version_minor": 0
      },
      "text/plain": [
       "VBox(children=(HBox(children=(IntProgress(value=0, description='0.00%', max=25000), Label(value='0 / 25000')))…"
      ]
     },
     "metadata": {},
     "output_type": "display_data"
    },
    {
     "name": "stdout",
     "output_type": "stream",
     "text": [
      "Chunk = 4\n",
      "(50000, 7)\n"
     ]
    },
    {
     "data": {
      "application/vnd.jupyter.widget-view+json": {
       "model_id": "5e734c22bd61427bbc0d97279c8e7359",
       "version_major": 2,
       "version_minor": 0
      },
      "text/plain": [
       "VBox(children=(HBox(children=(IntProgress(value=0, description='0.00%', max=25000), Label(value='0 / 25000')))…"
      ]
     },
     "metadata": {},
     "output_type": "display_data"
    },
    {
     "name": "stdout",
     "output_type": "stream",
     "text": [
      "Chunk = 5\n",
      "(50000, 7)\n"
     ]
    },
    {
     "data": {
      "application/vnd.jupyter.widget-view+json": {
       "model_id": "ae168c2ddcb64c9bb1a53586062e728f",
       "version_major": 2,
       "version_minor": 0
      },
      "text/plain": [
       "VBox(children=(HBox(children=(IntProgress(value=0, description='0.00%', max=25000), Label(value='0 / 25000')))…"
      ]
     },
     "metadata": {},
     "output_type": "display_data"
    },
    {
     "name": "stdout",
     "output_type": "stream",
     "text": [
      "Chunk = 6\n",
      "(50000, 7)\n"
     ]
    },
    {
     "data": {
      "application/vnd.jupyter.widget-view+json": {
       "model_id": "f1ba14e29c6f448aa305b333f2bee0e8",
       "version_major": 2,
       "version_minor": 0
      },
      "text/plain": [
       "VBox(children=(HBox(children=(IntProgress(value=0, description='0.00%', max=25000), Label(value='0 / 25000')))…"
      ]
     },
     "metadata": {},
     "output_type": "display_data"
    },
    {
     "name": "stdout",
     "output_type": "stream",
     "text": [
      "Chunk = 7\n",
      "(50000, 7)\n"
     ]
    },
    {
     "data": {
      "application/vnd.jupyter.widget-view+json": {
       "model_id": "a4faa1b521454f48b7b076def7595df0",
       "version_major": 2,
       "version_minor": 0
      },
      "text/plain": [
       "VBox(children=(HBox(children=(IntProgress(value=0, description='0.00%', max=25000), Label(value='0 / 25000')))…"
      ]
     },
     "metadata": {},
     "output_type": "display_data"
    },
    {
     "name": "stdout",
     "output_type": "stream",
     "text": [
      "Chunk = 8\n",
      "(50000, 7)\n"
     ]
    },
    {
     "data": {
      "application/vnd.jupyter.widget-view+json": {
       "model_id": "a04c35a94d4640e6889f0f47ed4a00d1",
       "version_major": 2,
       "version_minor": 0
      },
      "text/plain": [
       "VBox(children=(HBox(children=(IntProgress(value=0, description='0.00%', max=25000), Label(value='0 / 25000')))…"
      ]
     },
     "metadata": {},
     "output_type": "display_data"
    },
    {
     "name": "stdout",
     "output_type": "stream",
     "text": [
      "Chunk = 9\n",
      "(50000, 7)\n"
     ]
    },
    {
     "data": {
      "application/vnd.jupyter.widget-view+json": {
       "model_id": "85cde0b251314b66994de4b5ec066a10",
       "version_major": 2,
       "version_minor": 0
      },
      "text/plain": [
       "VBox(children=(HBox(children=(IntProgress(value=0, description='0.00%', max=25000), Label(value='0 / 25000')))…"
      ]
     },
     "metadata": {},
     "output_type": "display_data"
    },
    {
     "name": "stdout",
     "output_type": "stream",
     "text": [
      "Chunk = 10\n",
      "(50000, 7)\n"
     ]
    },
    {
     "data": {
      "application/vnd.jupyter.widget-view+json": {
       "model_id": "9ddca1e6682148eba96504d23dc6c22e",
       "version_major": 2,
       "version_minor": 0
      },
      "text/plain": [
       "VBox(children=(HBox(children=(IntProgress(value=0, description='0.00%', max=25000), Label(value='0 / 25000')))…"
      ]
     },
     "metadata": {},
     "output_type": "display_data"
    },
    {
     "name": "stdout",
     "output_type": "stream",
     "text": [
      "Chunk = 11\n",
      "(50000, 7)\n"
     ]
    },
    {
     "data": {
      "application/vnd.jupyter.widget-view+json": {
       "model_id": "6a2497e44906456b86652d8b3944b994",
       "version_major": 2,
       "version_minor": 0
      },
      "text/plain": [
       "VBox(children=(HBox(children=(IntProgress(value=0, description='0.00%', max=25000), Label(value='0 / 25000')))…"
      ]
     },
     "metadata": {},
     "output_type": "display_data"
    },
    {
     "name": "stdout",
     "output_type": "stream",
     "text": [
      "Chunk = 12\n",
      "(50000, 7)\n"
     ]
    },
    {
     "data": {
      "application/vnd.jupyter.widget-view+json": {
       "model_id": "521b7f013d3d4738a1364e9bbfeb30ce",
       "version_major": 2,
       "version_minor": 0
      },
      "text/plain": [
       "VBox(children=(HBox(children=(IntProgress(value=0, description='0.00%', max=25000), Label(value='0 / 25000')))…"
      ]
     },
     "metadata": {},
     "output_type": "display_data"
    },
    {
     "name": "stdout",
     "output_type": "stream",
     "text": [
      "Chunk = 13\n",
      "(50000, 7)\n"
     ]
    },
    {
     "data": {
      "application/vnd.jupyter.widget-view+json": {
       "model_id": "3f5417d4821b4b3d8f87acc25038685a",
       "version_major": 2,
       "version_minor": 0
      },
      "text/plain": [
       "VBox(children=(HBox(children=(IntProgress(value=0, description='0.00%', max=25000), Label(value='0 / 25000')))…"
      ]
     },
     "metadata": {},
     "output_type": "display_data"
    },
    {
     "name": "stdout",
     "output_type": "stream",
     "text": [
      "Chunk = 14\n",
      "(50000, 7)\n"
     ]
    },
    {
     "data": {
      "application/vnd.jupyter.widget-view+json": {
       "model_id": "2d4ecc1355db44b0b75f85cff74e4bb9",
       "version_major": 2,
       "version_minor": 0
      },
      "text/plain": [
       "VBox(children=(HBox(children=(IntProgress(value=0, description='0.00%', max=25000), Label(value='0 / 25000')))…"
      ]
     },
     "metadata": {},
     "output_type": "display_data"
    },
    {
     "name": "stdout",
     "output_type": "stream",
     "text": [
      "Chunk = 15\n",
      "(50000, 7)\n"
     ]
    },
    {
     "data": {
      "application/vnd.jupyter.widget-view+json": {
       "model_id": "2ebb17f6938f4a7e9cbb8f83f131a584",
       "version_major": 2,
       "version_minor": 0
      },
      "text/plain": [
       "VBox(children=(HBox(children=(IntProgress(value=0, description='0.00%', max=25000), Label(value='0 / 25000')))…"
      ]
     },
     "metadata": {},
     "output_type": "display_data"
    },
    {
     "name": "stdout",
     "output_type": "stream",
     "text": [
      "Chunk = 16\n",
      "(50000, 7)\n"
     ]
    },
    {
     "data": {
      "application/vnd.jupyter.widget-view+json": {
       "model_id": "d9e823dc97504665bb525eb3143754c6",
       "version_major": 2,
       "version_minor": 0
      },
      "text/plain": [
       "VBox(children=(HBox(children=(IntProgress(value=0, description='0.00%', max=25000), Label(value='0 / 25000')))…"
      ]
     },
     "metadata": {},
     "output_type": "display_data"
    },
    {
     "name": "stdout",
     "output_type": "stream",
     "text": [
      "Chunk = 17\n",
      "(50000, 7)\n"
     ]
    },
    {
     "data": {
      "application/vnd.jupyter.widget-view+json": {
       "model_id": "9f033d0c6dfe4674ab4609632b0bde6a",
       "version_major": 2,
       "version_minor": 0
      },
      "text/plain": [
       "VBox(children=(HBox(children=(IntProgress(value=0, description='0.00%', max=25000), Label(value='0 / 25000')))…"
      ]
     },
     "metadata": {},
     "output_type": "display_data"
    },
    {
     "name": "stdout",
     "output_type": "stream",
     "text": [
      "Chunk = 18\n",
      "(50000, 7)\n"
     ]
    },
    {
     "data": {
      "application/vnd.jupyter.widget-view+json": {
       "model_id": "1a068a7dc7e7421e852f6e81f3640eb9",
       "version_major": 2,
       "version_minor": 0
      },
      "text/plain": [
       "VBox(children=(HBox(children=(IntProgress(value=0, description='0.00%', max=25000), Label(value='0 / 25000')))…"
      ]
     },
     "metadata": {},
     "output_type": "display_data"
    },
    {
     "name": "stdout",
     "output_type": "stream",
     "text": [
      "Chunk = 19\n",
      "(50000, 7)\n"
     ]
    },
    {
     "data": {
      "application/vnd.jupyter.widget-view+json": {
       "model_id": "6928d35c70d940d780e537b0d3b02768",
       "version_major": 2,
       "version_minor": 0
      },
      "text/plain": [
       "VBox(children=(HBox(children=(IntProgress(value=0, description='0.00%', max=25000), Label(value='0 / 25000')))…"
      ]
     },
     "metadata": {},
     "output_type": "display_data"
    },
    {
     "name": "stdout",
     "output_type": "stream",
     "text": [
      "Chunk = 20\n",
      "(50000, 7)\n"
     ]
    },
    {
     "data": {
      "application/vnd.jupyter.widget-view+json": {
       "model_id": "4f3d1a78d2384eb685d86848f5b69937",
       "version_major": 2,
       "version_minor": 0
      },
      "text/plain": [
       "VBox(children=(HBox(children=(IntProgress(value=0, description='0.00%', max=25000), Label(value='0 / 25000')))…"
      ]
     },
     "metadata": {},
     "output_type": "display_data"
    },
    {
     "name": "stdout",
     "output_type": "stream",
     "text": [
      "Chunk = 21\n",
      "(50000, 7)\n"
     ]
    },
    {
     "data": {
      "application/vnd.jupyter.widget-view+json": {
       "model_id": "4d28a23029f7498fa9d4b9e47677c821",
       "version_major": 2,
       "version_minor": 0
      },
      "text/plain": [
       "VBox(children=(HBox(children=(IntProgress(value=0, description='0.00%', max=25000), Label(value='0 / 25000')))…"
      ]
     },
     "metadata": {},
     "output_type": "display_data"
    },
    {
     "name": "stdout",
     "output_type": "stream",
     "text": [
      "Chunk = 22\n",
      "(50000, 7)\n"
     ]
    },
    {
     "data": {
      "application/vnd.jupyter.widget-view+json": {
       "model_id": "5ec17425dcd24dab9769f973ccac5867",
       "version_major": 2,
       "version_minor": 0
      },
      "text/plain": [
       "VBox(children=(HBox(children=(IntProgress(value=0, description='0.00%', max=25000), Label(value='0 / 25000')))…"
      ]
     },
     "metadata": {},
     "output_type": "display_data"
    },
    {
     "name": "stdout",
     "output_type": "stream",
     "text": [
      "Chunk = 23\n",
      "(50000, 7)\n"
     ]
    },
    {
     "data": {
      "application/vnd.jupyter.widget-view+json": {
       "model_id": "647d8e230aee44de94b463793135fdbe",
       "version_major": 2,
       "version_minor": 0
      },
      "text/plain": [
       "VBox(children=(HBox(children=(IntProgress(value=0, description='0.00%', max=25000), Label(value='0 / 25000')))…"
      ]
     },
     "metadata": {},
     "output_type": "display_data"
    },
    {
     "name": "stdout",
     "output_type": "stream",
     "text": [
      "Chunk = 24\n",
      "(5609, 7)\n"
     ]
    },
    {
     "data": {
      "application/vnd.jupyter.widget-view+json": {
       "model_id": "8509698577dd448f9c4e24fff85cd55a",
       "version_major": 2,
       "version_minor": 0
      },
      "text/plain": [
       "VBox(children=(HBox(children=(IntProgress(value=0, description='0.00%', max=2805), Label(value='0 / 2805'))), …"
      ]
     },
     "metadata": {},
     "output_type": "display_data"
    },
    {
     "name": "stdout",
     "output_type": "stream",
     "text": [
      "CPU times: user 3min 25s, sys: 2min 1s, total: 5min 26s\n",
      "Wall time: 9min 28s\n"
     ]
    }
   ],
   "source": [
    "%%time\n",
    "\n",
    "df_iterator = pd.read_csv(\"lenta_news_with_lemmas.csv\", chunksize=50000)\n",
    "chunk = 0\n",
    "for df in df_iterator:\n",
    "    chunk += 1\n",
    "    print('Chunk =', chunk)\n",
    "    print(df.shape)\n",
    "    df['text'] = df['text'].parallel_apply(lambda x: x[2:-2].split(\"', '\"))\n",
    "    for topic in df['topic'].unique():\n",
    "        bow_counter = bag_of_words_bytopic(topic)\n",
    "        if topic not in list(df_topic['topic']):\n",
    "            df_topic.at[len(df_topic), 'topic'] = topic\n",
    "            df_topic.at[len(df_topic)-1, 'bag_of_words'] = bow_counter\n",
    "        else:\n",
    "            df_topic.loc[df_topic['topic'] == topic, 'bag_of_words'] += bow_counter"
   ]
  },
  {
   "cell_type": "code",
   "execution_count": 85,
   "id": "97ed48b9",
   "metadata": {},
   "outputs": [],
   "source": [
    "df_topic.dropna(inplace=True)\n",
    "\n",
    "for topic in df_topic['topic'].unique():\n",
    "    bag_of_words = df_topic.loc[df_topic['topic'] == topic, 'bag_of_words'].values[0]\n",
    "    bag_of_words = sorted(bag_of_words.items(), key=lambda item: item[1], reverse=True)\n",
    "    # сделаем просто строкой, чтобы быстро посмотреть\n",
    "    df_topic.loc[df_topic['topic'] == topic, 'bag_of_words'] = str(bag_of_words)"
   ]
  },
  {
   "cell_type": "code",
   "execution_count": 127,
   "id": "89912e1e",
   "metadata": {},
   "outputs": [
    {
     "data": {
      "text/html": [
       "<div>\n",
       "<style scoped>\n",
       "    .dataframe tbody tr th:only-of-type {\n",
       "        vertical-align: middle;\n",
       "    }\n",
       "\n",
       "    .dataframe tbody tr th {\n",
       "        vertical-align: top;\n",
       "    }\n",
       "\n",
       "    .dataframe thead th {\n",
       "        text-align: right;\n",
       "    }\n",
       "</style>\n",
       "<table border=\"1\" class=\"dataframe\">\n",
       "  <thead>\n",
       "    <tr style=\"text-align: right;\">\n",
       "      <th></th>\n",
       "      <th>topic</th>\n",
       "      <th>bag_of_words</th>\n",
       "    </tr>\n",
       "  </thead>\n",
       "  <tbody>\n",
       "    <tr>\n",
       "      <th>0</th>\n",
       "      <td>Россия</td>\n",
       "      <td>[('год', 276206), ('это', 264579), ('который',...</td>\n",
       "    </tr>\n",
       "    <tr>\n",
       "      <th>1</th>\n",
       "      <td>Мир</td>\n",
       "      <td>[('который', 225060), ('год', 220484), ('это',...</td>\n",
       "    </tr>\n",
       "    <tr>\n",
       "      <th>2</th>\n",
       "      <td>Экономика</td>\n",
       "      <td>[('год', 319099), ('процент', 212676), ('компа...</td>\n",
       "    </tr>\n",
       "    <tr>\n",
       "      <th>3</th>\n",
       "      <td>Интернет и СМИ</td>\n",
       "      <td>[('который', 95073), ('год', 89031), ('это', 7...</td>\n",
       "    </tr>\n",
       "    <tr>\n",
       "      <th>4</th>\n",
       "      <td>Спорт</td>\n",
       "      <td>[('матч', 106388), ('год', 106051), ('это', 85...</td>\n",
       "    </tr>\n",
       "  </tbody>\n",
       "</table>\n",
       "</div>"
      ],
      "text/plain": [
       "            topic                                       bag_of_words\n",
       "0          Россия  [('год', 276206), ('это', 264579), ('который',...\n",
       "1             Мир  [('который', 225060), ('год', 220484), ('это',...\n",
       "2       Экономика  [('год', 319099), ('процент', 212676), ('компа...\n",
       "3  Интернет и СМИ  [('который', 95073), ('год', 89031), ('это', 7...\n",
       "4           Спорт  [('матч', 106388), ('год', 106051), ('это', 85..."
      ]
     },
     "execution_count": 127,
     "metadata": {},
     "output_type": "execute_result"
    }
   ],
   "source": [
    "df_topic.head()"
   ]
  },
  {
   "cell_type": "markdown",
   "id": "55246c51",
   "metadata": {},
   "source": [
    "Посмотрим подробнее на несколько самых популярных слов"
   ]
  },
  {
   "cell_type": "code",
   "execution_count": 126,
   "id": "ff97b49e",
   "metadata": {
    "scrolled": false
   },
   "outputs": [
    {
     "name": "stdout",
     "output_type": "stream",
     "text": [
      "---------------------------------------------\n",
      "Россия\n",
      "[('год', 276206), ('это', 264579), ('который', 255683), ('россия', 243292), ('сообщать', 201972), ('человек', 161371), ('также', 140489), ('заявлять', 125622), ('слово', 122765), ('москва', 117037), (\n",
      "---------------------------------------------\n",
      "Мир\n",
      "[('который', 225060), ('год', 220484), ('это', 208858), ('сообщать', 173572), ('сша', 171577), ('страна', 158691), ('россия', 134058), ('заявлять', 133062), ('человек', 124477), ('свой', 120821), ('пр\n",
      "---------------------------------------------\n",
      "Экономика\n",
      "[('год', 319099), ('процент', 212676), ('компания', 165371), ('это', 164354), ('россия', 158533), ('который', 139608), ('доллар', 134591), ('рубль', 113041), ('миллиард', 109822), ('российский', 10096\n",
      "---------------------------------------------\n",
      "Интернет и СМИ\n",
      "[('который', 95073), ('год', 89031), ('это', 78078), ('свой', 52752), ('компания', 48071), ('также', 44326), ('пользователь', 43233), ('сообщать', 40890), ('сайт', 37360), ('россия', 36809), ('станови\n",
      "---------------------------------------------\n",
      "Спорт\n",
      "[('матч', 106388), ('год', 106051), ('это', 85911), ('который', 84867), ('команда', 82062), ('сборная', 75224), ('россия', 70475), ('чемпионат', 69947), ('клуб', 57828), ('становиться', 55868), ('росс\n",
      "---------------------------------------------\n",
      "Культура\n",
      "[('год', 152852), ('который', 94179), ('фильм', 75616), ('это', 72375), ('свой', 52234), ('сообщать', 44687), ('становиться', 43883), ('также', 40028), ('картина', 38591), ('the', 32815), ('время', 31\n",
      "---------------------------------------------\n",
      "Из жизни\n",
      "[('который', 61972), ('год', 60983), ('это', 53335), ('свой', 36416), ('сообщать', 35814), ('время', 23853), ('человек', 23695), ('летний', 21907), ('становиться', 21768), ('мужчина', 20838), ('город'\n",
      "---------------------------------------------\n",
      "Силовые структуры\n",
      "[('год', 83452), ('это', 51613), ('который', 45482), ('сообщать', 44000), ('россия', 40346), ('дело', 40250), ('суд', 28133), ('уголовный', 23291), ('свой', 22879), ('также', 22321), ('сотрудник', 215\n",
      "---------------------------------------------\n",
      "Наука и техника\n",
      "[('год', 145254), ('который', 116929), ('это', 77776), ('новый', 56754), ('ученый', 52444), ('компания', 50211), ('также', 49026), ('мочь', 48695), ('сообщать', 45640), ('время', 43544), ('игра', 3920\n",
      "---------------------------------------------\n",
      "Бывший СССР\n",
      "[('украина', 162456), ('это', 134168), ('который', 115199), ('год', 108670), ('президент', 92909), ('сообщать', 86216), ('заявлять', 84547), ('страна', 79537), ('россия', 75522), ('украинский', 74061)\n",
      "---------------------------------------------\n",
      "Дом\n",
      "[('год', 65257), ('процент', 34657), ('тысяча', 31075), ('метр', 27520), ('компания', 27041), ('квадратный', 25228), ('рубль', 24696), ('это', 23760), ('миллион', 23451), ('который', 21751), ('москва'\n",
      "---------------------------------------------\n",
      "Сочи\n",
      "[('церемония', 5), ('сочи', 3), ('закрытие', 3), ('зимний', 3), ('игра', 3), ('начинаться', 2), ('мероприятие', 2), ('история', 2), ('олимпиада', 2), ('становиться', 2), ('проходить', 2), ('xxii', 1),\n",
      "---------------------------------------------\n",
      "ЧМ-2014\n",
      "[('сборная', 5), ('команда', 5), ('англия', 5), ('италия', 4), ('июнь', 4), ('матч', 4), ('ворота', 4), ('маркизио', 3), ('чемпионат', 3), ('мир', 3), ('это', 3), ('англичанин', 3), ('итальянец', 3), \n",
      "---------------------------------------------\n",
      "Путешествия\n",
      "[('это', 32981), ('который', 23396), ('турист', 22954), ('год', 21472), ('россия', 18514), ('страна', 18071), ('тысяча', 16953), ('российский', 15594), ('также', 14562), ('процент', 13573), ('время', \n",
      "---------------------------------------------\n",
      "Библиотека\n",
      "[('год', 96), ('война', 65), ('который', 61), ('весь', 60), ('наш', 56), ('русский', 52), ('свой', 52), ('солдат', 48), ('немец', 43), ('германский', 38), ('сентябрь', 37), ('время', 31), ('армия', 29\n",
      "---------------------------------------------\n",
      "Ценности\n",
      "[('который', 33790), ('год', 30597), ('это', 27002), ('свой', 21928), ('бренд', 16869), ('модель', 14114), ('также', 13645), ('становиться', 12741), ('одежда', 12225), ('время', 11951), ('компания', 1\n",
      "---------------------------------------------\n",
      "Легпром\n",
      "[('промышленность', 271), ('россия', 230), ('год', 216), ('российский', 195), ('это', 178), ('легкий', 174), ('производство', 173), ('предприятие', 154), ('процент', 142), ('который', 128), ('продукци\n",
      "---------------------------------------------\n",
      "Бизнес\n",
      "[('год', 22125), ('компания', 15508), ('это', 11443), ('россия', 10156), ('процент', 9667), ('российский', 8218), ('который', 8152), ('миллиард', 7626), ('рубль', 6804), ('сообщать', 6171), ('также', \n",
      "---------------------------------------------\n",
      "МедНовости\n",
      "[('мужчина', 3), ('процент', 2), ('москва', 2), ('сталкиваться', 2), ('проблема', 2), ('эрекция', 2), ('главный', 2), ('уролог', 2), ('пушкарь', 2), ('регион', 1), ('россия', 1), ('это', 1), ('сообщат\n",
      "---------------------------------------------\n",
      "Оружие\n",
      "[('сша', 20), ('год', 19), ('морской', 19), ('это', 15), ('пехота', 15), ('который', 12), ('оружие', 12), ('ракета', 12), ('сила', 11), ('вооружение', 10), ('военный', 10), ('заявлять', 10), ('корпус'\n",
      "---------------------------------------------\n",
      "69-я параллель\n",
      "[('год', 5939), ('это', 5668), ('который', 4370), ('арктика', 2513), ('человек', 2310), ('северный', 2108), ('россия', 2092), ('сообщать', 1960), ('весь', 1802), ('также', 1791), ('регион', 1737), ('с\n",
      "---------------------------------------------\n",
      "Культпросвет \n",
      "[('год', 459), ('россия', 447), ('это', 425), ('культура', 401), ('который', 328), ('мединский', 295), ('фильм', 294), ('российский', 284), ('владимир', 253), ('министр', 232), ('лента', 216), ('также\n",
      "---------------------------------------------\n",
      "Крым\n",
      "[('крым', 1218), ('год', 1033), ('севастополь', 1029), ('это', 975), ('город', 798), ('россия', 751), ('который', 721), ('глава', 594), ('сообщать', 510), ('овсянников', 495), ('правительство', 452), \n",
      "---------------------------------------------\n",
      "Среда обитания\n",
      "[('год', 32495), ('процент', 27045), ('квартира', 22339), ('это', 19240), ('рубль', 17803), ('который', 17026), ('жилье', 16976), ('дом', 15245), ('тысяча', 14662), ('недвижимость', 13212), ('миллион'\n",
      "---------------------------------------------\n",
      "Нацпроекты\n",
      "[('год', 12179), ('проект', 7829), ('россия', 7067), ('это', 7047), ('нацпроект', 6164), ('рубль', 5661), ('который', 5516), ('процент', 4545), ('также', 3865), ('национальный', 3815), ('планироваться\n",
      "---------------------------------------------\n",
      "Моя страна\n",
      "[('это', 9202), ('который', 7672), ('год', 7561), ('также', 4502), ('ранее', 3877), ('сообщать', 3831), ('фестиваль', 3611), ('становиться', 3421), ('город', 3370), ('россия', 3263), ('область', 2952)\n",
      "---------------------------------------------\n",
      "Мотор\n",
      "[('тысяча', 7), ('километр', 7), ('машина', 7), ('фара', 4), ('пробег', 3), ('баканов', 3), ('автомобиль', 3), ('эксперт', 3), ('называть', 3), ('главный', 3), ('мочь', 3), ('двигатель', 3), ('правый'\n",
      "---------------------------------------------\n",
      "Забота о себе\n",
      "[('мочь', 6401), ('который', 5459), ('это', 5354), ('человек', 5185), ('врач', 5023), ('слово', 4415), ('также', 3406), ('ранее', 3028), ('называть', 2973), ('рассказывать', 2960), ('время', 2176), ('\n"
     ]
    }
   ],
   "source": [
    "for i in range(df_topic.shape[0]):\n",
    "    print('---------------------------------------------')\n",
    "    print(df_topic['topic'].values[i])\n",
    "    print(df_topic['bag_of_words'].values[i][:200])"
   ]
  },
  {
   "cell_type": "markdown",
   "id": "3894312e",
   "metadata": {},
   "source": [
    "### Мешок слов по годам и месяцам"
   ]
  },
  {
   "cell_type": "code",
   "execution_count": 89,
   "id": "19c69805",
   "metadata": {},
   "outputs": [],
   "source": [
    "df_year = pd.DataFrame(columns=['year', 'bag_of_words'])\n",
    "df_month = pd.DataFrame(columns=['month', 'bag_of_words'])\n",
    "\n",
    "def bag_of_words_by_year(year, df):\n",
    "    df_f = df[df['date'].dt.year == year]\n",
    "\n",
    "    list_of_news = list(df_f['text'])\n",
    "    union_list_of_news = list(itertools.chain(*list_of_news))\n",
    "    \n",
    "    bow_counter = Counter(union_list_of_news)\n",
    "    return bow_counter\n",
    "\n",
    "def bag_of_words_by_month(month, df):\n",
    "    df_f = df[df['date'].dt.month == month]\n",
    "\n",
    "    list_of_news = list(df_f['text'])\n",
    "    union_list_of_news = list(itertools.chain(*list_of_news))\n",
    "    \n",
    "    bow_counter = Counter(union_list_of_news)\n",
    "    return bow_counter"
   ]
  },
  {
   "cell_type": "code",
   "execution_count": 90,
   "id": "27d2d378",
   "metadata": {
    "scrolled": true
   },
   "outputs": [
    {
     "name": "stdout",
     "output_type": "stream",
     "text": [
      "Chunk = 1\n",
      "(50000, 7)\n"
     ]
    },
    {
     "data": {
      "application/vnd.jupyter.widget-view+json": {
       "model_id": "ff27be00b1044ed99a31e2b1a31ca24b",
       "version_major": 2,
       "version_minor": 0
      },
      "text/plain": [
       "VBox(children=(HBox(children=(IntProgress(value=0, description='0.00%', max=25000), Label(value='0 / 25000')))…"
      ]
     },
     "metadata": {},
     "output_type": "display_data"
    },
    {
     "name": "stdout",
     "output_type": "stream",
     "text": [
      "Chunk = 2\n",
      "(50000, 7)\n"
     ]
    },
    {
     "data": {
      "application/vnd.jupyter.widget-view+json": {
       "model_id": "4051ec0cb5e64d6a8d38b157e7947aba",
       "version_major": 2,
       "version_minor": 0
      },
      "text/plain": [
       "VBox(children=(HBox(children=(IntProgress(value=0, description='0.00%', max=25000), Label(value='0 / 25000')))…"
      ]
     },
     "metadata": {},
     "output_type": "display_data"
    },
    {
     "name": "stdout",
     "output_type": "stream",
     "text": [
      "Chunk = 3\n",
      "(50000, 7)\n"
     ]
    },
    {
     "data": {
      "application/vnd.jupyter.widget-view+json": {
       "model_id": "6949aca290a844669f10e46521853c42",
       "version_major": 2,
       "version_minor": 0
      },
      "text/plain": [
       "VBox(children=(HBox(children=(IntProgress(value=0, description='0.00%', max=25000), Label(value='0 / 25000')))…"
      ]
     },
     "metadata": {},
     "output_type": "display_data"
    },
    {
     "name": "stdout",
     "output_type": "stream",
     "text": [
      "Chunk = 4\n",
      "(50000, 7)\n"
     ]
    },
    {
     "data": {
      "application/vnd.jupyter.widget-view+json": {
       "model_id": "a067bb3e9d0b4eccacccc27eace67c03",
       "version_major": 2,
       "version_minor": 0
      },
      "text/plain": [
       "VBox(children=(HBox(children=(IntProgress(value=0, description='0.00%', max=25000), Label(value='0 / 25000')))…"
      ]
     },
     "metadata": {},
     "output_type": "display_data"
    },
    {
     "name": "stdout",
     "output_type": "stream",
     "text": [
      "Chunk = 5\n",
      "(50000, 7)\n"
     ]
    },
    {
     "data": {
      "application/vnd.jupyter.widget-view+json": {
       "model_id": "ac3f2c514ed944018ea6a497ea496ac2",
       "version_major": 2,
       "version_minor": 0
      },
      "text/plain": [
       "VBox(children=(HBox(children=(IntProgress(value=0, description='0.00%', max=25000), Label(value='0 / 25000')))…"
      ]
     },
     "metadata": {},
     "output_type": "display_data"
    },
    {
     "name": "stdout",
     "output_type": "stream",
     "text": [
      "Chunk = 6\n",
      "(50000, 7)\n"
     ]
    },
    {
     "data": {
      "application/vnd.jupyter.widget-view+json": {
       "model_id": "4632828476ac4f99a9eec623ec8b77d9",
       "version_major": 2,
       "version_minor": 0
      },
      "text/plain": [
       "VBox(children=(HBox(children=(IntProgress(value=0, description='0.00%', max=25000), Label(value='0 / 25000')))…"
      ]
     },
     "metadata": {},
     "output_type": "display_data"
    },
    {
     "name": "stdout",
     "output_type": "stream",
     "text": [
      "Chunk = 7\n",
      "(50000, 7)\n"
     ]
    },
    {
     "data": {
      "application/vnd.jupyter.widget-view+json": {
       "model_id": "20eefa7ff88b4bbb99d65283c87fc540",
       "version_major": 2,
       "version_minor": 0
      },
      "text/plain": [
       "VBox(children=(HBox(children=(IntProgress(value=0, description='0.00%', max=25000), Label(value='0 / 25000')))…"
      ]
     },
     "metadata": {},
     "output_type": "display_data"
    },
    {
     "name": "stdout",
     "output_type": "stream",
     "text": [
      "Chunk = 8\n",
      "(50000, 7)\n"
     ]
    },
    {
     "data": {
      "application/vnd.jupyter.widget-view+json": {
       "model_id": "1543eca877054464835d3cbd3da3839e",
       "version_major": 2,
       "version_minor": 0
      },
      "text/plain": [
       "VBox(children=(HBox(children=(IntProgress(value=0, description='0.00%', max=25000), Label(value='0 / 25000')))…"
      ]
     },
     "metadata": {},
     "output_type": "display_data"
    },
    {
     "name": "stdout",
     "output_type": "stream",
     "text": [
      "Chunk = 9\n",
      "(50000, 7)\n"
     ]
    },
    {
     "data": {
      "application/vnd.jupyter.widget-view+json": {
       "model_id": "4bd5e51d5b3f43c58870137d4e602e5a",
       "version_major": 2,
       "version_minor": 0
      },
      "text/plain": [
       "VBox(children=(HBox(children=(IntProgress(value=0, description='0.00%', max=25000), Label(value='0 / 25000')))…"
      ]
     },
     "metadata": {},
     "output_type": "display_data"
    },
    {
     "name": "stdout",
     "output_type": "stream",
     "text": [
      "Chunk = 10\n",
      "(50000, 7)\n"
     ]
    },
    {
     "data": {
      "application/vnd.jupyter.widget-view+json": {
       "model_id": "42c8ec2ffb7e4c81a8b86538e3320f51",
       "version_major": 2,
       "version_minor": 0
      },
      "text/plain": [
       "VBox(children=(HBox(children=(IntProgress(value=0, description='0.00%', max=25000), Label(value='0 / 25000')))…"
      ]
     },
     "metadata": {},
     "output_type": "display_data"
    },
    {
     "name": "stdout",
     "output_type": "stream",
     "text": [
      "Chunk = 11\n",
      "(50000, 7)\n"
     ]
    },
    {
     "data": {
      "application/vnd.jupyter.widget-view+json": {
       "model_id": "6c7f47307e9e47619d6074342f82fd92",
       "version_major": 2,
       "version_minor": 0
      },
      "text/plain": [
       "VBox(children=(HBox(children=(IntProgress(value=0, description='0.00%', max=25000), Label(value='0 / 25000')))…"
      ]
     },
     "metadata": {},
     "output_type": "display_data"
    },
    {
     "name": "stdout",
     "output_type": "stream",
     "text": [
      "Chunk = 12\n",
      "(50000, 7)\n"
     ]
    },
    {
     "data": {
      "application/vnd.jupyter.widget-view+json": {
       "model_id": "a97b126985994ca9bfd13bfe1e5bdcd6",
       "version_major": 2,
       "version_minor": 0
      },
      "text/plain": [
       "VBox(children=(HBox(children=(IntProgress(value=0, description='0.00%', max=25000), Label(value='0 / 25000')))…"
      ]
     },
     "metadata": {},
     "output_type": "display_data"
    },
    {
     "name": "stdout",
     "output_type": "stream",
     "text": [
      "Chunk = 13\n",
      "(50000, 7)\n"
     ]
    },
    {
     "data": {
      "application/vnd.jupyter.widget-view+json": {
       "model_id": "ed6cd7c54d9a45efada37abe79e7ff3d",
       "version_major": 2,
       "version_minor": 0
      },
      "text/plain": [
       "VBox(children=(HBox(children=(IntProgress(value=0, description='0.00%', max=25000), Label(value='0 / 25000')))…"
      ]
     },
     "metadata": {},
     "output_type": "display_data"
    },
    {
     "name": "stdout",
     "output_type": "stream",
     "text": [
      "Chunk = 14\n",
      "(50000, 7)\n"
     ]
    },
    {
     "data": {
      "application/vnd.jupyter.widget-view+json": {
       "model_id": "5b0c95edcf534dc0b35cab2f75c91bf7",
       "version_major": 2,
       "version_minor": 0
      },
      "text/plain": [
       "VBox(children=(HBox(children=(IntProgress(value=0, description='0.00%', max=25000), Label(value='0 / 25000')))…"
      ]
     },
     "metadata": {},
     "output_type": "display_data"
    },
    {
     "name": "stdout",
     "output_type": "stream",
     "text": [
      "Chunk = 15\n",
      "(50000, 7)\n"
     ]
    },
    {
     "data": {
      "application/vnd.jupyter.widget-view+json": {
       "model_id": "ad582021af8e44d69b7c15e9a677b80a",
       "version_major": 2,
       "version_minor": 0
      },
      "text/plain": [
       "VBox(children=(HBox(children=(IntProgress(value=0, description='0.00%', max=25000), Label(value='0 / 25000')))…"
      ]
     },
     "metadata": {},
     "output_type": "display_data"
    },
    {
     "name": "stdout",
     "output_type": "stream",
     "text": [
      "Chunk = 16\n",
      "(50000, 7)\n"
     ]
    },
    {
     "data": {
      "application/vnd.jupyter.widget-view+json": {
       "model_id": "5a9fbf3f64744b32b3562f1e074b9312",
       "version_major": 2,
       "version_minor": 0
      },
      "text/plain": [
       "VBox(children=(HBox(children=(IntProgress(value=0, description='0.00%', max=25000), Label(value='0 / 25000')))…"
      ]
     },
     "metadata": {},
     "output_type": "display_data"
    },
    {
     "name": "stdout",
     "output_type": "stream",
     "text": [
      "Chunk = 17\n",
      "(50000, 7)\n"
     ]
    },
    {
     "data": {
      "application/vnd.jupyter.widget-view+json": {
       "model_id": "c5e96017de6d4428b7d54c033318281f",
       "version_major": 2,
       "version_minor": 0
      },
      "text/plain": [
       "VBox(children=(HBox(children=(IntProgress(value=0, description='0.00%', max=25000), Label(value='0 / 25000')))…"
      ]
     },
     "metadata": {},
     "output_type": "display_data"
    },
    {
     "name": "stdout",
     "output_type": "stream",
     "text": [
      "Chunk = 18\n",
      "(50000, 7)\n"
     ]
    },
    {
     "data": {
      "application/vnd.jupyter.widget-view+json": {
       "model_id": "e224518296254e50b78733bca198b30c",
       "version_major": 2,
       "version_minor": 0
      },
      "text/plain": [
       "VBox(children=(HBox(children=(IntProgress(value=0, description='0.00%', max=25000), Label(value='0 / 25000')))…"
      ]
     },
     "metadata": {},
     "output_type": "display_data"
    },
    {
     "name": "stdout",
     "output_type": "stream",
     "text": [
      "Chunk = 19\n",
      "(50000, 7)\n"
     ]
    },
    {
     "data": {
      "application/vnd.jupyter.widget-view+json": {
       "model_id": "de610958af214f62b8d760a7b5972e2a",
       "version_major": 2,
       "version_minor": 0
      },
      "text/plain": [
       "VBox(children=(HBox(children=(IntProgress(value=0, description='0.00%', max=25000), Label(value='0 / 25000')))…"
      ]
     },
     "metadata": {},
     "output_type": "display_data"
    },
    {
     "name": "stdout",
     "output_type": "stream",
     "text": [
      "Chunk = 20\n",
      "(50000, 7)\n"
     ]
    },
    {
     "data": {
      "application/vnd.jupyter.widget-view+json": {
       "model_id": "a82481d7e4b14b74bd0cf2b38db1706f",
       "version_major": 2,
       "version_minor": 0
      },
      "text/plain": [
       "VBox(children=(HBox(children=(IntProgress(value=0, description='0.00%', max=25000), Label(value='0 / 25000')))…"
      ]
     },
     "metadata": {},
     "output_type": "display_data"
    },
    {
     "name": "stdout",
     "output_type": "stream",
     "text": [
      "Chunk = 21\n",
      "(50000, 7)\n"
     ]
    },
    {
     "data": {
      "application/vnd.jupyter.widget-view+json": {
       "model_id": "65ec29e7e38f4730a796eba412f5fe5e",
       "version_major": 2,
       "version_minor": 0
      },
      "text/plain": [
       "VBox(children=(HBox(children=(IntProgress(value=0, description='0.00%', max=25000), Label(value='0 / 25000')))…"
      ]
     },
     "metadata": {},
     "output_type": "display_data"
    },
    {
     "name": "stdout",
     "output_type": "stream",
     "text": [
      "Chunk = 22\n",
      "(50000, 7)\n"
     ]
    },
    {
     "data": {
      "application/vnd.jupyter.widget-view+json": {
       "model_id": "7d7d227b918f46e8a3fe92c39ac0d5a3",
       "version_major": 2,
       "version_minor": 0
      },
      "text/plain": [
       "VBox(children=(HBox(children=(IntProgress(value=0, description='0.00%', max=25000), Label(value='0 / 25000')))…"
      ]
     },
     "metadata": {},
     "output_type": "display_data"
    },
    {
     "name": "stdout",
     "output_type": "stream",
     "text": [
      "Chunk = 23\n",
      "(50000, 7)\n"
     ]
    },
    {
     "data": {
      "application/vnd.jupyter.widget-view+json": {
       "model_id": "be8ac856f28d47bca47338dd10b227a7",
       "version_major": 2,
       "version_minor": 0
      },
      "text/plain": [
       "VBox(children=(HBox(children=(IntProgress(value=0, description='0.00%', max=25000), Label(value='0 / 25000')))…"
      ]
     },
     "metadata": {},
     "output_type": "display_data"
    },
    {
     "name": "stdout",
     "output_type": "stream",
     "text": [
      "Chunk = 24\n",
      "(5609, 7)\n"
     ]
    },
    {
     "data": {
      "application/vnd.jupyter.widget-view+json": {
       "model_id": "5b4ccc9d4c4b4369992130fae3ad6d62",
       "version_major": 2,
       "version_minor": 0
      },
      "text/plain": [
       "VBox(children=(HBox(children=(IntProgress(value=0, description='0.00%', max=2805), Label(value='0 / 2805'))), …"
      ]
     },
     "metadata": {},
     "output_type": "display_data"
    },
    {
     "name": "stdout",
     "output_type": "stream",
     "text": [
      "CPU times: user 4min 30s, sys: 2min 49s, total: 7min 19s\n",
      "Wall time: 12min 42s\n"
     ]
    }
   ],
   "source": [
    "%%time\n",
    "\n",
    "df_iterator = pd.read_csv(\"lenta_news_with_lemmas.csv\", chunksize=50000)\n",
    "chunk = 0\n",
    "for df in df_iterator:\n",
    "    chunk += 1\n",
    "    print('Chunk =', chunk)\n",
    "    print(df.shape)\n",
    "    df['date'] = pd.to_datetime(df['date'])\n",
    "    df['text'] = df['text'].parallel_apply(lambda x: x[2:-2].split(\"', '\"))\n",
    "    for year in df['date'].dt.year.unique():\n",
    "        bow_counter = bag_of_words_by_year(year, df)\n",
    "        if year not in list(df_year['year']):\n",
    "            df_year.at[len(df_year), 'year'] = year\n",
    "            df_year.at[len(df_year)-1, 'bag_of_words'] = bow_counter\n",
    "        else:\n",
    "            df_year.loc[df_year['year'] == year, 'bag_of_words'] += bow_counter\n",
    "            \n",
    "    for month in df['date'].dt.month.unique():\n",
    "        bow_counter = bag_of_words_by_month(month, df)\n",
    "        if month not in list(df_month['month']):\n",
    "            df_month.at[len(df_month), 'month'] = month\n",
    "            df_month.at[len(df_month)-1, 'bag_of_words'] = bow_counter\n",
    "        else:\n",
    "            df_month.loc[df_month['month'] == month, 'bag_of_words'] += bow_counter"
   ]
  },
  {
   "cell_type": "code",
   "execution_count": 100,
   "id": "3d8c8ab4",
   "metadata": {},
   "outputs": [
    {
     "data": {
      "text/html": [
       "<div>\n",
       "<style scoped>\n",
       "    .dataframe tbody tr th:only-of-type {\n",
       "        vertical-align: middle;\n",
       "    }\n",
       "\n",
       "    .dataframe tbody tr th {\n",
       "        vertical-align: top;\n",
       "    }\n",
       "\n",
       "    .dataframe thead th {\n",
       "        text-align: right;\n",
       "    }\n",
       "</style>\n",
       "<table border=\"1\" class=\"dataframe\">\n",
       "  <thead>\n",
       "    <tr style=\"text-align: right;\">\n",
       "      <th></th>\n",
       "      <th>year</th>\n",
       "      <th>bag_of_words</th>\n",
       "    </tr>\n",
       "  </thead>\n",
       "  <tbody>\n",
       "    <tr>\n",
       "      <th>0</th>\n",
       "      <td>1999</td>\n",
       "      <td>[('сообщать', 3100), ('год', 2919), ('который'...</td>\n",
       "    </tr>\n",
       "    <tr>\n",
       "      <th>1</th>\n",
       "      <td>2000</td>\n",
       "      <td>[('который', 12933), ('сообщать', 12870), ('го...</td>\n",
       "    </tr>\n",
       "    <tr>\n",
       "      <th>2</th>\n",
       "      <td>2001</td>\n",
       "      <td>[('сообщать', 20104), ('который', 18698), ('го...</td>\n",
       "    </tr>\n",
       "    <tr>\n",
       "      <th>3</th>\n",
       "      <td>2002</td>\n",
       "      <td>[('сообщать', 22839), ('который', 22774), ('го...</td>\n",
       "    </tr>\n",
       "    <tr>\n",
       "      <th>4</th>\n",
       "      <td>2003</td>\n",
       "      <td>[('который', 23424), ('сообщать', 21395), ('го...</td>\n",
       "    </tr>\n",
       "    <tr>\n",
       "      <th>5</th>\n",
       "      <td>2004</td>\n",
       "      <td>[('который', 29939), ('год', 29077), ('сообщат...</td>\n",
       "    </tr>\n",
       "    <tr>\n",
       "      <th>6</th>\n",
       "      <td>2005</td>\n",
       "      <td>[('год', 43331), ('который', 39228), ('сообщат...</td>\n",
       "    </tr>\n",
       "    <tr>\n",
       "      <th>7</th>\n",
       "      <td>2006</td>\n",
       "      <td>[('год', 48782), ('который', 40688), ('сообщат...</td>\n",
       "    </tr>\n",
       "    <tr>\n",
       "      <th>8</th>\n",
       "      <td>2007</td>\n",
       "      <td>[('год', 53988), ('который', 39964), ('сообщат...</td>\n",
       "    </tr>\n",
       "    <tr>\n",
       "      <th>9</th>\n",
       "      <td>2008</td>\n",
       "      <td>[('год', 80839), ('который', 56126), ('сообщат...</td>\n",
       "    </tr>\n",
       "    <tr>\n",
       "      <th>10</th>\n",
       "      <td>2009</td>\n",
       "      <td>[('год', 110074), ('который', 67322), ('это', ...</td>\n",
       "    </tr>\n",
       "    <tr>\n",
       "      <th>11</th>\n",
       "      <td>2010</td>\n",
       "      <td>[('год', 91134), ('который', 58702), ('это', 4...</td>\n",
       "    </tr>\n",
       "    <tr>\n",
       "      <th>12</th>\n",
       "      <td>2011</td>\n",
       "      <td>[('год', 95226), ('который', 60456), ('это', 4...</td>\n",
       "    </tr>\n",
       "    <tr>\n",
       "      <th>13</th>\n",
       "      <td>2012</td>\n",
       "      <td>[('год', 101986), ('который', 64806), ('это', ...</td>\n",
       "    </tr>\n",
       "    <tr>\n",
       "      <th>14</th>\n",
       "      <td>2013</td>\n",
       "      <td>[('год', 99967), ('который', 65290), ('это', 5...</td>\n",
       "    </tr>\n",
       "    <tr>\n",
       "      <th>15</th>\n",
       "      <td>2014</td>\n",
       "      <td>[('год', 67482), ('который', 45778), ('это', 4...</td>\n",
       "    </tr>\n",
       "    <tr>\n",
       "      <th>16</th>\n",
       "      <td>2015</td>\n",
       "      <td>[('год', 89548), ('это', 56899), ('который', 5...</td>\n",
       "    </tr>\n",
       "    <tr>\n",
       "      <th>17</th>\n",
       "      <td>2016</td>\n",
       "      <td>[('год', 105236), ('это', 80460), ('который', ...</td>\n",
       "    </tr>\n",
       "    <tr>\n",
       "      <th>18</th>\n",
       "      <td>2017</td>\n",
       "      <td>[('год', 83990), ('это', 74477), ('который', 5...</td>\n",
       "    </tr>\n",
       "    <tr>\n",
       "      <th>19</th>\n",
       "      <td>2018</td>\n",
       "      <td>[('год', 64044), ('это', 60399), ('который', 4...</td>\n",
       "    </tr>\n",
       "    <tr>\n",
       "      <th>20</th>\n",
       "      <td>2019</td>\n",
       "      <td>[('год', 120072), ('это', 117970), ('который',...</td>\n",
       "    </tr>\n",
       "    <tr>\n",
       "      <th>21</th>\n",
       "      <td>2020</td>\n",
       "      <td>[('это', 138333), ('год', 122960), ('который',...</td>\n",
       "    </tr>\n",
       "    <tr>\n",
       "      <th>22</th>\n",
       "      <td>2021</td>\n",
       "      <td>[('это', 188326), ('год', 164557), ('который',...</td>\n",
       "    </tr>\n",
       "    <tr>\n",
       "      <th>23</th>\n",
       "      <td>2022</td>\n",
       "      <td>[('это', 194366), ('россия', 166756), ('которы...</td>\n",
       "    </tr>\n",
       "  </tbody>\n",
       "</table>\n",
       "</div>"
      ],
      "text/plain": [
       "    year                                       bag_of_words\n",
       "0   1999  [('сообщать', 3100), ('год', 2919), ('который'...\n",
       "1   2000  [('который', 12933), ('сообщать', 12870), ('го...\n",
       "2   2001  [('сообщать', 20104), ('который', 18698), ('го...\n",
       "3   2002  [('сообщать', 22839), ('который', 22774), ('го...\n",
       "4   2003  [('который', 23424), ('сообщать', 21395), ('го...\n",
       "5   2004  [('который', 29939), ('год', 29077), ('сообщат...\n",
       "6   2005  [('год', 43331), ('который', 39228), ('сообщат...\n",
       "7   2006  [('год', 48782), ('который', 40688), ('сообщат...\n",
       "8   2007  [('год', 53988), ('который', 39964), ('сообщат...\n",
       "9   2008  [('год', 80839), ('который', 56126), ('сообщат...\n",
       "10  2009  [('год', 110074), ('который', 67322), ('это', ...\n",
       "11  2010  [('год', 91134), ('который', 58702), ('это', 4...\n",
       "12  2011  [('год', 95226), ('который', 60456), ('это', 4...\n",
       "13  2012  [('год', 101986), ('который', 64806), ('это', ...\n",
       "14  2013  [('год', 99967), ('который', 65290), ('это', 5...\n",
       "15  2014  [('год', 67482), ('который', 45778), ('это', 4...\n",
       "16  2015  [('год', 89548), ('это', 56899), ('который', 5...\n",
       "17  2016  [('год', 105236), ('это', 80460), ('который', ...\n",
       "18  2017  [('год', 83990), ('это', 74477), ('который', 5...\n",
       "19  2018  [('год', 64044), ('это', 60399), ('который', 4...\n",
       "20  2019  [('год', 120072), ('это', 117970), ('который',...\n",
       "21  2020  [('это', 138333), ('год', 122960), ('который',...\n",
       "22  2021  [('это', 188326), ('год', 164557), ('который',...\n",
       "23  2022  [('это', 194366), ('россия', 166756), ('которы..."
      ]
     },
     "execution_count": 100,
     "metadata": {},
     "output_type": "execute_result"
    }
   ],
   "source": [
    "for year in df_year['year'].unique():\n",
    "    bag_of_words = df_year.loc[df_year['year'] == year, 'bag_of_words'].values[0]\n",
    "    bag_of_words = sorted(bag_of_words.items(), key=lambda item: item[1], reverse=True)\n",
    "    df_year.loc[df_year['year'] == year, 'bag_of_words'] = str(bag_of_words)\n",
    "df_year"
   ]
  },
  {
   "cell_type": "code",
   "execution_count": 128,
   "id": "d882dd9b",
   "metadata": {},
   "outputs": [
    {
     "name": "stdout",
     "output_type": "stream",
     "text": [
      "---------------------------------------------\n",
      "1999\n",
      "[('сообщать', 3100), ('год', 2919), ('который', 2752), ('россия', 2592), ('это', 2035), ('российский', 1755), ('время', 1587), ('весь', 1542), ('свой', 1527), ('также', 1474), ('заявлять', 1452), ('че\n",
      "---------------------------------------------\n",
      "2000\n",
      "[('который', 12933), ('сообщать', 12870), ('год', 11545), ('это', 8858), ('россия', 8334), ('свой', 7063), ('также', 5929), ('время', 5873), ('российский', 5839), ('заявлять', 5753), ('человек', 5648)\n",
      "---------------------------------------------\n",
      "2001\n",
      "[('сообщать', 20104), ('который', 18698), ('год', 17880), ('это', 12360), ('свой', 11404), ('россия', 9537), ('заявлять', 8475), ('время', 8403), ('человек', 7984), ('весь', 7726), ('также', 7655), ('\n",
      "---------------------------------------------\n",
      "2002\n",
      "[('сообщать', 22839), ('который', 22774), ('год', 21007), ('россия', 12733), ('это', 12258), ('заявлять', 11950), ('свой', 11891), ('время', 9884), ('человек', 9732), ('также', 8810), ('весь', 8671), \n",
      "---------------------------------------------\n",
      "2003\n",
      "[('который', 23424), ('сообщать', 21395), ('год', 20868), ('это', 13124), ('свой', 12348), ('заявлять', 12318), ('время', 11457), ('россия', 10788), ('человек', 10261), ('сша', 9872), ('также', 9048),\n",
      "---------------------------------------------\n",
      "2004\n",
      "[('который', 29939), ('год', 29077), ('сообщать', 20863), ('это', 16497), ('заявлять', 15477), ('свой', 15288), ('время', 13575), ('россия', 12534), ('человек', 11891), ('президент', 11322), ('также',\n",
      "---------------------------------------------\n",
      "2005\n",
      "[('год', 43331), ('который', 39228), ('сообщать', 28076), ('это', 23387), ('свой', 18545), ('заявлять', 17770), ('россия', 17718), ('время', 16860), ('также', 16422), ('человек', 14766), ('слово', 140\n",
      "---------------------------------------------\n",
      "2006\n",
      "[('год', 48782), ('который', 40688), ('сообщать', 30830), ('это', 22696), ('свой', 19840), ('россия', 18854), ('заявлять', 18395), ('также', 17813), ('компания', 17723), ('время', 16260), ('российский\n",
      "---------------------------------------------\n",
      "2007\n",
      "[('год', 53988), ('который', 39964), ('сообщать', 28638), ('это', 20127), ('свой', 20078), ('россия', 17916), ('компания', 16946), ('также', 16264), ('процент', 15877), ('доллар', 15687), ('время', 15\n",
      "---------------------------------------------\n",
      "2008\n",
      "[('год', 80839), ('который', 56126), ('сообщать', 41510), ('это', 31650), ('процент', 26147), ('свой', 25908), ('компания', 25770), ('также', 24816), ('россия', 21970), ('доллар', 21906), ('время', 21\n",
      "---------------------------------------------\n",
      "2009\n",
      "[('год', 110074), ('который', 67322), ('это', 46537), ('сообщать', 45887), ('также', 30943), ('процент', 30668), ('свой', 28999), ('россия', 28211), ('компания', 26524), ('время', 26004), ('доллар', 2\n",
      "---------------------------------------------\n",
      "2010\n",
      "[('год', 91134), ('который', 58702), ('это', 40929), ('сообщать', 38422), ('также', 29387), ('свой', 25629), ('россия', 23796), ('компания', 22921), ('время', 22416), ('становиться', 21577), ('человек\n",
      "---------------------------------------------\n",
      "2011\n",
      "[('год', 95226), ('который', 60456), ('это', 42514), ('сообщать', 39433), ('также', 28584), ('свой', 25995), ('компания', 25005), ('россия', 24675), ('время', 22975), ('становиться', 22010), ('процент\n",
      "---------------------------------------------\n",
      "2012\n",
      "[('год', 101986), ('который', 64806), ('это', 49990), ('сообщать', 38911), ('также', 32559), ('свой', 28318), ('компания', 27078), ('россия', 25596), ('время', 24954), ('заявлять', 23670), ('процент',\n",
      "---------------------------------------------\n",
      "2013\n",
      "[('год', 99967), ('который', 65290), ('это', 51720), ('сообщать', 35134), ('также', 30702), ('свой', 28157), ('время', 23809), ('становиться', 23019), ('россия', 22559), ('компания', 22280), ('человек\n",
      "---------------------------------------------\n",
      "2014\n",
      "[('год', 67482), ('который', 45778), ('это', 45134), ('сообщать', 33562), ('россия', 29822), ('также', 25241), ('украина', 23270), ('свой', 22296), ('заявлять', 19008), ('время', 18406), ('компания', \n",
      "---------------------------------------------\n",
      "2015\n",
      "[('год', 89548), ('это', 56899), ('который', 52191), ('россия', 43708), ('сообщать', 39043), ('также', 29223), ('свой', 25658), ('российский', 24173), ('заявлять', 22950), ('страна', 21726), ('человек\n",
      "---------------------------------------------\n",
      "2016\n",
      "[('год', 105236), ('это', 80460), ('который', 62973), ('россия', 58431), ('сообщать', 49837), ('также', 34924), ('свой', 33154), ('российский', 31234), ('заявлять', 31113), ('человек', 28110), ('стран\n",
      "---------------------------------------------\n",
      "2017\n",
      "[('год', 83990), ('это', 74477), ('который', 54409), ('россия', 46339), ('сообщать', 41096), ('также', 30051), ('свой', 27401), ('заявлять', 26127), ('российский', 24545), ('человек', 23818), ('презид\n",
      "---------------------------------------------\n",
      "2018\n",
      "[('год', 64044), ('это', 60399), ('который', 49354), ('россия', 34926), ('сообщать', 29016), ('свой', 25016), ('также', 23180), ('российский', 21872), ('человек', 19439), ('становиться', 18801), ('вре\n",
      "---------------------------------------------\n",
      "2019\n",
      "[('год', 120072), ('это', 117970), ('который', 95303), ('россия', 60215), ('свой', 50436), ('сообщать', 41361), ('становиться', 40325), ('человек', 40047), ('также', 39473), ('весь', 34985), ('время',\n",
      "---------------------------------------------\n",
      "2020\n",
      "[('это', 138333), ('год', 122960), ('который', 112304), ('россия', 75833), ('человек', 61790), ('свой', 57594), ('также', 54609), ('коронавирус', 54051), ('сообщать', 50415), ('страна', 49247), ('стан\n",
      "---------------------------------------------\n",
      "2021\n",
      "[('это', 188326), ('год', 164557), ('который', 151914), ('россия', 113071), ('также', 77702), ('свой', 77602), ('страна', 71044), ('человек', 69515), ('ранее', 69385), ('сообщать', 67794), ('становить\n",
      "---------------------------------------------\n",
      "2022\n",
      "[('это', 194366), ('россия', 166756), ('который', 152107), ('год', 136230), ('российский', 95320), ('украина', 91034), ('также', 90483), ('ранее', 86709), ('заявлять', 85122), ('сообщать', 84949), ('с\n"
     ]
    }
   ],
   "source": [
    "for i in range(df_year.shape[0]):\n",
    "    print('---------------------------------------------')\n",
    "    print(df_year['year'].values[i])\n",
    "    print(df_year['bag_of_words'].values[i][:200])"
   ]
  },
  {
   "cell_type": "code",
   "execution_count": 101,
   "id": "40964f8d",
   "metadata": {},
   "outputs": [
    {
     "data": {
      "text/html": [
       "<div>\n",
       "<style scoped>\n",
       "    .dataframe tbody tr th:only-of-type {\n",
       "        vertical-align: middle;\n",
       "    }\n",
       "\n",
       "    .dataframe tbody tr th {\n",
       "        vertical-align: top;\n",
       "    }\n",
       "\n",
       "    .dataframe thead th {\n",
       "        text-align: right;\n",
       "    }\n",
       "</style>\n",
       "<table border=\"1\" class=\"dataframe\">\n",
       "  <thead>\n",
       "    <tr style=\"text-align: right;\">\n",
       "      <th></th>\n",
       "      <th>month</th>\n",
       "      <th>bag_of_words</th>\n",
       "    </tr>\n",
       "  </thead>\n",
       "  <tbody>\n",
       "    <tr>\n",
       "      <th>0</th>\n",
       "      <td>8</td>\n",
       "      <td>[('год', 143896), ('который', 121081), ('это',...</td>\n",
       "    </tr>\n",
       "    <tr>\n",
       "      <th>1</th>\n",
       "      <td>9</td>\n",
       "      <td>[('год', 148421), ('это', 120993), ('который',...</td>\n",
       "    </tr>\n",
       "    <tr>\n",
       "      <th>2</th>\n",
       "      <td>10</td>\n",
       "      <td>[('год', 159265), ('который', 128348), ('это',...</td>\n",
       "    </tr>\n",
       "    <tr>\n",
       "      <th>3</th>\n",
       "      <td>11</td>\n",
       "      <td>[('год', 151287), ('который', 118302), ('это',...</td>\n",
       "    </tr>\n",
       "    <tr>\n",
       "      <th>4</th>\n",
       "      <td>12</td>\n",
       "      <td>[('год', 164497), ('который', 114488), ('это',...</td>\n",
       "    </tr>\n",
       "    <tr>\n",
       "      <th>5</th>\n",
       "      <td>1</td>\n",
       "      <td>[('год', 145883), ('который', 98847), ('это', ...</td>\n",
       "    </tr>\n",
       "    <tr>\n",
       "      <th>6</th>\n",
       "      <td>2</td>\n",
       "      <td>[('год', 145676), ('который', 104410), ('это',...</td>\n",
       "    </tr>\n",
       "    <tr>\n",
       "      <th>7</th>\n",
       "      <td>3</td>\n",
       "      <td>[('год', 149328), ('который', 114868), ('это',...</td>\n",
       "    </tr>\n",
       "    <tr>\n",
       "      <th>8</th>\n",
       "      <td>4</td>\n",
       "      <td>[('год', 148332), ('который', 114976), ('это',...</td>\n",
       "    </tr>\n",
       "    <tr>\n",
       "      <th>9</th>\n",
       "      <td>5</td>\n",
       "      <td>[('год', 134890), ('который', 108347), ('это',...</td>\n",
       "    </tr>\n",
       "    <tr>\n",
       "      <th>10</th>\n",
       "      <td>6</td>\n",
       "      <td>[('год', 142108), ('который', 115225), ('это',...</td>\n",
       "    </tr>\n",
       "    <tr>\n",
       "      <th>11</th>\n",
       "      <td>7</td>\n",
       "      <td>[('год', 149159), ('который', 119805), ('это',...</td>\n",
       "    </tr>\n",
       "  </tbody>\n",
       "</table>\n",
       "</div>"
      ],
      "text/plain": [
       "   month                                       bag_of_words\n",
       "0      8  [('год', 143896), ('который', 121081), ('это',...\n",
       "1      9  [('год', 148421), ('это', 120993), ('который',...\n",
       "2     10  [('год', 159265), ('который', 128348), ('это',...\n",
       "3     11  [('год', 151287), ('который', 118302), ('это',...\n",
       "4     12  [('год', 164497), ('который', 114488), ('это',...\n",
       "5      1  [('год', 145883), ('который', 98847), ('это', ...\n",
       "6      2  [('год', 145676), ('который', 104410), ('это',...\n",
       "7      3  [('год', 149328), ('который', 114868), ('это',...\n",
       "8      4  [('год', 148332), ('который', 114976), ('это',...\n",
       "9      5  [('год', 134890), ('который', 108347), ('это',...\n",
       "10     6  [('год', 142108), ('который', 115225), ('это',...\n",
       "11     7  [('год', 149159), ('который', 119805), ('это',..."
      ]
     },
     "execution_count": 101,
     "metadata": {},
     "output_type": "execute_result"
    }
   ],
   "source": [
    "for month in df_month['month'].unique():\n",
    "    bag_of_words = df_month.loc[df_month['month'] == month, 'bag_of_words'].values[0]\n",
    "    bag_of_words = sorted(bag_of_words.items(), key=lambda item: item[1], reverse=True)\n",
    "    df_month.loc[df_month['month'] == month, 'bag_of_words'] = str(bag_of_words)\n",
    "df_month"
   ]
  },
  {
   "cell_type": "code",
   "execution_count": 131,
   "id": "a09be27c",
   "metadata": {},
   "outputs": [],
   "source": [
    "df_month.sort_values(by=['month'], inplace=True)"
   ]
  },
  {
   "cell_type": "code",
   "execution_count": 132,
   "id": "67be8ee1",
   "metadata": {},
   "outputs": [
    {
     "name": "stdout",
     "output_type": "stream",
     "text": [
      "---------------------------------------------\n",
      "1\n",
      "[('год', 145883), ('который', 98847), ('это', 95402), ('январь', 65091), ('сообщать', 62351), ('россия', 57395), ('свой', 50169), ('также', 47725), ('человек', 40161), ('заявлять', 40004), ('время', 3\n",
      "---------------------------------------------\n",
      "2\n",
      "[('год', 145676), ('который', 104410), ('это', 102624), ('россия', 69527), ('сообщать', 66645), ('февраль', 65056), ('свой', 53489), ('также', 51154), ('заявлять', 45293), ('время', 41197), ('человек'\n",
      "---------------------------------------------\n",
      "3\n",
      "[('год', 149328), ('который', 114868), ('это', 112068), ('россия', 81306), ('сообщать', 73421), ('март', 68766), ('также', 57697), ('свой', 56851), ('российский', 48453), ('заявлять', 48382), ('челове\n",
      "---------------------------------------------\n",
      "4\n",
      "[('год', 148332), ('который', 114976), ('это', 112588), ('россия', 79118), ('сообщать', 73439), ('апрель', 72242), ('также', 56481), ('свой', 56427), ('человек', 48756), ('заявлять', 48376), ('российс\n",
      "---------------------------------------------\n",
      "5\n",
      "[('год', 134890), ('который', 108347), ('это', 104281), ('россия', 69295), ('май', 68765), ('сообщать', 68148), ('также', 52192), ('свой', 52097), ('человек', 44588), ('заявлять', 43661), ('время', 42\n",
      "---------------------------------------------\n",
      "6\n",
      "[('год', 142108), ('который', 115225), ('это', 114185), ('россия', 75239), ('сообщать', 70827), ('июнь', 70203), ('свой', 56849), ('также', 56805), ('заявлять', 47339), ('человек', 46614), ('страна', \n",
      "---------------------------------------------\n",
      "7\n",
      "[('год', 149159), ('который', 119805), ('это', 117864), ('сообщать', 75373), ('россия', 72986), ('июль', 72396), ('также', 58570), ('свой', 57280), ('человек', 48794), ('заявлять', 47207), ('время', 4\n",
      "---------------------------------------------\n",
      "8\n",
      "[('год', 143896), ('который', 121081), ('это', 117776), ('сообщать', 76473), ('август', 72689), ('россия', 71744), ('также', 58618), ('свой', 57769), ('человек', 48712), ('заявлять', 47590), ('время',\n",
      "---------------------------------------------\n",
      "9\n",
      "[('год', 148421), ('это', 120993), ('который', 120738), ('россия', 81034), ('сообщать', 76192), ('сентябрь', 75803), ('свой', 59717), ('также', 59501), ('заявлять', 51187), ('человек', 46509), ('время\n",
      "---------------------------------------------\n",
      "10\n",
      "[('год', 159265), ('который', 128348), ('это', 126209), ('россия', 82770), ('сообщать', 79731), ('октябрь', 78191), ('также', 63669), ('свой', 62751), ('заявлять', 53723), ('человек', 49794), ('время'\n",
      "---------------------------------------------\n",
      "11\n",
      "[('год', 151287), ('который', 118302), ('это', 115171), ('сообщать', 73112), ('россия', 71992), ('ноябрь', 70336), ('свой', 58531), ('также', 57864), ('заявлять', 48539), ('человек', 46450), ('время',\n",
      "---------------------------------------------\n",
      "12\n",
      "[('год', 164497), ('который', 114488), ('это', 111885), ('россия', 74508), ('декабрь', 70383), ('сообщать', 69373), ('также', 55869), ('свой', 55786), ('человек', 46039), ('заявлять', 45509), ('время'\n"
     ]
    }
   ],
   "source": [
    "for i in range(df_month.shape[0]):\n",
    "    print('---------------------------------------------')\n",
    "    print(df_month['month'].values[i])\n",
    "    print(df_month['bag_of_words'].values[i][:200])"
   ]
  },
  {
   "cell_type": "markdown",
   "id": "904c1cc6",
   "metadata": {},
   "source": [
    "## Выводы"
   ]
  },
  {
   "cell_type": "markdown",
   "id": "672f7e23",
   "metadata": {},
   "source": [
    "Для анализа наиболее популярных слов в разных разрезах необходимо было сделать так называемый «мешок слов» - количество употребления в тексте каждого слова. Мы сделали мешки слов по всему датафрейму, по топикам, по годам и месяцам.\n",
    "\n",
    "Результаты получились следующие:\n",
    "\n",
    "- На всем датафрейме наиболее популярные слова, на наш взгляд, не несут довольно большого смысла (слова «год», «это», «который»)\n",
    "\n",
    "\n",
    "- Гораздо интереснее посмотреть на популярные слова в каждом топике. Так, например, в топике «Спорт» популярны слова «матч», «команда», «сборная». На наш взгляд у таких топиков будут хорошие метрики  при применении моделей классификации. В то же время у некоторых популярные слова довольно похожи, например у топиков «Экономика» и «Бизнес» популярны слова «процент», «компания», «миллиард», «рубль». Здесь мы ожидаем получить более худшее качество по метрикам, хотя возможно при сочетании с другими словами, оно будет лучше.\n",
    "\n",
    "\n",
    "- Мешок слов по годам показался также довольно информативным. Так, например, одно из популярных слов в 2020 году было слово «коронавирус», в 2014 и 2022 - «Украина». \n",
    "\n",
    "\n",
    "- По месяцам оказался наименее информативный мешок слов, так как топ-10 слов практически идентичен у каждого месяца."
   ]
  },
  {
   "cell_type": "code",
   "execution_count": null,
   "id": "730d739e",
   "metadata": {},
   "outputs": [],
   "source": []
  }
 ],
 "metadata": {
  "kernelspec": {
   "display_name": "Python 3 (ipykernel)",
   "language": "python",
   "name": "python3"
  },
  "language_info": {
   "codemirror_mode": {
    "name": "ipython",
    "version": 3
   },
   "file_extension": ".py",
   "mimetype": "text/x-python",
   "name": "python",
   "nbconvert_exporter": "python",
   "pygments_lexer": "ipython3",
   "version": "3.9.13"
  },
  "toc": {
   "base_numbering": 1,
   "nav_menu": {},
   "number_sections": true,
   "sideBar": true,
   "skip_h1_title": false,
   "title_cell": "Table of Contents",
   "title_sidebar": "Contents",
   "toc_cell": false,
   "toc_position": {},
   "toc_section_display": true,
   "toc_window_display": true
  }
 },
 "nbformat": 4,
 "nbformat_minor": 5
}
