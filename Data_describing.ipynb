{
 "cells": [
  {
   "cell_type": "code",
   "execution_count": 1,
   "metadata": {},
   "outputs": [],
   "source": [
    "import pandas as pd\n",
    "import numpy as np\n",
    "import matplotlib.pyplot as plt"
   ]
  },
  {
   "cell_type": "markdown",
   "metadata": {},
   "source": [
    "# Описание данных"
   ]
  },
  {
   "cell_type": "code",
   "execution_count": 4,
   "metadata": {},
   "outputs": [
    {
     "name": "stderr",
     "output_type": "stream",
     "text": [
      "C:\\ProgramData\\Anaconda3\\lib\\site-packages\\IPython\\core\\interactiveshell.py:3063: DtypeWarning: Columns (3) have mixed types.Specify dtype option on import or set low_memory=False.\n",
      "  interactivity=interactivity, compiler=compiler, result=result)\n"
     ]
    },
    {
     "data": {
      "text/html": [
       "<div>\n",
       "<style scoped>\n",
       "    .dataframe tbody tr th:only-of-type {\n",
       "        vertical-align: middle;\n",
       "    }\n",
       "\n",
       "    .dataframe tbody tr th {\n",
       "        vertical-align: top;\n",
       "    }\n",
       "\n",
       "    .dataframe thead th {\n",
       "        text-align: right;\n",
       "    }\n",
       "</style>\n",
       "<table border=\"1\" class=\"dataframe\">\n",
       "  <thead>\n",
       "    <tr style=\"text-align: right;\">\n",
       "      <th></th>\n",
       "      <th>url</th>\n",
       "      <th>title</th>\n",
       "      <th>text</th>\n",
       "      <th>topic</th>\n",
       "      <th>tags</th>\n",
       "      <th>date</th>\n",
       "    </tr>\n",
       "  </thead>\n",
       "  <tbody>\n",
       "    <tr>\n",
       "      <th>0</th>\n",
       "      <td>https://lenta.ru/news/1914/09/16/hungarnn/</td>\n",
       "      <td>1914. Русские войска вступили в пределы Венгрии</td>\n",
       "      <td>Бои у Сопоцкина и Друскеник закончились отступ...</td>\n",
       "      <td>Библиотека</td>\n",
       "      <td>Первая мировая</td>\n",
       "      <td>1914/09/16</td>\n",
       "    </tr>\n",
       "    <tr>\n",
       "      <th>1</th>\n",
       "      <td>https://lenta.ru/news/1914/09/16/lermontov/</td>\n",
       "      <td>1914. Празднование столетия М.Ю. Лермонтова от...</td>\n",
       "      <td>Министерство народного просвещения, в виду про...</td>\n",
       "      <td>Библиотека</td>\n",
       "      <td>Первая мировая</td>\n",
       "      <td>1914/09/16</td>\n",
       "    </tr>\n",
       "    <tr>\n",
       "      <th>2</th>\n",
       "      <td>https://lenta.ru/news/1914/09/17/nesteroff/</td>\n",
       "      <td>1914. Das ist Nesteroff!</td>\n",
       "      <td>Штабс-капитан П. Н. Нестеров на днях, увидев в...</td>\n",
       "      <td>Библиотека</td>\n",
       "      <td>Первая мировая</td>\n",
       "      <td>1914/09/17</td>\n",
       "    </tr>\n",
       "    <tr>\n",
       "      <th>3</th>\n",
       "      <td>https://lenta.ru/news/1914/09/17/bulldogn/</td>\n",
       "      <td>1914. Бульдог-гонец под Льежем</td>\n",
       "      <td>Фотограф-корреспондент Daily Mirror рассказыва...</td>\n",
       "      <td>Библиотека</td>\n",
       "      <td>Первая мировая</td>\n",
       "      <td>1914/09/17</td>\n",
       "    </tr>\n",
       "    <tr>\n",
       "      <th>4</th>\n",
       "      <td>https://lenta.ru/news/1914/09/18/zver/</td>\n",
       "      <td>1914. Под Люблином пойман швабский зверь</td>\n",
       "      <td>Лица, приехавшие в Варшаву из Люблина, передаю...</td>\n",
       "      <td>Библиотека</td>\n",
       "      <td>Первая мировая</td>\n",
       "      <td>1914/09/18</td>\n",
       "    </tr>\n",
       "    <tr>\n",
       "      <th>...</th>\n",
       "      <td>...</td>\n",
       "      <td>...</td>\n",
       "      <td>...</td>\n",
       "      <td>...</td>\n",
       "      <td>...</td>\n",
       "      <td>...</td>\n",
       "    </tr>\n",
       "    <tr>\n",
       "      <th>800970</th>\n",
       "      <td>https://lenta.ru/news/2019/12/14/shnur/</td>\n",
       "      <td>Шнуров раскритиковал Гагарину на «Голосе»</td>\n",
       "      <td>Певец Сергей Шнуров раскритиковал свою коллегу...</td>\n",
       "      <td>NaN</td>\n",
       "      <td>ТВ и радио</td>\n",
       "      <td>2019/12/14</td>\n",
       "    </tr>\n",
       "    <tr>\n",
       "      <th>800971</th>\n",
       "      <td>https://lenta.ru/news/2019/12/14/dolg/</td>\n",
       "      <td>В России предложили изменить правила взыскания...</td>\n",
       "      <td>Министерство юстиции России предложило изменит...</td>\n",
       "      <td>NaN</td>\n",
       "      <td>Все</td>\n",
       "      <td>2019/12/14</td>\n",
       "    </tr>\n",
       "    <tr>\n",
       "      <th>800972</th>\n",
       "      <td>https://lenta.ru/news/2019/12/14/dark_euro/</td>\n",
       "      <td>В России назвали «черную дату» для Европы</td>\n",
       "      <td>Испытание США ранее запрещенной Договором о ли...</td>\n",
       "      <td>NaN</td>\n",
       "      <td>Политика</td>\n",
       "      <td>2019/12/14</td>\n",
       "    </tr>\n",
       "    <tr>\n",
       "      <th>800973</th>\n",
       "      <td>https://lenta.ru/news/2019/12/14/meteo/</td>\n",
       "      <td>Россиянам пообещали аномально теплую погоду</td>\n",
       "      <td>В ближайшие дни в европейской части России пог...</td>\n",
       "      <td>NaN</td>\n",
       "      <td>Общество</td>\n",
       "      <td>2019/12/14</td>\n",
       "    </tr>\n",
       "    <tr>\n",
       "      <th>800974</th>\n",
       "      <td>https://lenta.ru/news/2019/12/14/olimp/</td>\n",
       "      <td>В конкурсе прогнозов на АПЛ разыграют 100 тыся...</td>\n",
       "      <td>Ведущие футбольные чемпионаты ушли на зимние к...</td>\n",
       "      <td>NaN</td>\n",
       "      <td>Английский футбол</td>\n",
       "      <td>2019/12/14</td>\n",
       "    </tr>\n",
       "  </tbody>\n",
       "</table>\n",
       "<p>800975 rows × 6 columns</p>\n",
       "</div>"
      ],
      "text/plain": [
       "                                                url  \\\n",
       "0        https://lenta.ru/news/1914/09/16/hungarnn/   \n",
       "1       https://lenta.ru/news/1914/09/16/lermontov/   \n",
       "2       https://lenta.ru/news/1914/09/17/nesteroff/   \n",
       "3        https://lenta.ru/news/1914/09/17/bulldogn/   \n",
       "4            https://lenta.ru/news/1914/09/18/zver/   \n",
       "...                                             ...   \n",
       "800970      https://lenta.ru/news/2019/12/14/shnur/   \n",
       "800971       https://lenta.ru/news/2019/12/14/dolg/   \n",
       "800972  https://lenta.ru/news/2019/12/14/dark_euro/   \n",
       "800973      https://lenta.ru/news/2019/12/14/meteo/   \n",
       "800974      https://lenta.ru/news/2019/12/14/olimp/   \n",
       "\n",
       "                                                    title  \\\n",
       "0       1914. Русские войска вступили в пределы Венгрии     \n",
       "1       1914. Празднование столетия М.Ю. Лермонтова от...   \n",
       "2                                1914. Das ist Nesteroff!   \n",
       "3                         1914. Бульдог-гонец под Льежем    \n",
       "4                1914. Под Люблином пойман швабский зверь   \n",
       "...                                                   ...   \n",
       "800970          Шнуров раскритиковал Гагарину на «Голосе»   \n",
       "800971  В России предложили изменить правила взыскания...   \n",
       "800972          В России назвали «черную дату» для Европы   \n",
       "800973        Россиянам пообещали аномально теплую погоду   \n",
       "800974  В конкурсе прогнозов на АПЛ разыграют 100 тыся...   \n",
       "\n",
       "                                                     text       topic  \\\n",
       "0       Бои у Сопоцкина и Друскеник закончились отступ...  Библиотека   \n",
       "1       Министерство народного просвещения, в виду про...  Библиотека   \n",
       "2       Штабс-капитан П. Н. Нестеров на днях, увидев в...  Библиотека   \n",
       "3       Фотограф-корреспондент Daily Mirror рассказыва...  Библиотека   \n",
       "4       Лица, приехавшие в Варшаву из Люблина, передаю...  Библиотека   \n",
       "...                                                   ...         ...   \n",
       "800970  Певец Сергей Шнуров раскритиковал свою коллегу...         NaN   \n",
       "800971  Министерство юстиции России предложило изменит...         NaN   \n",
       "800972  Испытание США ранее запрещенной Договором о ли...         NaN   \n",
       "800973  В ближайшие дни в европейской части России пог...         NaN   \n",
       "800974  Ведущие футбольные чемпионаты ушли на зимние к...         NaN   \n",
       "\n",
       "                     tags        date  \n",
       "0          Первая мировая  1914/09/16  \n",
       "1          Первая мировая  1914/09/16  \n",
       "2          Первая мировая  1914/09/17  \n",
       "3          Первая мировая  1914/09/17  \n",
       "4          Первая мировая  1914/09/18  \n",
       "...                   ...         ...  \n",
       "800970         ТВ и радио  2019/12/14  \n",
       "800971                Все  2019/12/14  \n",
       "800972           Политика  2019/12/14  \n",
       "800973           Общество  2019/12/14  \n",
       "800974  Английский футбол  2019/12/14  \n",
       "\n",
       "[800975 rows x 6 columns]"
      ]
     },
     "execution_count": 4,
     "metadata": {},
     "output_type": "execute_result"
    }
   ],
   "source": [
    "df = pd.read_csv(\"E:\\\\!docum\\\\!HSE магистратура\\\\Задание проект\\\\данные\\\\lenta-ru-news\\\\lenta-ru-news.csv\")\n",
    "df"
   ]
  },
  {
   "cell_type": "code",
   "execution_count": 3,
   "metadata": {},
   "outputs": [],
   "source": [
    "# df = pd.read_csv(\"/Users/kucumovamilana/Downloads/lenta-ru-news.csv\", low_memory=False)\n",
    "# df"
   ]
  },
  {
   "cell_type": "markdown",
   "metadata": {},
   "source": [
    "## Общие описательные характеристики"
   ]
  },
  {
   "cell_type": "code",
   "execution_count": 4,
   "metadata": {},
   "outputs": [
    {
     "data": {
      "text/plain": [
       "(800975, 6)"
      ]
     },
     "execution_count": 4,
     "metadata": {},
     "output_type": "execute_result"
    }
   ],
   "source": [
    "df.shape"
   ]
  },
  {
   "cell_type": "markdown",
   "metadata": {},
   "source": [
    "В нашем датасете 800975 строк и 6 колонок:\n",
    "\n",
    "`url` - ссылка на новость  \n",
    "`title` - название статьи  \n",
    "`text` - текст статьи  \n",
    "`topic` - тема статьи  \n",
    "`tags` - \"подтема\" статьи (более узкая, чем предыдущая колонка)  \n",
    "`date` - дата публикации статьи\n",
    "\n",
    "Рассмотрим каждую колонку подробнее"
   ]
  },
  {
   "cell_type": "code",
   "execution_count": 5,
   "metadata": {},
   "outputs": [
    {
     "name": "stdout",
     "output_type": "stream",
     "text": [
      "<class 'pandas.core.frame.DataFrame'>\n",
      "RangeIndex: 800975 entries, 0 to 800974\n",
      "Data columns (total 6 columns):\n",
      " #   Column  Non-Null Count   Dtype \n",
      "---  ------  --------------   ----- \n",
      " 0   url     800975 non-null  object\n",
      " 1   title   800975 non-null  object\n",
      " 2   text    800970 non-null  object\n",
      " 3   topic   738973 non-null  object\n",
      " 4   tags    773756 non-null  object\n",
      " 5   date    800975 non-null  object\n",
      "dtypes: object(6)\n",
      "memory usage: 36.7+ MB\n"
     ]
    }
   ],
   "source": [
    "df.info()"
   ]
  },
  {
   "cell_type": "code",
   "execution_count": 6,
   "metadata": {},
   "outputs": [
    {
     "data": {
      "text/plain": [
       "url          0\n",
       "title        0\n",
       "text         5\n",
       "topic    62002\n",
       "tags     27219\n",
       "date         0\n",
       "dtype: int64"
      ]
     },
     "metadata": {},
     "output_type": "display_data"
    }
   ],
   "source": [
    "display(df.isna().sum())"
   ]
  },
  {
   "cell_type": "markdown",
   "metadata": {},
   "source": [
    "Поскольку изучаемые нами данные - текст, тип данных у всех колонок - object. Однако в последней колонке у нас представлены даты, поэтому необходимо будет их преобразовать отдельно\n",
    "\n",
    "Также в данных есть пропуски."
   ]
  },
  {
   "cell_type": "code",
   "execution_count": 7,
   "metadata": {},
   "outputs": [
    {
     "data": {
      "text/html": [
       "<div>\n",
       "<style scoped>\n",
       "    .dataframe tbody tr th:only-of-type {\n",
       "        vertical-align: middle;\n",
       "    }\n",
       "\n",
       "    .dataframe tbody tr th {\n",
       "        vertical-align: top;\n",
       "    }\n",
       "\n",
       "    .dataframe thead th {\n",
       "        text-align: right;\n",
       "    }\n",
       "</style>\n",
       "<table border=\"1\" class=\"dataframe\">\n",
       "  <thead>\n",
       "    <tr style=\"text-align: right;\">\n",
       "      <th></th>\n",
       "      <th>url</th>\n",
       "      <th>title</th>\n",
       "      <th>text</th>\n",
       "      <th>topic</th>\n",
       "      <th>tags</th>\n",
       "      <th>date</th>\n",
       "    </tr>\n",
       "  </thead>\n",
       "  <tbody>\n",
       "    <tr>\n",
       "      <th>count</th>\n",
       "      <td>800975</td>\n",
       "      <td>800975</td>\n",
       "      <td>800970</td>\n",
       "      <td>738973</td>\n",
       "      <td>773756</td>\n",
       "      <td>800975</td>\n",
       "    </tr>\n",
       "    <tr>\n",
       "      <th>unique</th>\n",
       "      <td>800964</td>\n",
       "      <td>797832</td>\n",
       "      <td>800037</td>\n",
       "      <td>23</td>\n",
       "      <td>94</td>\n",
       "      <td>7393</td>\n",
       "    </tr>\n",
       "    <tr>\n",
       "      <th>top</th>\n",
       "      <td>https://lenta.ru/news/2000/10/19/pope/</td>\n",
       "      <td>В Москве объявлено штормовое предупреждение</td>\n",
       "      <td>РИА \"Новости\"</td>\n",
       "      <td>Россия</td>\n",
       "      <td>Все</td>\n",
       "      <td>2019/12/05</td>\n",
       "    </tr>\n",
       "    <tr>\n",
       "      <th>freq</th>\n",
       "      <td>2</td>\n",
       "      <td>21</td>\n",
       "      <td>291</td>\n",
       "      <td>160445</td>\n",
       "      <td>453762</td>\n",
       "      <td>284</td>\n",
       "    </tr>\n",
       "  </tbody>\n",
       "</table>\n",
       "</div>"
      ],
      "text/plain": [
       "                                           url  \\\n",
       "count                                   800975   \n",
       "unique                                  800964   \n",
       "top     https://lenta.ru/news/2000/10/19/pope/   \n",
       "freq                                         2   \n",
       "\n",
       "                                              title           text   topic  \\\n",
       "count                                        800975         800970  738973   \n",
       "unique                                       797832         800037      23   \n",
       "top     В Москве объявлено штормовое предупреждение  РИА \"Новости\"  Россия   \n",
       "freq                                             21            291  160445   \n",
       "\n",
       "          tags        date  \n",
       "count   773756      800975  \n",
       "unique      94        7393  \n",
       "top        Все  2019/12/05  \n",
       "freq    453762         284  "
      ]
     },
     "execution_count": 7,
     "metadata": {},
     "output_type": "execute_result"
    }
   ],
   "source": [
    "df.describe(include=['object'])"
   ]
  },
  {
   "cell_type": "markdown",
   "metadata": {},
   "source": [
    "Из описательных статистик видно, что в данных (особенно интересующая нас переменная text) есть дубли. Посмотрим на них чуть подробнее"
   ]
  },
  {
   "cell_type": "code",
   "execution_count": 8,
   "metadata": {
    "scrolled": false
   },
   "outputs": [
    {
     "data": {
      "text/html": [
       "<div>\n",
       "<style scoped>\n",
       "    .dataframe tbody tr th:only-of-type {\n",
       "        vertical-align: middle;\n",
       "    }\n",
       "\n",
       "    .dataframe tbody tr th {\n",
       "        vertical-align: top;\n",
       "    }\n",
       "\n",
       "    .dataframe thead th {\n",
       "        text-align: right;\n",
       "    }\n",
       "</style>\n",
       "<table border=\"1\" class=\"dataframe\">\n",
       "  <thead>\n",
       "    <tr style=\"text-align: right;\">\n",
       "      <th></th>\n",
       "      <th>url</th>\n",
       "      <th>title</th>\n",
       "      <th>text</th>\n",
       "      <th>topic</th>\n",
       "      <th>tags</th>\n",
       "      <th>date</th>\n",
       "    </tr>\n",
       "  </thead>\n",
       "  <tbody>\n",
       "    <tr>\n",
       "      <th>0</th>\n",
       "      <td>https://lenta.ru/news/2001/06/12/barak/</td>\n",
       "      <td>Фильм \"Барак\" получил Государственную премию</td>\n",
       "      <td>РИА \"Новости\"</td>\n",
       "      <td>Культура</td>\n",
       "      <td>Все</td>\n",
       "      <td>2001/06/12</td>\n",
       "    </tr>\n",
       "    <tr>\n",
       "      <th>1</th>\n",
       "      <td>https://lenta.ru/news/2001/08/08/spy/</td>\n",
       "      <td>Европейский союз составит досье на антиглобали...</td>\n",
       "      <td>Лидеры стран-участниц Европейского Союза приня...</td>\n",
       "      <td>Мир</td>\n",
       "      <td>Все</td>\n",
       "      <td>2001/08/08</td>\n",
       "    </tr>\n",
       "    <tr>\n",
       "      <th>2</th>\n",
       "      <td>https://lenta.ru/news/2001/08/20/spy/</td>\n",
       "      <td>Европейский союз составит досье на антиглобали...</td>\n",
       "      <td>Лидеры стран-участниц Европейского Союза приня...</td>\n",
       "      <td>Мир</td>\n",
       "      <td>Все</td>\n",
       "      <td>2001/08/20</td>\n",
       "    </tr>\n",
       "    <tr>\n",
       "      <th>3</th>\n",
       "      <td>https://lenta.ru/news/2002/10/27/final/</td>\n",
       "      <td>В финале St Petersburg Open Южный проиграл Гро...</td>\n",
       "      <td>Французский теннисист Себастьян Грожан (Sebast...</td>\n",
       "      <td>Спорт</td>\n",
       "      <td>Все</td>\n",
       "      <td>2002/10/27</td>\n",
       "    </tr>\n",
       "    <tr>\n",
       "      <th>4</th>\n",
       "      <td>https://lenta.ru/news/2002/10/28/tennis/</td>\n",
       "      <td>В финале St Petersburg Open Южный проиграл Гро...</td>\n",
       "      <td>Французский теннисист Себастьян Грожан (Sebast...</td>\n",
       "      <td>Спорт</td>\n",
       "      <td>Все</td>\n",
       "      <td>2002/10/28</td>\n",
       "    </tr>\n",
       "    <tr>\n",
       "      <th>...</th>\n",
       "      <td>...</td>\n",
       "      <td>...</td>\n",
       "      <td>...</td>\n",
       "      <td>...</td>\n",
       "      <td>...</td>\n",
       "      <td>...</td>\n",
       "    </tr>\n",
       "    <tr>\n",
       "      <th>1065</th>\n",
       "      <td>https://lenta.ru/news/2017/03/27/arcticoil/</td>\n",
       "      <td>Новак назвал Арктику будущим российской нефтед...</td>\n",
       "      <td>Арктика является стратегическим ресурсом Росси...</td>\n",
       "      <td>69-я параллель</td>\n",
       "      <td>Люди</td>\n",
       "      <td>2017/03/27</td>\n",
       "    </tr>\n",
       "    <tr>\n",
       "      <th>1066</th>\n",
       "      <td>https://lenta.ru/news/2017/08/22/expenscountry/</td>\n",
       "      <td>Россия заняла второе место после США по числу ...</td>\n",
       "      <td>Во всем мире сегодня продается около 500 объек...</td>\n",
       "      <td>Дом</td>\n",
       "      <td>Город</td>\n",
       "      <td>2017/08/22</td>\n",
       "    </tr>\n",
       "    <tr>\n",
       "      <th>1067</th>\n",
       "      <td>https://lenta.ru/news/2017/08/22/excountries/</td>\n",
       "      <td>Россия заняла второе место после США по числу ...</td>\n",
       "      <td>Во всем мире сегодня продается около 500 объек...</td>\n",
       "      <td>Дом</td>\n",
       "      <td>Город</td>\n",
       "      <td>2017/08/22</td>\n",
       "    </tr>\n",
       "    <tr>\n",
       "      <th>1068</th>\n",
       "      <td>https://lenta.ru/news/2018/11/06/tech/</td>\n",
       "      <td>В Санкт-Петербурге пройдет конференция о меняю...</td>\n",
       "      <td>В Санкт-Петербурге 1 и 2 декабря 2018 года на ...</td>\n",
       "      <td>Наука и техника</td>\n",
       "      <td>Все</td>\n",
       "      <td>2018/11/06</td>\n",
       "    </tr>\n",
       "    <tr>\n",
       "      <th>1069</th>\n",
       "      <td>https://lenta.ru/news/2018/11/16/inthecity/</td>\n",
       "      <td>В Санкт-Петербурге пройдет конференция о меняю...</td>\n",
       "      <td>В Санкт-Петербурге 1 и 2 декабря 2018 года на ...</td>\n",
       "      <td>Наука и техника</td>\n",
       "      <td>Все</td>\n",
       "      <td>2018/11/16</td>\n",
       "    </tr>\n",
       "  </tbody>\n",
       "</table>\n",
       "<p>1070 rows × 6 columns</p>\n",
       "</div>"
      ],
      "text/plain": [
       "                                                  url  \\\n",
       "0             https://lenta.ru/news/2001/06/12/barak/   \n",
       "1               https://lenta.ru/news/2001/08/08/spy/   \n",
       "2               https://lenta.ru/news/2001/08/20/spy/   \n",
       "3             https://lenta.ru/news/2002/10/27/final/   \n",
       "4            https://lenta.ru/news/2002/10/28/tennis/   \n",
       "...                                               ...   \n",
       "1065      https://lenta.ru/news/2017/03/27/arcticoil/   \n",
       "1066  https://lenta.ru/news/2017/08/22/expenscountry/   \n",
       "1067    https://lenta.ru/news/2017/08/22/excountries/   \n",
       "1068           https://lenta.ru/news/2018/11/06/tech/   \n",
       "1069      https://lenta.ru/news/2018/11/16/inthecity/   \n",
       "\n",
       "                                                  title  \\\n",
       "0          Фильм \"Барак\" получил Государственную премию   \n",
       "1     Европейский союз составит досье на антиглобали...   \n",
       "2     Европейский союз составит досье на антиглобали...   \n",
       "3     В финале St Petersburg Open Южный проиграл Гро...   \n",
       "4     В финале St Petersburg Open Южный проиграл Гро...   \n",
       "...                                                 ...   \n",
       "1065  Новак назвал Арктику будущим российской нефтед...   \n",
       "1066  Россия заняла второе место после США по числу ...   \n",
       "1067  Россия заняла второе место после США по числу ...   \n",
       "1068  В Санкт-Петербурге пройдет конференция о меняю...   \n",
       "1069  В Санкт-Петербурге пройдет конференция о меняю...   \n",
       "\n",
       "                                                   text            topic  \\\n",
       "0                                         РИА \"Новости\"         Культура   \n",
       "1     Лидеры стран-участниц Европейского Союза приня...              Мир   \n",
       "2     Лидеры стран-участниц Европейского Союза приня...              Мир   \n",
       "3     Французский теннисист Себастьян Грожан (Sebast...            Спорт   \n",
       "4     Французский теннисист Себастьян Грожан (Sebast...            Спорт   \n",
       "...                                                 ...              ...   \n",
       "1065  Арктика является стратегическим ресурсом Росси...   69-я параллель   \n",
       "1066  Во всем мире сегодня продается около 500 объек...              Дом   \n",
       "1067  Во всем мире сегодня продается около 500 объек...              Дом   \n",
       "1068  В Санкт-Петербурге 1 и 2 декабря 2018 года на ...  Наука и техника   \n",
       "1069  В Санкт-Петербурге 1 и 2 декабря 2018 года на ...  Наука и техника   \n",
       "\n",
       "       tags        date  \n",
       "0       Все  2001/06/12  \n",
       "1       Все  2001/08/08  \n",
       "2       Все  2001/08/20  \n",
       "3       Все  2002/10/27  \n",
       "4       Все  2002/10/28  \n",
       "...     ...         ...  \n",
       "1065   Люди  2017/03/27  \n",
       "1066  Город  2017/08/22  \n",
       "1067  Город  2017/08/22  \n",
       "1068    Все  2018/11/06  \n",
       "1069    Все  2018/11/16  \n",
       "\n",
       "[1070 rows x 6 columns]"
      ]
     },
     "execution_count": 8,
     "metadata": {},
     "output_type": "execute_result"
    }
   ],
   "source": [
    "ids = df['text']\n",
    "df_dublicates = df[ids.isin(ids[ids.duplicated()])]\n",
    "df_dublicates.reset_index(drop=True)"
   ]
  },
  {
   "cell_type": "markdown",
   "metadata": {},
   "source": [
    "Действительно, видно, что есть одинаковые новости с разными датами публикации с разницей в несколько дней. При дальнейшей работе необходимо будет это учитывать."
   ]
  },
  {
   "cell_type": "markdown",
   "metadata": {},
   "source": [
    "## Признаки topic и tags"
   ]
  },
  {
   "cell_type": "code",
   "execution_count": 9,
   "metadata": {},
   "outputs": [
    {
     "data": {
      "text/plain": [
       "Россия               160445\n",
       "Мир                  136621\n",
       "Экономика             79528\n",
       "Спорт                 64413\n",
       "NaN                   62002\n",
       "Культура              53797\n",
       "Бывший СССР           53402\n",
       "Наука и техника       53136\n",
       "Интернет и СМИ        44663\n",
       "Из жизни              27605\n",
       "Дом                   21734\n",
       "Силовые структуры     19596\n",
       "Ценности               7766\n",
       "Бизнес                 7399\n",
       "Путешествия            6408\n",
       "69-я параллель         1268\n",
       "Крым                    666\n",
       "Культпросвет            340\n",
       "Легпром                 114\n",
       "Библиотека               65\n",
       "Оружие                    3\n",
       "ЧМ-2014                   2\n",
       "МедНовости                1\n",
       "Сочи                      1\n",
       "Name: topic, dtype: int64"
      ]
     },
     "execution_count": 9,
     "metadata": {},
     "output_type": "execute_result"
    }
   ],
   "source": [
    "df['topic'].value_counts(dropna=False)"
   ]
  },
  {
   "cell_type": "code",
   "execution_count": 10,
   "metadata": {
    "scrolled": false
   },
   "outputs": [
    {
     "data": {
      "text/plain": [
       "Все                     453762\n",
       "Политика                 40716\n",
       "Общество                 35202\n",
       "NaN                      27219\n",
       "Украина                  22523\n",
       "Происшествия             19825\n",
       "Госэкономика             15476\n",
       "Футбол                   15239\n",
       "Кино                     10720\n",
       "Интернет                  9319\n",
       "Бизнес                    9146\n",
       "Следствие и суд           9133\n",
       "Наука                     7932\n",
       "Музыка                    7406\n",
       "Люди                      6567\n",
       "Квартира                  5180\n",
       "Преступность              5057\n",
       "ТВ и радио                4391\n",
       "Космос                    4311\n",
       "Конфликты                 3798\n",
       "События                   3664\n",
       "Coцсети                   3635\n",
       "Бокс и ММА                3549\n",
       "Регионы                   3516\n",
       "Летние виды               3265\n",
       "Деловой климат            3254\n",
       "Явления                   3216\n",
       "Криминал                  3209\n",
       "Звери                     3063\n",
       "Рынки                     2834\n",
       "Мир                       2566\n",
       "Стиль                     2566\n",
       "Оружие                    2457\n",
       "Город                     2380\n",
       "Полиция и спецслужбы      2376\n",
       "Гаджеты                   2351\n",
       "Зимние виды               2293\n",
       "Игры                      2094\n",
       "Пресса                    2048\n",
       "Искусство                 1940\n",
       "Закавказье                1724\n",
       "Деньги                    1639\n",
       "Прибалтика                1464\n",
       "Театр                     1393\n",
       "Техника                   1355\n",
       "Москва                    1348\n",
       "Белоруссия                1344\n",
       "Хоккей                    1338\n",
       "Средняя Азия              1312\n",
       "Дача                      1296\n",
       "Книги                     1294\n",
       "Внешний вид               1047\n",
       "Россия                    1009\n",
       "Достижения                 909\n",
       "Движение                   905\n",
       "Мировой бизнес             854\n",
       "Мнения                     853\n",
       "Офис                       853\n",
       "Экономика                  797\n",
       "Инструменты                742\n",
       "Часы                       679\n",
       "Софт                       663\n",
       "История                    561\n",
       "Еда                        524\n",
       "Молдавия                   520\n",
       "Жизнь                      516\n",
       "Вирусные ролики            514\n",
       "Мемы                       508\n",
       "Вещи                       479\n",
       "Реклама                    443\n",
       "Социальная сфера           437\n",
       "Киберпреступность          376\n",
       "Английский футбол          348\n",
       "Автобизнес                 310\n",
       "Преступная Россия          269\n",
       "Авто                       204\n",
       "Финансы компаний           156\n",
       "Культура                   140\n",
       "Казахстан                   98\n",
       "Туризм                      94\n",
       "Вкусы                       93\n",
       "Первая мировая              65\n",
       "Экология                    61\n",
       "Наследие                    46\n",
       "Госрегулирование            41\n",
       "Производители               36\n",
       "Фотография                  33\n",
       "Аналитика рынка             28\n",
       "Страноведение               27\n",
       "Выборы                      15\n",
       "Нацпроекты                   6\n",
       "Мировой опыт                 6\n",
       "Вооружение                   3\n",
       "Инновации                    1\n",
       "69-я параллель               1\n",
       "Name: tags, dtype: int64"
      ]
     },
     "execution_count": 10,
     "metadata": {},
     "output_type": "execute_result"
    }
   ],
   "source": [
    "pd.set_option('display.max_rows', None)\n",
    "df['tags'].value_counts(dropna=False)"
   ]
  },
  {
   "cell_type": "code",
   "execution_count": 18,
   "metadata": {},
   "outputs": [],
   "source": [
    "pd.set_option('display.max_rows', 10)"
   ]
  },
  {
   "cell_type": "markdown",
   "metadata": {},
   "source": [
    "Классы по признакам topic и tags несбалансированы. Также в данных по колонке tags явно преобладает класс \"Все\". Скорее всего данные с этим классом придется убирать при решении задачи классификации.\n",
    "\n",
    "Посмотрим на графиках распределение данных по классам для большей наглядности"
   ]
  },
  {
   "cell_type": "code",
   "execution_count": 11,
   "metadata": {},
   "outputs": [],
   "source": [
    "graph0_y = df['topic'].value_counts()\n",
    "graph0_x = list(df['topic'].value_counts().index)\n",
    "graph1_y = df['tags'].value_counts()\n",
    "graph1_x = list(df['tags'].value_counts().index)\n",
    "\n",
    "graph1_y = graph1_y[1:]\n",
    "graph1_x = graph1_x[1:]"
   ]
  },
  {
   "cell_type": "code",
   "execution_count": 12,
   "metadata": {},
   "outputs": [
    {
     "data": {
      "image/png": "[encoded data removed]",
      "text/plain": [
       "<Figure size 1224x720 with 1 Axes>"
      ]
     },
     "metadata": {
      "needs_background": "light"
     },
     "output_type": "display_data"
    }
   ],
   "source": [
    "fig, ax = plt.subplots(1, 1, figsize=(17, 10))\n",
    "ax.barh(graph0_x, graph0_y, color ='b')\n",
    "ax.set_title('переменная topic')\n",
    "ax.set_ylabel('значение topic')\n",
    "ax.set_xlabel('частота значений')\n",
    "plt.xticks(rotation = 90)\n",
    "\n",
    "plt.show()"
   ]
  },
  {
   "cell_type": "code",
   "execution_count": 13,
   "metadata": {
    "scrolled": false
   },
   "outputs": [
    {
     "data": {
      "image/png": "[encoded data removed]",
      "text/plain": [
       "<Figure size 1440x2520 with 1 Axes>"
      ]
     },
     "metadata": {
      "needs_background": "light"
     },
     "output_type": "display_data"
    }
   ],
   "source": [
    "fig, ax = plt.subplots(figsize=(20, 35))\n",
    "ax.barh(graph1_x, graph1_y, color ='g')\n",
    "ax.set_title('переменная tags')\n",
    "ax.set_ylabel('значение tags')\n",
    "ax.set_xlabel('частота значений')\n",
    "\n",
    "plt.show()"
   ]
  },
  {
   "cell_type": "markdown",
   "metadata": {},
   "source": [
    "## Признак date"
   ]
  },
  {
   "cell_type": "markdown",
   "metadata": {},
   "source": [
    "Как уже упоминалось выше, признак date в изначальном датасете представлен в типе object, поэтому переведем его в тип Datetime"
   ]
  },
  {
   "cell_type": "code",
   "execution_count": 14,
   "metadata": {},
   "outputs": [],
   "source": [
    "df['date'] = pd.to_datetime(df['date'])"
   ]
  },
  {
   "cell_type": "code",
   "execution_count": 15,
   "metadata": {},
   "outputs": [
    {
     "name": "stdout",
     "output_type": "stream",
     "text": [
      "Дни с 1914-09-16 по 2019-12-14, всего 7393 дней.\n"
     ]
    }
   ],
   "source": [
    "print(f\"Дни с {min(df['date'].dt.date)} по {max(df['date'].dt.date)}, всего {df['date'].nunique()} дней.\")"
   ]
  },
  {
   "cell_type": "markdown",
   "metadata": {},
   "source": [
    "Посмотрим на распределение новостей по годам"
   ]
  },
  {
   "cell_type": "code",
   "execution_count": 16,
   "metadata": {},
   "outputs": [
    {
     "data": {
      "text/plain": [
       "1914        5\n",
       "1999     3081\n",
       "2000    16176\n",
       "2001    21974\n",
       "2002    22179\n",
       "2003    21557\n",
       "2004    24386\n",
       "2005    30718\n",
       "2006    35964\n",
       "2007    36029\n",
       "2008    50389\n",
       "2009    51343\n",
       "2010    44587\n",
       "2011    44822\n",
       "2012    46047\n",
       "2013    43297\n",
       "2014    38075\n",
       "2015    44766\n",
       "2016    63108\n",
       "2017    58792\n",
       "2018    43951\n",
       "2019    59729\n",
       "Name: date, dtype: int64"
      ]
     },
     "execution_count": 16,
     "metadata": {},
     "output_type": "execute_result"
    }
   ],
   "source": [
    "df['date'].dt.year.value_counts().sort_index()"
   ]
  },
  {
   "cell_type": "markdown",
   "metadata": {},
   "source": [
    "В период с 1914 до 1999 новостей нет, поэтому новости за 1914 год - выбросы, которые необходимо будет удалить при изучении изменения новостей во времени\n",
    "\n",
    "Посмотрим на график распределения новостей без 1914 года"
   ]
  },
  {
   "cell_type": "code",
   "execution_count": 26,
   "metadata": {
    "scrolled": false
   },
   "outputs": [
    {
     "data": {
      "image/png": "[encoded data removed]",
      "text/plain": [
       "<Figure size 720x1080 with 1 Axes>"
      ]
     },
     "metadata": {
      "needs_background": "light"
     },
     "output_type": "display_data"
    }
   ],
   "source": [
    "graph2_y = df[df['date'].dt.year != 1914]['date'].dt.year.value_counts().sort_index()\n",
    "graph2_x = list(graph2_y.index.astype(str))\n",
    "\n",
    "fig, ax = plt.subplots(1, 1, figsize=(10, 15))\n",
    "ax.barh(graph2_x, graph2_y)\n",
    "ax.set_title('переменная date')\n",
    "ax.set_ylabel('год публикации статьи')\n",
    "ax.set_xlabel('частота значений')\n",
    "plt.xticks(rotation = 90)\n",
    "\n",
    "plt.show()"
   ]
  },
  {
   "cell_type": "markdown",
   "metadata": {},
   "source": [
    "Проверим, во все ли дни выходили новости в период с 31.08.1999 по 14.12.2019 (выбросные значения 1914г рассматривать не будем)."
   ]
  },
  {
   "cell_type": "code",
   "execution_count": 33,
   "metadata": {},
   "outputs": [
    {
     "data": {
      "text/plain": [
       "Timestamp('1999-08-31 00:00:00')"
      ]
     },
     "execution_count": 33,
     "metadata": {},
     "output_type": "execute_result"
    }
   ],
   "source": [
    "min(df[df['date'].dt.year != 1914]['date'])"
   ]
  },
  {
   "cell_type": "code",
   "execution_count": 34,
   "metadata": {},
   "outputs": [
    {
     "data": {
      "text/plain": [
       "DatetimeIndex(['1999-09-04', '1999-09-05', '1999-09-11', '1999-09-12',\n",
       "               '1999-09-19', '1999-09-25', '1999-09-26', '1999-10-02',\n",
       "               '1999-10-16', '1999-10-23', '1999-10-24', '1999-10-30',\n",
       "               '1999-11-08', '1999-11-28', '2000-01-07', '2000-01-09',\n",
       "               '2000-01-23', '2000-01-30', '2000-02-06', '2000-02-13',\n",
       "               '2000-03-19'],\n",
       "              dtype='datetime64[ns]', freq=None)"
      ]
     },
     "execution_count": 34,
     "metadata": {},
     "output_type": "execute_result"
    }
   ],
   "source": [
    "missimg_date01 = pd.date_range(start='1999-08-31', end='2019-12-14')\n",
    "missimg_date = missimg_date01.difference(df['date'])\n",
    "missimg_date"
   ]
  },
  {
   "cell_type": "markdown",
   "metadata": {},
   "source": [
    "Можно заметить, что есть несколько дат в этом промежутке, которые в датасете не представлены. Даты относятся к 1999 и 2000г году."
   ]
  },
  {
   "cell_type": "markdown",
   "metadata": {},
   "source": [
    "## Признак text"
   ]
  },
  {
   "cell_type": "code",
   "execution_count": 27,
   "metadata": {},
   "outputs": [
    {
     "name": "stdout",
     "output_type": "stream",
     "text": [
      "Максимальная длина текста: 55387.0\n"
     ]
    }
   ],
   "source": [
    "print('Максимальная длина текста:', max(df['text'].str.len()))"
   ]
  },
  {
   "cell_type": "code",
   "execution_count": 28,
   "metadata": {},
   "outputs": [
    {
     "name": "stdout",
     "output_type": "stream",
     "text": [
      "Минимальная длина текста: 3.0\n"
     ]
    }
   ],
   "source": [
    "print('Минимальная длина текста:', min(df['text'].str.len()))"
   ]
  },
  {
   "cell_type": "code",
   "execution_count": 29,
   "metadata": {},
   "outputs": [
    {
     "name": "stdout",
     "output_type": "stream",
     "text": [
      "Средняя длина текста: 1332.309508470979\n"
     ]
    }
   ],
   "source": [
    "print('Средняя длина текста:', np.mean(df['text'].str.len()))"
   ]
  },
  {
   "cell_type": "markdown",
   "metadata": {},
   "source": [
    "В данных есть странные тексты, состоящие из 3х символов. При обучении моделей они явно будут являться выбросами "
   ]
  },
  {
   "cell_type": "markdown",
   "metadata": {},
   "source": [
    "## Признак url"
   ]
  },
  {
   "cell_type": "markdown",
   "metadata": {},
   "source": [
    "Проверим, что все наши новости действительно с сайта lenta.ru"
   ]
  },
  {
   "cell_type": "code",
   "execution_count": 30,
   "metadata": {},
   "outputs": [
    {
     "data": {
      "text/plain": [
       "True    800975\n",
       "Name: url, dtype: int64"
      ]
     },
     "execution_count": 30,
     "metadata": {},
     "output_type": "execute_result"
    }
   ],
   "source": [
    "df['url'].str.startswith('https://lenta.ru/').value_counts()"
   ]
  },
  {
   "cell_type": "code",
   "execution_count": null,
   "metadata": {},
   "outputs": [],
   "source": []
  }
 ],
 "metadata": {
  "kernelspec": {
   "display_name": "Python 3",
   "language": "python",
   "name": "python3"
  },
  "language_info": {
   "codemirror_mode": {
    "name": "ipython",
    "version": 3
   },
   "file_extension": ".py",
   "mimetype": "text/x-python",
   "name": "python",
   "nbconvert_exporter": "python",
   "pygments_lexer": "ipython3",
   "version": "3.7.6"
  },
  "toc": {
   "base_numbering": 1,
   "nav_menu": {},
   "number_sections": false,
   "sideBar": true,
   "skip_h1_title": false,
   "title_cell": "Table of Contents",
   "title_sidebar": "Contents",
   "toc_cell": false,
   "toc_position": {},
   "toc_section_display": true,
   "toc_window_display": true
  }
 },
 "nbformat": 4,
 "nbformat_minor": 4
}
